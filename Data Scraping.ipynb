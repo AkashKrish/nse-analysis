{
 "cells": [
  {
   "cell_type": "code",
   "execution_count": 1,
   "metadata": {
    "collapsed": false
   },
   "outputs": [],
   "source": [
    "import pandas as pd\n",
    "import symbol as s\n",
    "from datetime import datetime\n",
    "from dateutil.relativedelta import relativedelta"
   ]
  },
  {
   "cell_type": "code",
   "execution_count": 2,
   "metadata": {
    "collapsed": false
   },
   "outputs": [],
   "source": [
    "symbol_meta = s.load_symbol_meta()\n",
    "symbol_list = symbol_meta.symbol.copy()"
   ]
  },
  {
   "cell_type": "code",
   "execution_count": 3,
   "metadata": {
    "collapsed": false
   },
   "outputs": [],
   "source": [
    "# max_date = symbol_data.groupby('symbol').max()\n",
    "# diff = (to_date - max_date)\n",
    "# for i in range(diff):\n",
    "#     print(i)\n",
    "#     max_date = max_date + relativedelta(days=1)\n",
    "#     from nsepy.archives import get_price_list\n",
    "#     try:\n",
    "#         get_price_list(max_date)\n",
    "#     except:\n",
    "#         print('unable to fetch data for {0}'.format(max_date))"
   ]
  },
  {
   "cell_type": "code",
   "execution_count": 4,
   "metadata": {
    "collapsed": false
   },
   "outputs": [
    {
     "data": {
      "text/plain": [
       "('20MICRONS', datetime.date(2008, 10, 6), datetime.date(2016, 12, 3))"
      ]
     },
     "execution_count": 4,
     "metadata": {},
     "output_type": "execute_result"
    }
   ],
   "source": [
    "from nsepy import get_history\n",
    "symbol = symbol_meta.ix[0, :]\n",
    "from_date = symbol.date_of_listing\n",
    "to_date = datetime.today().date()\n",
    "symbol = symbol.symbol\n",
    "symbol, from_date, to_date"
   ]
  },
  {
   "cell_type": "code",
   "execution_count": 5,
   "metadata": {
    "collapsed": false
   },
   "outputs": [
    {
     "name": "stdout",
     "output_type": "stream",
     "text": [
      "1 loop, best of 3: 1.19 s per loop\n"
     ]
    }
   ],
   "source": [
    "%timeit get_history(symbol=symbol, start=from_date, end=to_date)"
   ]
  },
  {
   "cell_type": "code",
   "execution_count": 6,
   "metadata": {
    "collapsed": false
   },
   "outputs": [],
   "source": [
    "nse_data = get_history(symbol=symbol, start=from_date, end=to_date)"
   ]
  },
  {
   "cell_type": "code",
   "execution_count": 7,
   "metadata": {
    "collapsed": false
   },
   "outputs": [
    {
     "data": {
      "text/html": [
       "<div>\n",
       "<table border=\"1\" class=\"dataframe\">\n",
       "  <thead>\n",
       "    <tr style=\"text-align: right;\">\n",
       "      <th></th>\n",
       "      <th>Symbol</th>\n",
       "      <th>Series</th>\n",
       "      <th>Prev Close</th>\n",
       "      <th>Open</th>\n",
       "      <th>High</th>\n",
       "      <th>Low</th>\n",
       "      <th>Last</th>\n",
       "      <th>Close</th>\n",
       "      <th>VWAP</th>\n",
       "      <th>Volume</th>\n",
       "      <th>Turnover</th>\n",
       "      <th>Trades</th>\n",
       "      <th>Deliverable Volume</th>\n",
       "      <th>%Deliverble</th>\n",
       "    </tr>\n",
       "    <tr>\n",
       "      <th>Date</th>\n",
       "      <th></th>\n",
       "      <th></th>\n",
       "      <th></th>\n",
       "      <th></th>\n",
       "      <th></th>\n",
       "      <th></th>\n",
       "      <th></th>\n",
       "      <th></th>\n",
       "      <th></th>\n",
       "      <th></th>\n",
       "      <th></th>\n",
       "      <th></th>\n",
       "      <th></th>\n",
       "      <th></th>\n",
       "    </tr>\n",
       "  </thead>\n",
       "  <tbody>\n",
       "    <tr>\n",
       "      <th>2008-10-06</th>\n",
       "      <td>20MICRONS</td>\n",
       "      <td>EQ</td>\n",
       "      <td>55.00</td>\n",
       "      <td>80.0</td>\n",
       "      <td>80.0</td>\n",
       "      <td>31.60</td>\n",
       "      <td>33.55</td>\n",
       "      <td>33.65</td>\n",
       "      <td>41.27</td>\n",
       "      <td>11750865</td>\n",
       "      <td>484907000.0</td>\n",
       "      <td>NaN</td>\n",
       "      <td>991550</td>\n",
       "      <td>0.0844</td>\n",
       "    </tr>\n",
       "    <tr>\n",
       "      <th>2008-10-07</th>\n",
       "      <td>20MICRONS</td>\n",
       "      <td>EQ</td>\n",
       "      <td>33.65</td>\n",
       "      <td>32.0</td>\n",
       "      <td>38.0</td>\n",
       "      <td>27.85</td>\n",
       "      <td>30.05</td>\n",
       "      <td>30.10</td>\n",
       "      <td>31.51</td>\n",
       "      <td>4556711</td>\n",
       "      <td>143599000.0</td>\n",
       "      <td>NaN</td>\n",
       "      <td>333621</td>\n",
       "      <td>0.0732</td>\n",
       "    </tr>\n",
       "    <tr>\n",
       "      <th>2008-10-08</th>\n",
       "      <td>20MICRONS</td>\n",
       "      <td>EQ</td>\n",
       "      <td>30.10</td>\n",
       "      <td>28.0</td>\n",
       "      <td>29.2</td>\n",
       "      <td>25.10</td>\n",
       "      <td>26.40</td>\n",
       "      <td>26.50</td>\n",
       "      <td>26.85</td>\n",
       "      <td>1232192</td>\n",
       "      <td>33090000.0</td>\n",
       "      <td>NaN</td>\n",
       "      <td>92240</td>\n",
       "      <td>0.0749</td>\n",
       "    </tr>\n",
       "    <tr>\n",
       "      <th>2008-10-10</th>\n",
       "      <td>20MICRONS</td>\n",
       "      <td>EQ</td>\n",
       "      <td>26.50</td>\n",
       "      <td>24.9</td>\n",
       "      <td>24.9</td>\n",
       "      <td>21.65</td>\n",
       "      <td>23.65</td>\n",
       "      <td>23.20</td>\n",
       "      <td>23.50</td>\n",
       "      <td>603964</td>\n",
       "      <td>14193000.0</td>\n",
       "      <td>NaN</td>\n",
       "      <td>113128</td>\n",
       "      <td>0.1873</td>\n",
       "    </tr>\n",
       "    <tr>\n",
       "      <th>2008-10-13</th>\n",
       "      <td>20MICRONS</td>\n",
       "      <td>EQ</td>\n",
       "      <td>23.20</td>\n",
       "      <td>24.3</td>\n",
       "      <td>26.6</td>\n",
       "      <td>23.30</td>\n",
       "      <td>24.70</td>\n",
       "      <td>24.65</td>\n",
       "      <td>25.37</td>\n",
       "      <td>449346</td>\n",
       "      <td>11401000.0</td>\n",
       "      <td>NaN</td>\n",
       "      <td>93847</td>\n",
       "      <td>0.2089</td>\n",
       "    </tr>\n",
       "  </tbody>\n",
       "</table>\n",
       "</div>"
      ],
      "text/plain": [
       "               Symbol Series  Prev Close  Open  High    Low   Last  Close  \\\n",
       "Date                                                                        \n",
       "2008-10-06  20MICRONS     EQ       55.00  80.0  80.0  31.60  33.55  33.65   \n",
       "2008-10-07  20MICRONS     EQ       33.65  32.0  38.0  27.85  30.05  30.10   \n",
       "2008-10-08  20MICRONS     EQ       30.10  28.0  29.2  25.10  26.40  26.50   \n",
       "2008-10-10  20MICRONS     EQ       26.50  24.9  24.9  21.65  23.65  23.20   \n",
       "2008-10-13  20MICRONS     EQ       23.20  24.3  26.6  23.30  24.70  24.65   \n",
       "\n",
       "             VWAP    Volume     Turnover  Trades  Deliverable Volume  \\\n",
       "Date                                                                   \n",
       "2008-10-06  41.27  11750865  484907000.0     NaN              991550   \n",
       "2008-10-07  31.51   4556711  143599000.0     NaN              333621   \n",
       "2008-10-08  26.85   1232192   33090000.0     NaN               92240   \n",
       "2008-10-10  23.50    603964   14193000.0     NaN              113128   \n",
       "2008-10-13  25.37    449346   11401000.0     NaN               93847   \n",
       "\n",
       "            %Deliverble  \n",
       "Date                     \n",
       "2008-10-06       0.0844  \n",
       "2008-10-07       0.0732  \n",
       "2008-10-08       0.0749  \n",
       "2008-10-10       0.1873  \n",
       "2008-10-13       0.2089  "
      ]
     },
     "execution_count": 7,
     "metadata": {},
     "output_type": "execute_result"
    }
   ],
   "source": [
    "nse_data.head()"
   ]
  },
  {
   "cell_type": "code",
   "execution_count": null,
   "metadata": {
    "collapsed": true
   },
   "outputs": [],
   "source": []
  },
  {
   "cell_type": "code",
   "execution_count": 2,
   "metadata": {
    "collapsed": false
   },
   "outputs": [
    {
     "data": {
      "text/plain": [
       "['/symbol_meta']"
      ]
     },
     "execution_count": 2,
     "metadata": {},
     "output_type": "execute_result"
    }
   ],
   "source": [
    "store = s.get\n",
    "store.keys()\n",
    "# del store['historical_data_symbol']"
   ]
  }
 ],
 "metadata": {
  "anaconda-cloud": {},
  "kernelspec": {
   "display_name": "Python [conda root]",
   "language": "python",
   "name": "conda-root-py"
  },
  "language_info": {
   "codemirror_mode": {
    "name": "ipython",
    "version": 3
   },
   "file_extension": ".py",
   "mimetype": "text/x-python",
   "name": "python",
   "nbconvert_exporter": "python",
   "pygments_lexer": "ipython3",
   "version": "3.5.2"
  }
 },
 "nbformat": 4,
 "nbformat_minor": 1
}
