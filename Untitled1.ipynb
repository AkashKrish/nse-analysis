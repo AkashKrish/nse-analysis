{
 "cells": [
  {
   "cell_type": "code",
   "execution_count": 12,
   "metadata": {
    "collapsed": false
   },
   "outputs": [
    {
     "ename": "ImportError",
     "evalue": "No module named seaborn",
     "output_type": "error",
     "traceback": [
      "\u001b[1;31m---------------------------------------------------------------------------\u001b[0m",
      "\u001b[1;31mImportError\u001b[0m                               Traceback (most recent call last)",
      "\u001b[1;32m<ipython-input-12-724f76a4023a>\u001b[0m in \u001b[0;36m<module>\u001b[1;34m()\u001b[0m\n\u001b[0;32m      5\u001b[0m \u001b[1;32mimport\u001b[0m \u001b[0mmatplotlib\u001b[0m\u001b[1;33m.\u001b[0m\u001b[0mpyplot\u001b[0m \u001b[1;32mas\u001b[0m \u001b[0mplt\u001b[0m\u001b[1;33m\u001b[0m\u001b[0m\n\u001b[0;32m      6\u001b[0m \u001b[1;32mfrom\u001b[0m \u001b[0mdateutil\u001b[0m\u001b[1;33m.\u001b[0m\u001b[0mrelativedelta\u001b[0m \u001b[1;32mimport\u001b[0m \u001b[0mrelativedelta\u001b[0m\u001b[1;33m\u001b[0m\u001b[0m\n\u001b[1;32m----> 7\u001b[1;33m \u001b[1;32mimport\u001b[0m \u001b[0mseaborn\u001b[0m \u001b[1;32mas\u001b[0m \u001b[0msns\u001b[0m\u001b[1;33m\u001b[0m\u001b[0m\n\u001b[0m\u001b[0;32m      8\u001b[0m \u001b[1;33m\u001b[0m\u001b[0m\n\u001b[0;32m      9\u001b[0m \u001b[0msns\u001b[0m\u001b[1;33m.\u001b[0m\u001b[0mset_style\u001b[0m\u001b[1;33m(\u001b[0m\u001b[1;34m\"dark\"\u001b[0m\u001b[1;33m)\u001b[0m\u001b[1;33m\u001b[0m\u001b[0m\n",
      "\u001b[1;31mImportError\u001b[0m: No module named seaborn"
     ]
    }
   ],
   "source": [
    "import pandas as pd\n",
    "import numpy as np\n",
    "import graphlab\n",
    "from datetime import datetime\n",
    "import matplotlib.pyplot as plt\n",
    "from dateutil.relativedelta import relativedelta\n",
    "import seaborn as sns\n",
    "\n",
    "sns.set_style(\"dark\")\n",
    "\n",
    "%matplotlib inline\n"
   ]
  },
  {
   "cell_type": "code",
   "execution_count": 2,
   "metadata": {
    "collapsed": true
   },
   "outputs": [],
   "source": [
    "def num_missing(x, start='beginning'):\n",
    "    if start == 'valid_index':\n",
    "        x = x[x.first_valid_index():]\n",
    "    return sum(x.isnull())"
   ]
  },
  {
   "cell_type": "code",
   "execution_count": 4,
   "metadata": {
    "collapsed": false
   },
   "outputs": [
    {
     "name": "stdout",
     "output_type": "stream",
     "text": [
      "This non-commercial license of GraphLab Create for academic use is assigned to akash.chandra16@iimranchi.ac.in and will expire on January 07, 2018.\n"
     ]
    },
    {
     "name": "stderr",
     "output_type": "stream",
     "text": [
      "[INFO] graphlab.cython.cy_server: GraphLab Create v2.1 started. Logging: C:\\Users\\Akash\\AppData\\Local\\Temp\\graphlab_server_1483906175.log.0\n"
     ]
    }
   ],
   "source": [
    "train_data = pd.read_hdf('train.h5', 'train')\n",
    "train_data = train_data.sort_values(['id', 'timestamp']).reset_index(drop=True)\n",
    "target = pd.pivot_table(train_data, index='timestamp', columns='id', values='y')\n",
    "train_gdata = graphlab.SFrame(train_data)"
   ]
  },
  {
   "cell_type": "code",
   "execution_count": 5,
   "metadata": {
    "collapsed": false
   },
   "outputs": [
    {
     "name": "stdout",
     "output_type": "stream",
     "text": [
      "Canvas is accessible via web browser at the URL: http://localhost:53985/index.html\n",
      "Opening Canvas in default web browser.\n"
     ]
    }
   ],
   "source": [
    "train_gdata.show()"
   ]
  },
  {
   "cell_type": "code",
   "execution_count": 6,
   "metadata": {
    "collapsed": false
   },
   "outputs": [],
   "source": [
    "zero = train_data.groupby('id').get_group(0).drop('id', axis=1).set_index('timestamp')"
   ]
  },
  {
   "cell_type": "code",
   "execution_count": 7,
   "metadata": {
    "collapsed": false
   },
   "outputs": [
    {
     "data": {
      "text/html": [
       "<div>\n",
       "<table border=\"1\" class=\"dataframe\">\n",
       "  <thead>\n",
       "    <tr style=\"text-align: right;\">\n",
       "      <th></th>\n",
       "      <th>derived_0</th>\n",
       "      <th>derived_1</th>\n",
       "      <th>derived_2</th>\n",
       "      <th>derived_3</th>\n",
       "      <th>derived_4</th>\n",
       "      <th>fundamental_0</th>\n",
       "      <th>fundamental_1</th>\n",
       "      <th>fundamental_2</th>\n",
       "      <th>fundamental_3</th>\n",
       "      <th>fundamental_5</th>\n",
       "      <th>...</th>\n",
       "      <th>technical_36</th>\n",
       "      <th>technical_37</th>\n",
       "      <th>technical_38</th>\n",
       "      <th>technical_39</th>\n",
       "      <th>technical_40</th>\n",
       "      <th>technical_41</th>\n",
       "      <th>technical_42</th>\n",
       "      <th>technical_43</th>\n",
       "      <th>technical_44</th>\n",
       "      <th>y</th>\n",
       "    </tr>\n",
       "  </thead>\n",
       "  <tbody>\n",
       "    <tr>\n",
       "      <th>count</th>\n",
       "      <td>1643.000000</td>\n",
       "      <td>1643.000000</td>\n",
       "      <td>1643.000000</td>\n",
       "      <td>1643.000000</td>\n",
       "      <td>1643.000000</td>\n",
       "      <td>1643.000000</td>\n",
       "      <td>1523.000000</td>\n",
       "      <td>1643.000000</td>\n",
       "      <td>1643.000000</td>\n",
       "      <td>1643.000000</td>\n",
       "      <td>...</td>\n",
       "      <td>1643.000000</td>\n",
       "      <td>1.643000e+03</td>\n",
       "      <td>1.643000e+03</td>\n",
       "      <td>1.643000e+03</td>\n",
       "      <td>1643.000000</td>\n",
       "      <td>1604.000000</td>\n",
       "      <td>1.643000e+03</td>\n",
       "      <td>1.643000e+03</td>\n",
       "      <td>1464.000000</td>\n",
       "      <td>1646.000000</td>\n",
       "    </tr>\n",
       "    <tr>\n",
       "      <th>mean</th>\n",
       "      <td>0.007053</td>\n",
       "      <td>0.094208</td>\n",
       "      <td>-0.004151</td>\n",
       "      <td>-0.007627</td>\n",
       "      <td>0.078735</td>\n",
       "      <td>-0.182882</td>\n",
       "      <td>0.467029</td>\n",
       "      <td>0.177386</td>\n",
       "      <td>-0.146806</td>\n",
       "      <td>-0.126448</td>\n",
       "      <td>...</td>\n",
       "      <td>0.108411</td>\n",
       "      <td>-1.303068e-01</td>\n",
       "      <td>-1.226954e-01</td>\n",
       "      <td>-7.147887e-02</td>\n",
       "      <td>-0.071997</td>\n",
       "      <td>0.006700</td>\n",
       "      <td>1.173902e-02</td>\n",
       "      <td>-5.806482e-01</td>\n",
       "      <td>-0.016308</td>\n",
       "      <td>0.000207</td>\n",
       "    </tr>\n",
       "    <tr>\n",
       "      <th>std</th>\n",
       "      <td>0.272028</td>\n",
       "      <td>0.138474</td>\n",
       "      <td>0.103010</td>\n",
       "      <td>0.050759</td>\n",
       "      <td>0.286064</td>\n",
       "      <td>0.073751</td>\n",
       "      <td>0.105611</td>\n",
       "      <td>0.112094</td>\n",
       "      <td>0.036631</td>\n",
       "      <td>0.001482</td>\n",
       "      <td>...</td>\n",
       "      <td>0.374513</td>\n",
       "      <td>2.692382e-01</td>\n",
       "      <td>2.766527e-01</td>\n",
       "      <td>2.135159e-01</td>\n",
       "      <td>0.070322</td>\n",
       "      <td>0.097973</td>\n",
       "      <td>1.871485e-01</td>\n",
       "      <td>8.609438e-01</td>\n",
       "      <td>0.025338</td>\n",
       "      <td>0.014373</td>\n",
       "    </tr>\n",
       "    <tr>\n",
       "      <th>min</th>\n",
       "      <td>-0.427430</td>\n",
       "      <td>-0.054304</td>\n",
       "      <td>-0.071088</td>\n",
       "      <td>-0.123482</td>\n",
       "      <td>-0.487231</td>\n",
       "      <td>-0.380160</td>\n",
       "      <td>0.209200</td>\n",
       "      <td>-0.106887</td>\n",
       "      <td>-0.263901</td>\n",
       "      <td>-0.129567</td>\n",
       "      <td>...</td>\n",
       "      <td>-0.553699</td>\n",
       "      <td>-9.970396e-01</td>\n",
       "      <td>-9.974228e-01</td>\n",
       "      <td>-9.974228e-01</td>\n",
       "      <td>-0.242448</td>\n",
       "      <td>-0.238166</td>\n",
       "      <td>-9.455906e-01</td>\n",
       "      <td>-2.000000e+00</td>\n",
       "      <td>-0.078894</td>\n",
       "      <td>-0.086094</td>\n",
       "    </tr>\n",
       "    <tr>\n",
       "      <th>25%</th>\n",
       "      <td>-0.169389</td>\n",
       "      <td>-0.041101</td>\n",
       "      <td>-0.040008</td>\n",
       "      <td>-0.049769</td>\n",
       "      <td>-0.177264</td>\n",
       "      <td>-0.250540</td>\n",
       "      <td>0.397381</td>\n",
       "      <td>0.120842</td>\n",
       "      <td>-0.157452</td>\n",
       "      <td>-0.127225</td>\n",
       "      <td>...</td>\n",
       "      <td>-0.157936</td>\n",
       "      <td>-5.613063e-02</td>\n",
       "      <td>-1.674382e-02</td>\n",
       "      <td>-1.998739e-04</td>\n",
       "      <td>-0.122506</td>\n",
       "      <td>-0.059554</td>\n",
       "      <td>-1.786006e-28</td>\n",
       "      <td>-1.750000e+00</td>\n",
       "      <td>-0.034161</td>\n",
       "      <td>-0.007402</td>\n",
       "    </tr>\n",
       "    <tr>\n",
       "      <th>50%</th>\n",
       "      <td>-0.064533</td>\n",
       "      <td>0.090540</td>\n",
       "      <td>-0.012166</td>\n",
       "      <td>0.009563</td>\n",
       "      <td>0.130775</td>\n",
       "      <td>-0.182136</td>\n",
       "      <td>0.502698</td>\n",
       "      <td>0.169803</td>\n",
       "      <td>-0.138726</td>\n",
       "      <td>-0.126561</td>\n",
       "      <td>...</td>\n",
       "      <td>0.039496</td>\n",
       "      <td>-4.337102e-05</td>\n",
       "      <td>-2.033671e-06</td>\n",
       "      <td>-2.547840e-10</td>\n",
       "      <td>-0.071485</td>\n",
       "      <td>-0.000941</td>\n",
       "      <td>2.955212e-38</td>\n",
       "      <td>-1.018864e-04</td>\n",
       "      <td>-0.013518</td>\n",
       "      <td>0.000147</td>\n",
       "    </tr>\n",
       "    <tr>\n",
       "      <th>75%</th>\n",
       "      <td>0.249843</td>\n",
       "      <td>0.183645</td>\n",
       "      <td>0.004717</td>\n",
       "      <td>0.035371</td>\n",
       "      <td>0.305378</td>\n",
       "      <td>-0.115100</td>\n",
       "      <td>0.551529</td>\n",
       "      <td>0.228657</td>\n",
       "      <td>-0.122790</td>\n",
       "      <td>-0.125189</td>\n",
       "      <td>...</td>\n",
       "      <td>0.346153</td>\n",
       "      <td>-8.922537e-11</td>\n",
       "      <td>-3.259245e-11</td>\n",
       "      <td>-1.638771e-19</td>\n",
       "      <td>-0.016827</td>\n",
       "      <td>0.068700</td>\n",
       "      <td>8.025474e-10</td>\n",
       "      <td>-1.563205e-11</td>\n",
       "      <td>0.003088</td>\n",
       "      <td>0.007355</td>\n",
       "    </tr>\n",
       "    <tr>\n",
       "      <th>max</th>\n",
       "      <td>0.473889</td>\n",
       "      <td>0.488096</td>\n",
       "      <td>0.935920</td>\n",
       "      <td>0.072241</td>\n",
       "      <td>0.506011</td>\n",
       "      <td>-0.024650</td>\n",
       "      <td>0.620507</td>\n",
       "      <td>0.549132</td>\n",
       "      <td>-0.096470</td>\n",
       "      <td>-0.123884</td>\n",
       "      <td>...</td>\n",
       "      <td>1.404450</td>\n",
       "      <td>0.000000e+00</td>\n",
       "      <td>0.000000e+00</td>\n",
       "      <td>0.000000e+00</td>\n",
       "      <td>0.058438</td>\n",
       "      <td>0.325816</td>\n",
       "      <td>9.526339e-01</td>\n",
       "      <td>0.000000e+00</td>\n",
       "      <td>0.041618</td>\n",
       "      <td>0.093498</td>\n",
       "    </tr>\n",
       "  </tbody>\n",
       "</table>\n",
       "<p>8 rows × 109 columns</p>\n",
       "</div>"
      ],
      "text/plain": [
       "         derived_0    derived_1    derived_2    derived_3    derived_4  \\\n",
       "count  1643.000000  1643.000000  1643.000000  1643.000000  1643.000000   \n",
       "mean      0.007053     0.094208    -0.004151    -0.007627     0.078735   \n",
       "std       0.272028     0.138474     0.103010     0.050759     0.286064   \n",
       "min      -0.427430    -0.054304    -0.071088    -0.123482    -0.487231   \n",
       "25%      -0.169389    -0.041101    -0.040008    -0.049769    -0.177264   \n",
       "50%      -0.064533     0.090540    -0.012166     0.009563     0.130775   \n",
       "75%       0.249843     0.183645     0.004717     0.035371     0.305378   \n",
       "max       0.473889     0.488096     0.935920     0.072241     0.506011   \n",
       "\n",
       "       fundamental_0  fundamental_1  fundamental_2  fundamental_3  \\\n",
       "count    1643.000000    1523.000000    1643.000000    1643.000000   \n",
       "mean       -0.182882       0.467029       0.177386      -0.146806   \n",
       "std         0.073751       0.105611       0.112094       0.036631   \n",
       "min        -0.380160       0.209200      -0.106887      -0.263901   \n",
       "25%        -0.250540       0.397381       0.120842      -0.157452   \n",
       "50%        -0.182136       0.502698       0.169803      -0.138726   \n",
       "75%        -0.115100       0.551529       0.228657      -0.122790   \n",
       "max        -0.024650       0.620507       0.549132      -0.096470   \n",
       "\n",
       "       fundamental_5     ...       technical_36  technical_37  technical_38  \\\n",
       "count    1643.000000     ...        1643.000000  1.643000e+03  1.643000e+03   \n",
       "mean       -0.126448     ...           0.108411 -1.303068e-01 -1.226954e-01   \n",
       "std         0.001482     ...           0.374513  2.692382e-01  2.766527e-01   \n",
       "min        -0.129567     ...          -0.553699 -9.970396e-01 -9.974228e-01   \n",
       "25%        -0.127225     ...          -0.157936 -5.613063e-02 -1.674382e-02   \n",
       "50%        -0.126561     ...           0.039496 -4.337102e-05 -2.033671e-06   \n",
       "75%        -0.125189     ...           0.346153 -8.922537e-11 -3.259245e-11   \n",
       "max        -0.123884     ...           1.404450  0.000000e+00  0.000000e+00   \n",
       "\n",
       "       technical_39  technical_40  technical_41  technical_42  technical_43  \\\n",
       "count  1.643000e+03   1643.000000   1604.000000  1.643000e+03  1.643000e+03   \n",
       "mean  -7.147887e-02     -0.071997      0.006700  1.173902e-02 -5.806482e-01   \n",
       "std    2.135159e-01      0.070322      0.097973  1.871485e-01  8.609438e-01   \n",
       "min   -9.974228e-01     -0.242448     -0.238166 -9.455906e-01 -2.000000e+00   \n",
       "25%   -1.998739e-04     -0.122506     -0.059554 -1.786006e-28 -1.750000e+00   \n",
       "50%   -2.547840e-10     -0.071485     -0.000941  2.955212e-38 -1.018864e-04   \n",
       "75%   -1.638771e-19     -0.016827      0.068700  8.025474e-10 -1.563205e-11   \n",
       "max    0.000000e+00      0.058438      0.325816  9.526339e-01  0.000000e+00   \n",
       "\n",
       "       technical_44            y  \n",
       "count   1464.000000  1646.000000  \n",
       "mean      -0.016308     0.000207  \n",
       "std        0.025338     0.014373  \n",
       "min       -0.078894    -0.086094  \n",
       "25%       -0.034161    -0.007402  \n",
       "50%       -0.013518     0.000147  \n",
       "75%        0.003088     0.007355  \n",
       "max        0.041618     0.093498  \n",
       "\n",
       "[8 rows x 109 columns]"
      ]
     },
     "execution_count": 7,
     "metadata": {},
     "output_type": "execute_result"
    }
   ],
   "source": [
    "zero.describe()"
   ]
  },
  {
   "cell_type": "code",
   "execution_count": 43,
   "metadata": {
    "collapsed": false
   },
   "outputs": [],
   "source": [
    "cor=target.corr()\n",
    "cor.loc[:,:] =  np.tril(cor, k=-1)\n",
    "cor = cor.stack()"
   ]
  },
  {
   "cell_type": "code",
   "execution_count": 47,
   "metadata": {
    "collapsed": false
   },
   "outputs": [
    {
     "ename": "ValueError",
     "evalue": "cannot insert id, already exists",
     "output_type": "error",
     "traceback": [
      "\u001b[1;31m---------------------------------------------------------------------------\u001b[0m",
      "\u001b[1;31mValueError\u001b[0m                                Traceback (most recent call last)",
      "\u001b[1;32m<ipython-input-47-575aa65f97cf>\u001b[0m in \u001b[0;36m<module>\u001b[1;34m()\u001b[0m\n\u001b[1;32m----> 1\u001b[1;33m \u001b[0mones\u001b[0m \u001b[1;33m=\u001b[0m \u001b[0mcor\u001b[0m\u001b[1;33m[\u001b[0m\u001b[0mcor\u001b[0m \u001b[1;33m>\u001b[0m \u001b[1;36m0.5\u001b[0m\u001b[1;33m]\u001b[0m\u001b[1;33m.\u001b[0m\u001b[0mreset_index\u001b[0m\u001b[1;33m(\u001b[0m\u001b[1;33m)\u001b[0m\u001b[1;33m.\u001b[0m\u001b[0mloc\u001b[0m\u001b[1;33m[\u001b[0m\u001b[1;33m:\u001b[0m\u001b[1;33m,\u001b[0m\u001b[1;33m[\u001b[0m\u001b[1;34m'level_0'\u001b[0m\u001b[1;33m,\u001b[0m\u001b[1;34m'level_1'\u001b[0m\u001b[1;33m]\u001b[0m\u001b[1;33m]\u001b[0m\u001b[1;33m\u001b[0m\u001b[0m\n\u001b[0m\u001b[0;32m      2\u001b[0m \u001b[0mones\u001b[0m \u001b[1;33m=\u001b[0m \u001b[0mones\u001b[0m\u001b[1;33m.\u001b[0m\u001b[0mquery\u001b[0m\u001b[1;33m(\u001b[0m\u001b[1;34m'level_0 not in level_1'\u001b[0m\u001b[1;33m)\u001b[0m\u001b[1;33m\u001b[0m\u001b[0m\n\u001b[0;32m      3\u001b[0m \u001b[0mgroups\u001b[0m\u001b[1;33m=\u001b[0m\u001b[0mones\u001b[0m\u001b[1;33m.\u001b[0m\u001b[0mgroupby\u001b[0m\u001b[1;33m(\u001b[0m\u001b[1;34m'level_0'\u001b[0m\u001b[1;33m)\u001b[0m\u001b[1;33m.\u001b[0m\u001b[0magg\u001b[0m\u001b[1;33m(\u001b[0m\u001b[1;32mlambda\u001b[0m \u001b[0mx\u001b[0m\u001b[1;33m:\u001b[0m \u001b[0mset\u001b[0m\u001b[1;33m(\u001b[0m\u001b[0mchain\u001b[0m\u001b[1;33m(\u001b[0m\u001b[0mx\u001b[0m\u001b[1;33m.\u001b[0m\u001b[0mlevel_0\u001b[0m\u001b[1;33m,\u001b[0m\u001b[0mx\u001b[0m\u001b[1;33m.\u001b[0m\u001b[0mlevel_1\u001b[0m\u001b[1;33m)\u001b[0m\u001b[1;33m)\u001b[0m\u001b[1;33m)\u001b[0m\u001b[1;33m.\u001b[0m\u001b[0mvalues\u001b[0m\u001b[1;33m\u001b[0m\u001b[0m\n\u001b[0;32m      4\u001b[0m \u001b[1;32mprint\u001b[0m\u001b[1;33m(\u001b[0m\u001b[1;34m'groups of assets which are correlated on y value more then 0.4'\u001b[0m\u001b[1;33m)\u001b[0m\u001b[1;33m\u001b[0m\u001b[0m\n\u001b[0;32m      5\u001b[0m \u001b[1;32mfor\u001b[0m \u001b[0mg\u001b[0m\u001b[1;33m,\u001b[0m\u001b[0mi\u001b[0m \u001b[1;32min\u001b[0m \u001b[0mzip\u001b[0m\u001b[1;33m(\u001b[0m\u001b[0mgroups\u001b[0m\u001b[1;33m,\u001b[0m\u001b[0mrange\u001b[0m\u001b[1;33m(\u001b[0m\u001b[0mlen\u001b[0m\u001b[1;33m(\u001b[0m\u001b[0mgroups\u001b[0m\u001b[1;33m)\u001b[0m\u001b[1;33m)\u001b[0m\u001b[1;33m)\u001b[0m\u001b[1;33m:\u001b[0m\u001b[1;33m\u001b[0m\u001b[0m\n",
      "\u001b[1;32mC:\\Users\\Akash\\Anaconda3\\envs\\gl-env\\lib\\site-packages\\pandas\\core\\series.pyc\u001b[0m in \u001b[0;36mreset_index\u001b[1;34m(self, level, drop, name, inplace)\u001b[0m\n\u001b[0;32m    942\u001b[0m         \u001b[1;32melse\u001b[0m\u001b[1;33m:\u001b[0m\u001b[1;33m\u001b[0m\u001b[0m\n\u001b[0;32m    943\u001b[0m             \u001b[0mdf\u001b[0m \u001b[1;33m=\u001b[0m \u001b[0mself\u001b[0m\u001b[1;33m.\u001b[0m\u001b[0mto_frame\u001b[0m\u001b[1;33m(\u001b[0m\u001b[0mname\u001b[0m\u001b[1;33m)\u001b[0m\u001b[1;33m\u001b[0m\u001b[0m\n\u001b[1;32m--> 944\u001b[1;33m             \u001b[1;32mreturn\u001b[0m \u001b[0mdf\u001b[0m\u001b[1;33m.\u001b[0m\u001b[0mreset_index\u001b[0m\u001b[1;33m(\u001b[0m\u001b[0mlevel\u001b[0m\u001b[1;33m=\u001b[0m\u001b[0mlevel\u001b[0m\u001b[1;33m,\u001b[0m \u001b[0mdrop\u001b[0m\u001b[1;33m=\u001b[0m\u001b[0mdrop\u001b[0m\u001b[1;33m)\u001b[0m\u001b[1;33m\u001b[0m\u001b[0m\n\u001b[0m\u001b[0;32m    945\u001b[0m \u001b[1;33m\u001b[0m\u001b[0m\n\u001b[0;32m    946\u001b[0m     \u001b[1;32mdef\u001b[0m \u001b[0m__unicode__\u001b[0m\u001b[1;33m(\u001b[0m\u001b[0mself\u001b[0m\u001b[1;33m)\u001b[0m\u001b[1;33m:\u001b[0m\u001b[1;33m\u001b[0m\u001b[0m\n",
      "\u001b[1;32mC:\\Users\\Akash\\Anaconda3\\envs\\gl-env\\lib\\site-packages\\pandas\\core\\frame.pyc\u001b[0m in \u001b[0;36mreset_index\u001b[1;34m(self, level, drop, inplace, col_level, col_fill)\u001b[0m\n\u001b[0;32m   2938\u001b[0m                     \u001b[0mlevel_values\u001b[0m \u001b[1;33m=\u001b[0m \u001b[0m_maybe_casted_values\u001b[0m\u001b[1;33m(\u001b[0m\u001b[0mlev\u001b[0m\u001b[1;33m,\u001b[0m \u001b[0mlab\u001b[0m\u001b[1;33m)\u001b[0m\u001b[1;33m\u001b[0m\u001b[0m\n\u001b[0;32m   2939\u001b[0m                     \u001b[1;32mif\u001b[0m \u001b[0mlevel\u001b[0m \u001b[1;32mis\u001b[0m \u001b[0mNone\u001b[0m \u001b[1;32mor\u001b[0m \u001b[0mi\u001b[0m \u001b[1;32min\u001b[0m \u001b[0mlevel\u001b[0m\u001b[1;33m:\u001b[0m\u001b[1;33m\u001b[0m\u001b[0m\n\u001b[1;32m-> 2940\u001b[1;33m                         \u001b[0mnew_obj\u001b[0m\u001b[1;33m.\u001b[0m\u001b[0minsert\u001b[0m\u001b[1;33m(\u001b[0m\u001b[1;36m0\u001b[0m\u001b[1;33m,\u001b[0m \u001b[0mcol_name\u001b[0m\u001b[1;33m,\u001b[0m \u001b[0mlevel_values\u001b[0m\u001b[1;33m)\u001b[0m\u001b[1;33m\u001b[0m\u001b[0m\n\u001b[0m\u001b[0;32m   2941\u001b[0m \u001b[1;33m\u001b[0m\u001b[0m\n\u001b[0;32m   2942\u001b[0m         \u001b[1;32melif\u001b[0m \u001b[1;32mnot\u001b[0m \u001b[0mdrop\u001b[0m\u001b[1;33m:\u001b[0m\u001b[1;33m\u001b[0m\u001b[0m\n",
      "\u001b[1;32mC:\\Users\\Akash\\Anaconda3\\envs\\gl-env\\lib\\site-packages\\pandas\\core\\frame.pyc\u001b[0m in \u001b[0;36minsert\u001b[1;34m(self, loc, column, value, allow_duplicates)\u001b[0m\n\u001b[0;32m   2438\u001b[0m         \u001b[0mvalue\u001b[0m \u001b[1;33m=\u001b[0m \u001b[0mself\u001b[0m\u001b[1;33m.\u001b[0m\u001b[0m_sanitize_column\u001b[0m\u001b[1;33m(\u001b[0m\u001b[0mcolumn\u001b[0m\u001b[1;33m,\u001b[0m \u001b[0mvalue\u001b[0m\u001b[1;33m)\u001b[0m\u001b[1;33m\u001b[0m\u001b[0m\n\u001b[0;32m   2439\u001b[0m         self._data.insert(loc, column, value,\n\u001b[1;32m-> 2440\u001b[1;33m                           allow_duplicates=allow_duplicates)\n\u001b[0m\u001b[0;32m   2441\u001b[0m \u001b[1;33m\u001b[0m\u001b[0m\n\u001b[0;32m   2442\u001b[0m     \u001b[1;32mdef\u001b[0m \u001b[0massign\u001b[0m\u001b[1;33m(\u001b[0m\u001b[0mself\u001b[0m\u001b[1;33m,\u001b[0m \u001b[1;33m**\u001b[0m\u001b[0mkwargs\u001b[0m\u001b[1;33m)\u001b[0m\u001b[1;33m:\u001b[0m\u001b[1;33m\u001b[0m\u001b[0m\n",
      "\u001b[1;32mC:\\Users\\Akash\\Anaconda3\\envs\\gl-env\\lib\\site-packages\\pandas\\core\\internals.pyc\u001b[0m in \u001b[0;36minsert\u001b[1;34m(self, loc, item, value, allow_duplicates)\u001b[0m\n\u001b[0;32m   3443\u001b[0m         \u001b[1;32mif\u001b[0m \u001b[1;32mnot\u001b[0m \u001b[0mallow_duplicates\u001b[0m \u001b[1;32mand\u001b[0m \u001b[0mitem\u001b[0m \u001b[1;32min\u001b[0m \u001b[0mself\u001b[0m\u001b[1;33m.\u001b[0m\u001b[0mitems\u001b[0m\u001b[1;33m:\u001b[0m\u001b[1;33m\u001b[0m\u001b[0m\n\u001b[0;32m   3444\u001b[0m             \u001b[1;31m# Should this be a different kind of error??\u001b[0m\u001b[1;33m\u001b[0m\u001b[1;33m\u001b[0m\u001b[0m\n\u001b[1;32m-> 3445\u001b[1;33m             \u001b[1;32mraise\u001b[0m \u001b[0mValueError\u001b[0m\u001b[1;33m(\u001b[0m\u001b[1;34m'cannot insert %s, already exists'\u001b[0m \u001b[1;33m%\u001b[0m \u001b[0mitem\u001b[0m\u001b[1;33m)\u001b[0m\u001b[1;33m\u001b[0m\u001b[0m\n\u001b[0m\u001b[0;32m   3446\u001b[0m \u001b[1;33m\u001b[0m\u001b[0m\n\u001b[0;32m   3447\u001b[0m         \u001b[1;32mif\u001b[0m \u001b[1;32mnot\u001b[0m \u001b[0misinstance\u001b[0m\u001b[1;33m(\u001b[0m\u001b[0mloc\u001b[0m\u001b[1;33m,\u001b[0m \u001b[0mint\u001b[0m\u001b[1;33m)\u001b[0m\u001b[1;33m:\u001b[0m\u001b[1;33m\u001b[0m\u001b[0m\n",
      "\u001b[1;31mValueError\u001b[0m: cannot insert id, already exists"
     ]
    }
   ],
   "source": [
    "ones = cor[cor > 0.5].reset_index().loc[:,['level_0','level_1']]\n",
    "ones = ones.query('level_0 not in level_1')\n",
    "groups=ones.groupby('level_0').agg(lambda x: set(chain(x.level_0,x.level_1))).values\n",
    "print('groups of assets which are correlated on y value more then 0.4')\n",
    "for g,i in zip(groups,range(len(groups))):\n",
    "    print(i,g)"
   ]
  },
  {
   "cell_type": "code",
   "execution_count": 8,
   "metadata": {
    "collapsed": false
   },
   "outputs": [
    {
     "data": {
      "text/plain": [
       "id                     0\n",
       "timestamp              0\n",
       "derived_0          72959\n",
       "derived_1          81029\n",
       "derived_2         398651\n",
       "derived_3         149471\n",
       "derived_4         406458\n",
       "fundamental_0      23947\n",
       "fundamental_1     679070\n",
       "fundamental_2     368840\n",
       "fundamental_3     454380\n",
       "fundamental_5     962020\n",
       "fundamental_6     701625\n",
       "fundamental_7      26340\n",
       "fundamental_8     373166\n",
       "fundamental_9     565567\n",
       "fundamental_10    112977\n",
       "fundamental_11    368840\n",
       "fundamental_12    110871\n",
       "fundamental_13    355138\n",
       "fundamental_14    356084\n",
       "fundamental_15    354897\n",
       "fundamental_16    355138\n",
       "fundamental_17     97222\n",
       "fundamental_18     15833\n",
       "fundamental_19     54588\n",
       "fundamental_20    110871\n",
       "fundamental_21     54333\n",
       "fundamental_22    558488\n",
       "fundamental_23    356723\n",
       "                   ...  \n",
       "technical_13        4764\n",
       "technical_14       14184\n",
       "technical_16       19981\n",
       "technical_17        4279\n",
       "technical_18       20016\n",
       "technical_19        2320\n",
       "technical_20        4764\n",
       "technical_21        2236\n",
       "technical_22           0\n",
       "technical_24       71146\n",
       "technical_25      208056\n",
       "technical_27        2420\n",
       "technical_28      262916\n",
       "technical_29       61615\n",
       "technical_30        4764\n",
       "technical_31      182678\n",
       "technical_32       19165\n",
       "technical_33       14535\n",
       "technical_34           0\n",
       "technical_35        3155\n",
       "technical_36        2552\n",
       "technical_37       19165\n",
       "technical_38       19165\n",
       "technical_39       20016\n",
       "technical_40        2236\n",
       "technical_41       44189\n",
       "technical_42       20001\n",
       "technical_43        4686\n",
       "technical_44      236779\n",
       "y                      0\n",
       "dtype: int64"
      ]
     },
     "execution_count": 8,
     "metadata": {},
     "output_type": "execute_result"
    }
   ],
   "source": [
    "train_data.apply(num_missing)"
   ]
  },
  {
   "cell_type": "code",
   "execution_count": 10,
   "metadata": {
    "collapsed": false
   },
   "outputs": [
    {
     "ename": "NameError",
     "evalue": "name 'plt' is not defined",
     "output_type": "error",
     "traceback": [
      "\u001b[1;31m---------------------------------------------------------------------------\u001b[0m",
      "\u001b[1;31mNameError\u001b[0m                                 Traceback (most recent call last)",
      "\u001b[1;32m<ipython-input-10-ba89c062af32>\u001b[0m in \u001b[0;36m<module>\u001b[1;34m()\u001b[0m\n\u001b[0;32m     10\u001b[0m \u001b[0mind\u001b[0m \u001b[1;33m=\u001b[0m \u001b[0mnp\u001b[0m\u001b[1;33m.\u001b[0m\u001b[0marange\u001b[0m\u001b[1;33m(\u001b[0m\u001b[0mlen\u001b[0m\u001b[1;33m(\u001b[0m\u001b[0mlabels\u001b[0m\u001b[1;33m)\u001b[0m\u001b[1;33m)\u001b[0m\u001b[1;33m\u001b[0m\u001b[0m\n\u001b[0;32m     11\u001b[0m \u001b[0mwidth\u001b[0m \u001b[1;33m=\u001b[0m \u001b[1;36m0.9\u001b[0m\u001b[1;33m\u001b[0m\u001b[0m\n\u001b[1;32m---> 12\u001b[1;33m \u001b[0mfig\u001b[0m\u001b[1;33m,\u001b[0m \u001b[0max\u001b[0m \u001b[1;33m=\u001b[0m \u001b[0mplt\u001b[0m\u001b[1;33m.\u001b[0m\u001b[0msubplots\u001b[0m\u001b[1;33m(\u001b[0m\u001b[0mfigsize\u001b[0m\u001b[1;33m=\u001b[0m\u001b[1;33m(\u001b[0m\u001b[1;36m12\u001b[0m\u001b[1;33m,\u001b[0m\u001b[1;36m40\u001b[0m\u001b[1;33m)\u001b[0m\u001b[1;33m)\u001b[0m\u001b[1;33m\u001b[0m\u001b[0m\n\u001b[0m\u001b[0;32m     13\u001b[0m \u001b[0mrects\u001b[0m \u001b[1;33m=\u001b[0m \u001b[0max\u001b[0m\u001b[1;33m.\u001b[0m\u001b[0mbarh\u001b[0m\u001b[1;33m(\u001b[0m\u001b[0mind\u001b[0m\u001b[1;33m,\u001b[0m \u001b[0mnp\u001b[0m\u001b[1;33m.\u001b[0m\u001b[0marray\u001b[0m\u001b[1;33m(\u001b[0m\u001b[0mvalues\u001b[0m\u001b[1;33m)\u001b[0m\u001b[1;33m,\u001b[0m \u001b[0mcolor\u001b[0m\u001b[1;33m=\u001b[0m\u001b[1;34m'y'\u001b[0m\u001b[1;33m)\u001b[0m\u001b[1;33m\u001b[0m\u001b[0m\n\u001b[0;32m     14\u001b[0m \u001b[0max\u001b[0m\u001b[1;33m.\u001b[0m\u001b[0mset_yticks\u001b[0m\u001b[1;33m(\u001b[0m\u001b[0mind\u001b[0m\u001b[1;33m+\u001b[0m\u001b[1;33m(\u001b[0m\u001b[1;33m(\u001b[0m\u001b[0mwidth\u001b[0m\u001b[1;33m)\u001b[0m\u001b[1;33m/\u001b[0m\u001b[1;36m2.\u001b[0m\u001b[1;33m)\u001b[0m\u001b[1;33m)\u001b[0m\u001b[1;33m\u001b[0m\u001b[0m\n",
      "\u001b[1;31mNameError\u001b[0m: name 'plt' is not defined"
     ]
    }
   ],
   "source": [
    "# Now let us look at the correlation coefficient of each of these variables #\n",
    "x_cols = [col for col in train_data.columns if col not in ['id','timestamp','y']]\n",
    "\n",
    "labels = []\n",
    "values = []\n",
    "for col in x_cols:\n",
    "    labels.append(col)\n",
    "    values.append(np.corrcoef(train_data[col].values, train_data.y.values)[0,1])\n",
    "    \n",
    "ind = np.arange(len(labels))\n",
    "width = 0.9\n",
    "fig, ax = plt.subplots(figsize=(12,40))\n",
    "rects = ax.barh(ind, np.array(values), color='y')\n",
    "ax.set_yticks(ind+((width)/2.))\n",
    "ax.set_yticklabels(labels, rotation='horizontal')\n",
    "ax.set_xlabel(\"Correlation coefficient\")\n",
    "ax.set_title(\"Correlation coefficient\")\n",
    "#autolabel(rects)\n",
    "plt.show()"
   ]
  },
  {
   "cell_type": "code",
   "execution_count": null,
   "metadata": {
    "collapsed": true
   },
   "outputs": [],
   "source": []
  }
 ],
 "metadata": {
  "anaconda-cloud": {},
  "kernelspec": {
   "display_name": "Python [conda env:gl-env]",
   "language": "python",
   "name": "conda-env-gl-env-py"
  },
  "language_info": {
   "codemirror_mode": {
    "name": "ipython",
    "version": 2
   },
   "file_extension": ".py",
   "mimetype": "text/x-python",
   "name": "python",
   "nbconvert_exporter": "python",
   "pygments_lexer": "ipython2",
   "version": "2.7.11"
  }
 },
 "nbformat": 4,
 "nbformat_minor": 1
}
