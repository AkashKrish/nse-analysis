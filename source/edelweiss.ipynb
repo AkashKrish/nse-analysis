{
 "cells": [
  {
   "cell_type": "code",
   "execution_count": 1,
   "metadata": {
    "collapsed": false
   },
   "outputs": [],
   "source": [
    "import pandas as pd\n",
    "import numpy as np\n",
    "\n",
    "from selenium import webdriver\n",
    "from selenium.webdriver.support.ui import WebDriverWait\n",
    "from selenium.webdriver.support import expected_conditions as EC\n",
    "from selenium.webdriver.common.by import By\n",
    "from selenium.common.exceptions import TimeoutException\n",
    "from selenium.webdriver.common.keys import Keys\n",
    "\n",
    "from bs4 import BeautifulSoup\n",
    "import time\n",
    "\n",
    "from symbol import Symbol\n",
    "from helpers import rename_columns, SafeHDFStore, clean_file\n",
    "from edelweiss import *\n",
    "import warnings\n",
    "warnings.filterwarnings('ignore')"
   ]
  },
  {
   "cell_type": "code",
   "execution_count": 17,
   "metadata": {
    "collapsed": false
   },
   "outputs": [
    {
     "name": "stdout",
     "output_type": "stream",
     "text": [
      "Index([], dtype='object', name='symbol')\n"
     ]
    },
    {
     "data": {
      "text/plain": [
       "1484"
      ]
     },
     "execution_count": 17,
     "metadata": {},
     "output_type": "execute_result"
    }
   ],
   "source": [
    "s = Symbol()\n",
    "symbol_list = s.symbol_list\n",
    "\n",
    "edelweiss_list = load_initial_data('list')\n",
    "ratio_data = load_initial_data('ratios')\n",
    "pnl_annual = load_initial_data('pnl_annual')\n",
    "balancesheet = load_initial_data('balancesheet')\n",
    "cashflow = load_initial_data('cashflow')\n",
    "peers = load_initial_data('peers')\n",
    "\n",
    "edelweiss_list = edelweiss_list.append(pd.DataFrame(index=symbol_list.index))\n",
    "edelweiss_list = edelweiss_list.reset_index().drop_duplicates(['symbol']).set_index('symbol')\n",
    "load_list = edelweiss_list.index[edelweiss_list.edelweiss_url.isnull()]\n",
    "print(load_list)\n",
    "len(symbol_list)\n"
   ]
  },
  {
   "cell_type": "code",
   "execution_count": 6,
   "metadata": {
    "collapsed": false,
    "scrolled": true
   },
   "outputs": [],
   "source": [
    "list_symbol = edelweiss_list.index.unique()\n",
    "ratio_symbol = ratio_data.symbol.unique()\n",
    "pnl_symbol = pnl_annual.symbol.unique()\n",
    "bs_symbol = balancesheet.symbol.unique()\n",
    "cf_symbol = cashflow.symbol.unique()\n",
    "peer_symbol = peers.symbol.unique()"
   ]
  },
  {
   "cell_type": "code",
   "execution_count": 7,
   "metadata": {
    "collapsed": false
   },
   "outputs": [
    {
     "data": {
      "text/plain": [
       "1156"
      ]
     },
     "execution_count": 7,
     "metadata": {},
     "output_type": "execute_result"
    }
   ],
   "source": [
    "ls_rs = np.intersect1d(list_symbol, ratio_symbol, True)\n",
    "pnl_bs = np.intersect1d(pnl_symbol, bs_symbol)\n",
    "cf_pr = np.intersect1d(cf_symbol, peer_symbol)\n",
    "ls_bs = np.intersect1d(ls_rs, pnl_bs)\n",
    "def intersect(*d):\n",
    "    sets = iter(map(set, d))\n",
    "    result =  set(d[0]).intersection(*d)\n",
    "    return list(result)\n",
    "com = intersect(list_symbol, ratio_symbol, pnl_symbol, bs_symbol, cf_symbol, peer_symbol)\n",
    "len(com)"
   ]
  },
  {
   "cell_type": "code",
   "execution_count": 31,
   "metadata": {
    "collapsed": false
   },
   "outputs": [
    {
     "name": "stdout",
     "output_type": "stream",
     "text": [
      "Successful for bel\n"
     ]
    }
   ],
   "source": [
    "def symbol_lsos(symbol):\n",
    "    edelweiss_list = load_initial_data('list')\n",
    "    ratio_data = load_initial_data('ratios')\n",
    "    pnl_annual = load_initial_data('pnl_annual')\n",
    "    balancesheet = load_initial_data('balancesheet')\n",
    "    cashflow = load_initial_data('cashflow')\n",
    "    peers = load_initial_data('peers')\n",
    "    edelweiss_list.loc[symbol] = np.nan\n",
    "    ratio_data = ratio_data.drop(ratio_data.loc[ratio_data.symbol == symbol].index)\n",
    "    pnl_annual = pnl_annual.drop(pnl_annual.loc[pnl_annual.symbol == symbol].index)\n",
    "    balancesheet = balancesheet.drop(balancesheet.loc[balancesheet.symbol == symbol].index)\n",
    "    cashflow = cashflow.drop(cashflow.loc[cashflow.symbol == symbol].index)\n",
    "    peers = peers.drop(peers.loc[peers.symbol == symbol].index)\n",
    "    \n",
    "    \n",
    "    soup = BeautifulSoup(driver.page_source)\n",
    "    edelweiss_list.loc[symbol] = create_header_list(soup).rename(symbol)\n",
    "    edelweiss_list = edelweiss_list[[\n",
    "        'edelweiss_url', 'company_name', 'sector',\n",
    "        'pe_ratio', 'div_yield', 'mcap', 'beta', 'bullish',\n",
    "        'bse_identifier', 'nse_identifier', 'isin_identifier',\n",
    "        'promoter_holding', 'fii_holding', 'dii_mf_holding', 'others_holding'\n",
    "    ]]\n",
    "    with SafeHDFStore('edelweiss.h5') as store:\n",
    "        store.put('list', value=edelweiss_list)\n",
    "        store.put('ratios', value=ratio_data)\n",
    "        store.put('pnl_annual', value=pnl_annual)\n",
    "        store.put('balancesheet', value=balancesheet)\n",
    "        store.put('cashflow', value=cashflow)\n",
    "        store.put('peers', value=peers)\n",
    "    print('Successful for {0}'.format(symbol))\n",
    "    \n",
    "symbol_lsos('bel')"
   ]
  },
  {
   "cell_type": "code",
   "execution_count": null,
   "metadata": {
    "collapsed": false,
    "scrolled": true
   },
   "outputs": [],
   "source": [
    "load_edelweiss_symbol_list(load_list)"
   ]
  },
  {
   "cell_type": "code",
   "execution_count": null,
   "metadata": {
    "collapsed": false
   },
   "outputs": [],
   "source": [
    "yearly_click = driver.find_element(By.XPATH, '''//a[@gtmdir-label=\"Yearly\"]''')\n",
    "hlyearly_click = driver.find_element(By.XPATH, '''//a[@gtmdir-label=\"Half Yearly\"]''')\n",
    "quarterly_click = driver.find_element(By.XPATH, '''//a[@gtmdir-label=\"Quarterly\"]''')\n",
    "for i in range(10):\n",
    "    quarterly_click.click()    \n",
    "    yearly_click.click()\n",
    "    hlyearly_click.click()"
   ]
  },
  {
   "cell_type": "code",
   "execution_count": null,
   "metadata": {
    "collapsed": false,
    "scrolled": false
   },
   "outputs": [],
   "source": [
    "print(edelweiss_list.columns)\n",
    "print(ratio_data.columns)\n",
    "print(pnl_annual.columns)\n",
    "print(balancesheet.columns)\n",
    "print(cashflow.columns)\n",
    "print(peers.columns)\n",
    "\n",
    "\n",
    "print(len(edelweiss_list.dropna(how='all')))\n",
    "print(len(ratio_data.symbol.unique()))\n",
    "print(len(pnl_annual.symbol.unique()))\n",
    "# print(len(pnl_semi_annual.symbol.unique()))\n",
    "# print(len(pnl_quarterly.symbol.unique()))\n",
    "print(len(balancesheet.symbol.unique()))\n",
    "print(len(peers.symbol.unique()))"
   ]
  },
  {
   "cell_type": "code",
   "execution_count": null,
   "metadata": {
    "collapsed": false
   },
   "outputs": [],
   "source": [
    "edelweiss_list = load_initial_data('list')\n",
    "ratio_data = load_initial_data('ratios')\n",
    "pnl_annual = load_initial_data('pnl_annual')\n",
    "balancesheet = load_initial_data('balancesheet')\n",
    "cashflow = load_initial_data('cashflow')\n",
    "peers = load_initial_data('peers')"
   ]
  },
  {
   "cell_type": "code",
   "execution_count": null,
   "metadata": {
    "collapsed": false
   },
   "outputs": [],
   "source": []
  },
  {
   "cell_type": "code",
   "execution_count": null,
   "metadata": {
    "collapsed": false
   },
   "outputs": [],
   "source": []
  },
  {
   "cell_type": "code",
   "execution_count": null,
   "metadata": {
    "collapsed": false
   },
   "outputs": [],
   "source": []
  },
  {
   "cell_type": "code",
   "execution_count": null,
   "metadata": {
    "collapsed": false
   },
   "outputs": [],
   "source": []
  },
  {
   "cell_type": "code",
   "execution_count": null,
   "metadata": {
    "collapsed": false
   },
   "outputs": [],
   "source": []
  },
  {
   "cell_type": "code",
   "execution_count": 37,
   "metadata": {
    "collapsed": false
   },
   "outputs": [],
   "source": [
    "def create_header_list(soup):\n",
    "\n",
    "    edelweiss_list = pd.Series()\n",
    "    symbol_info_soup = soup.find('div', {'id': 'market-overview'})\n",
    "    edelweiss_list['edelweiss_url'] = soup.find('meta', {'name': 'twitter:url'})['content'].strip()\n",
    "    edelweiss_list['company_name'] = symbol_info_soup.find('span', {'ng-bind': '::vm.compname'}).text.strip()\n",
    "    edelweiss_list['sector'] = symbol_info_soup.find('a', {'href': '', 'class': 'ng-binding'}).text.strip()\n",
    "    try:\n",
    "        edelweiss_list['bullish'] = soup.find('div', {'class': 'bullish'}).find('span').text.strip()\n",
    "    except:\n",
    "        pass\n",
    "\n",
    "    basic_stats = soup.find('div', {'class': 'row border border-top mobile-chart-info'})\n",
    "    basic_stats_spans = basic_stats.find_all('span', {'class': 'value ng-binding'})\n",
    "    edelweiss_list['pe_ratio'] = basic_stats_spans[1].text.strip()\n",
    "    edelweiss_list['div_yield'] = basic_stats_spans[2].text.strip()\n",
    "    edelweiss_list['mcap'] = basic_stats_spans[3].text.replace(',', '').strip()\n",
    "    edelweiss_list['beta'] = basic_stats_spans[4].text.strip()\n",
    "\n",
    "    identifier = soup.find('div', {'id': 'shareholding-pattern'})\n",
    "    identifier_list = identifier.find('div', {'class': 'share'}).find_all('li')\n",
    "    edelweiss_list['bse_identifier'] = identifier_list[0].text[5:].strip()\n",
    "    edelweiss_list['nse_identifier'] = identifier_list[1].text[5:].strip()\n",
    "    edelweiss_list['isin_identifier'] = identifier_list[2].text[6:].strip()\n",
    "    try:\n",
    "        shareholding = soup.find('div', {'id': 'shareholding-pattern'})\n",
    "        shareholding_span = shareholding.find('div', {'config': 'vm.SHChartData'}).find_all('span')\n",
    "        edelweiss_list['promoter_holding'] = shareholding_span[0].text[:-1].strip().split()[-1]\n",
    "        edelweiss_list['fii_holding'] = shareholding_span[1].text[:-1].strip().split()[-1]\n",
    "        edelweiss_list['dii_mf_holding'] = shareholding_span[2].text[:-1].strip().split()[-1]\n",
    "        edelweiss_list['others_holding'] = shareholding_span[3].text[:-1].strip().split()[-1]\n",
    "    except:\n",
    "        edelweiss_list['promoter_holding'] = 0\n",
    "        edelweiss_list['fii_holding'] = 0\n",
    "        edelweiss_list['dii_mf_holding'] = 0\n",
    "        edelweiss_list['others_holding'] = 0\n",
    "    return edelweiss_list"
   ]
  },
  {
   "cell_type": "code",
   "execution_count": 14,
   "metadata": {
    "collapsed": false
   },
   "outputs": [],
   "source": [
    "driver = webdriver.Firefox()\n",
    "driver.get('https://www.edelweiss.in/quotes/equity/Andhra-Cements-Ltd-19?q=andhra%20cements%20ltd')"
   ]
  },
  {
   "cell_type": "code",
   "execution_count": 18,
   "metadata": {
    "collapsed": false
   },
   "outputs": [],
   "source": [
    "soup = BeautifulSoup(driver.page_source)\n",
    "edelweiss_list.loc['mcdowell-n'] = create_header_list(soup).rename('mcdowell-n')\n",
    "edelweiss_list = edelweiss_list[[\n",
    "    'edelweiss_url', 'company_name', 'sector',\n",
    "    'pe_ratio', 'div_yield', 'mcap', 'beta', 'bullish',\n",
    "    'bse_identifier', 'nse_identifier', 'isin_identifier',\n",
    "    'promoter_holding', 'fii_holding', 'dii_mf_holding', 'others_holding'\n",
    "]]"
   ]
  },
  {
   "cell_type": "code",
   "execution_count": 19,
   "metadata": {
    "collapsed": false,
    "scrolled": true
   },
   "outputs": [],
   "source": [
    "edelweiss_list.to_hdf('edelweiss.h5', 'list')"
   ]
  },
  {
   "cell_type": "code",
   "execution_count": null,
   "metadata": {
    "collapsed": false,
    "scrolled": true
   },
   "outputs": [],
   "source": [
    "def click(element, driver=driver):\n",
    "    driver.execute_script(\"window.scrollTo(0, 0)\")\n",
    "#     time.sleep(1)\n",
    "#     element.click()\n",
    "    \n",
    "def load_pnl_data(driver):\n",
    "    standalone_element = driver.find_element(By.XPATH, '//a[@ng-click=\"vm.FormPNLData(vm.PNLActivePeriod,false)\"]')\n",
    "    consolidated_element = driver.find_element(By.XPATH, '//a[@ng-click=\"vm.FormPNLData(vm.PNLActivePeriod,true)\"]')\n",
    " \n",
    "    yearly_ = driver.find_element(By.XPATH, '''//li[@ng-class=\"{'active':vm.PNLActivePeriod==='Yearly'}\"]''')\n",
    "    hlyearly_ = driver.find_element(By.XPATH, '''//li[@ng-class=\"{'active':vm.PNLActivePeriod==='HalfYearly'}\"]''')\n",
    "    quarterly_ = driver.find_element(By.XPATH, '''//li[@ng-class=\"{'active':vm.PNLActivePeriod==='Quarterly'}\"]''')\n",
    "\n",
    "    yearly_click = driver.find_element(By.XPATH, '''//a[@gtmdir-label=\"Yearly\"]''')\n",
    "    hlyearly_click = driver.find_element(By.XPATH, '''//a[@gtmdir-label=\"Half Yearly\"]''')\n",
    "    quarterly_click = driver.find_element(By.XPATH, '''//a[@gtmdir-label=\"Quarterly\"]''')\n",
    "    quarterly_click.click()\n",
    "    i = 0\n",
    "    for period, period_click in zip([yearly_, hlyearly_, quarterly_], [yearly_click, hlyearly_click, quarterly_click]):\n",
    "        if i == 0 and period.get_attribute('class') == 'active':\n",
    "            pass\n",
    "        else:\n",
    "            period_click.click()\n",
    "        if standalone_element.get_attribute('class') == '':\n",
    "            standalone_element.click()\n",
    "        temp_soup = BeautifulSoup(driver.page_source, 'html.parser')\n",
    "        soum_soup = temp_soup.find('div', {'id': 'financial-health'}).find('table', {'ng-show':'!vm.PNLConsolidated'})\n",
    "        standalone = pd.read_html(str(soum_soup), index_col=0, header=0)[0]\n",
    "        standalone['type'] = 'standalone'\n",
    "        \n",
    "        if consolidated_element.get_attribute('class') == 'ng-hide':\n",
    "            consolidated = pd.DataFrame()\n",
    "        else:\n",
    "            consolidated_element.click()\n",
    "\n",
    "            temp_soup = BeautifulSoup(driver.page_source,'html.parser')\n",
    "            soum_soup = temp_soup.find('div', {'id': 'financial-health'}).find('table', {'ng-show':'vm.PNLConsolidated'})\n",
    "            consolidated = pd.read_html(str(soum_soup), index_col=0, header=0)[0]\n",
    "            consolidated['type'] = 'consolidated'\n",
    "        if i == 0:\n",
    "            yearly = standalone.append(consolidated).reset_index().replace('-', np.nan)\n",
    "        elif i == 1:\n",
    "            hlyearly = standalone.append(consolidated).reset_index().replace('-', np.nan)\n",
    "        else:\n",
    "            quarterly = standalone.append(consolidated).reset_index().replace('-', np.nan)\n",
    "        i = i + 1\n",
    "        print(i)\n",
    "    return yearly.reset_index(drop=True), hlyearly.reset_index(drop=True), quarterly.reset_index(drop=True)\n",
    "\n",
    "def load_balance_sheet(driver):\n",
    "    standalone_element = driver.find_element(By.XPATH, '//a[@ng-click=\"vm.BSConsolidated=false\"]')\n",
    "    consolidated_element = driver.find_element(By.XPATH, '//a[@ng-click=\"vm.BSConsolidated=true\"]')\n",
    "    \n",
    "    if standalone_element.get_attribute('class') == '':\n",
    "            standalone_element.click()\n",
    "    temp_soup = BeautifulSoup(driver.page_source, 'html.parser')\n",
    "    balancesheet_soup = temp_soup.find('div', {'ui-view': 'balancesheet'})\n",
    "    standalone_ = pd.read_html(str(balancesheet_soup), index_col=0, header=0)[0]\n",
    "    standalone_['type'] = 'standalone'\n",
    "\n",
    "    if consolidated_element.get_attribute('class') == 'ng-hide':\n",
    "        consolidated_ = pd.DataFrame()\n",
    "    else:\n",
    "        consolidated_element.click()\n",
    "\n",
    "        temp_soup = BeautifulSoup(driver.page_source, 'html.parser')\n",
    "        balancesheet_soup = temp_soup.find('div', {'ui-view': 'balancesheet'})\n",
    "        consolidated_ = pd.read_html(str(balancesheet_soup), index_col=0, header=0)[1]\n",
    "        consolidated_['type'] = 'consolidated'\n",
    "        \n",
    "    balancesheet = standalone_.append(consolidated_).reset_index().replace('-', np.nan)\n",
    "    return balancesheet.reset_index(drop=True)"
   ]
  },
  {
   "cell_type": "code",
   "execution_count": null,
   "metadata": {
    "collapsed": true
   },
   "outputs": [],
   "source": []
  }
 ],
 "metadata": {
  "anaconda-cloud": {},
  "kernelspec": {
   "display_name": "Python [conda root]",
   "language": "python",
   "name": "conda-root-py"
  },
  "language_info": {
   "codemirror_mode": {
    "name": "ipython",
    "version": 3
   },
   "file_extension": ".py",
   "mimetype": "text/x-python",
   "name": "python",
   "nbconvert_exporter": "python",
   "pygments_lexer": "ipython3",
   "version": "3.5.2"
  }
 },
 "nbformat": 4,
 "nbformat_minor": 2
}
