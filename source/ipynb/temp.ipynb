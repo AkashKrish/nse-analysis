{
 "cells": [
  {
   "cell_type": "code",
   "execution_count": 21,
   "metadata": {
    "collapsed": false,
    "deletable": true,
    "editable": true
   },
   "outputs": [],
   "source": [
    "import requests\n",
    "from bs4 import BeautifulSoup\n",
    "import pandas as pd\n",
    "import numpy as np\n",
    "import re\n",
    "from io import StringIO\n",
    "from nse_old import NSE\n",
    "from nsepy import get_history\n",
    "from market import TRADED_DATES\n",
    "from helpers import SafeHDFStore, clean_file, rename_columns, get_date, get_daily_volatility\n",
    "import warnings\n",
    "import time"
   ]
  },
  {
   "cell_type": "code",
   "execution_count": 22,
   "metadata": {
    "collapsed": false,
    "deletable": true,
    "editable": true
   },
   "outputs": [],
   "source": [
    "symbol_meta = NSE().symbol_meta"
   ]
  },
  {
   "cell_type": "code",
   "execution_count": 23,
   "metadata": {
    "collapsed": false,
    "deletable": true,
    "editable": true
   },
   "outputs": [],
   "source": [
    "from nse import NSE"
   ]
  },
  {
   "cell_type": "code",
   "execution_count": 24,
   "metadata": {
    "collapsed": false,
    "deletable": true,
    "editable": true
   },
   "outputs": [],
   "source": [
    "nse = NSE()"
   ]
  },
  {
   "cell_type": "code",
   "execution_count": 27,
   "metadata": {
    "collapsed": false
   },
   "outputs": [
    {
     "name": "stdout",
     "output_type": "stream",
     "text": [
      "10.537630319595337 0.17525029182434082\n",
      "9.243574142456055 0.3253765106201172\n",
      "10.180083751678467 0.16495561599731445\n",
      "11.184508085250854 0.11490511894226074\n",
      "1 loop, best of 3: 9.57 s per loop\n"
     ]
    }
   ],
   "source": [
    "%timeit fetch_eod_data('infy')"
   ]
  },
  {
   "cell_type": "code",
   "execution_count": 26,
   "metadata": {
    "collapsed": false
   },
   "outputs": [],
   "source": [
    "def fetch_eod_data(symbol, start=None):\n",
    "    '''Fetch all End of Day(EOD) data from NSE'''\n",
    "    from_date = get_date(start, start=True)\n",
    "    to_date = get_date(start=False)\n",
    "\n",
    "    # Get data from NSE\n",
    "    t1 = time.time()\n",
    "    try:\n",
    "        nse_data = get_history(\n",
    "            symbol=symbol, start=from_date,\n",
    "            end=to_date, series='EQ'\n",
    "        )\n",
    "        if nse_data.empty:\n",
    "            warnings.warn(\n",
    "                'No data recieved from NSE for {0} from {1} to {2}'.\n",
    "                format(symbol, from_date.date(), to_date.date())\n",
    "            )\n",
    "            return nse_data\n",
    "        nse_data.drop(\n",
    "            ['Series', 'Deliverable Volume'], 1, inplace=True\n",
    "        )\n",
    "        nse_data.index = pd.to_datetime(nse_data.index)\n",
    "    except Exception as e:\n",
    "        warnings.warn(\n",
    "            'Could not get data for {0} from NSE due to {1}'.format(symbol, e)\n",
    "        )\n",
    "        return pd.DataFrame()\n",
    "    t2 = time.time()\n",
    "    rename_columns(nse_data)\n",
    "    nse_data['symbol'] = [symbol for i in range(len(nse_data))]\n",
    "    nse_data = nse_data.reset_index().sort_values(['symbol', 'date', 'close'])\n",
    "    nse_data = nse_data.drop_duplicates(\n",
    "        subset=['symbol', 'date'], keep='last'\n",
    "    )\n",
    "    stock_sprecific_traded_dates = TRADED_DATES[from_date:to_date]\n",
    "    total_trades = stock_sprecific_traded_dates.join(nse_data).drop(['days_count'], axis=1)\n",
    "    missing_dates = total_trades.index.difference(nse_data.index)\n",
    "    missing_count = len(missing_dates)\n",
    "\n",
    "    if missing_count > 0:\n",
    "        non_null_close = total_trades[['prev_close', 'close']].dropna()\n",
    "        if len(non_null_close[non_null_close.close.shift(1) != non_null_close.prev_close]) <= 1:\n",
    "            total_trades[['symbol', 'close']] = total_trades[['symbol', 'close']].ffill()\n",
    "            total_trades.prev_close = total_trades.prev_close.fillna(total_trades.close)\n",
    "            total_trades.open = total_trades.open.fillna(total_trades.close)\n",
    "            total_trades.high = total_trades.high.fillna(total_trades.close)\n",
    "            total_trades.low = total_trades.low.fillna(total_trades.close)\n",
    "            total_trades['last'] = total_trades['last'].fillna(total_trades.close)\n",
    "            total_trades.vwap = total_trades.vwap.fillna(total_trades.close)\n",
    "            total_trades.volume = total_trades.volume.fillna(0)\n",
    "            total_trades.turnover = total_trades.turnover.fillna(0)\n",
    "        else:\n",
    "            print('Error with data in {0}'.format(symbol))\n",
    "    nse_data = nse_data.set_index(['symbol', 'date'])\n",
    "    nse_data['high_low_spread'] = (nse_data.high - nse_data.low) / nse_data.low\n",
    "    nse_data['open_close_spread'] = (nse_data.close - nse_data.open) / nse_data.open\n",
    "    nse_data['simple_returns'] = (\n",
    "        (nse_data.close - nse_data.prev_close) / nse_data.prev_close\n",
    "    )\n",
    "    nse_data['log_returns'] = np.log(nse_data.close / nse_data.prev_close)\n",
    "    nse_data['daily_volatility'] = get_daily_volatility(nse_data.log_returns)\n",
    "\n",
    "    # Adjusting other columns for maintaining integrity\n",
    "    nse_data['pct_deliverble'] = nse_data['pct_deliverble'] * 100\n",
    "    nse_data = nse_data.astype(np.float)\n",
    "    t3 = time.time()\n",
    "    print(t2-t1, t3-t2)\n",
    "    return nse_data"
   ]
  },
  {
   "cell_type": "code",
   "execution_count": null,
   "metadata": {
    "collapsed": true
   },
   "outputs": [],
   "source": []
  },
  {
   "cell_type": "code",
   "execution_count": null,
   "metadata": {
    "collapsed": true
   },
   "outputs": [],
   "source": []
  },
  {
   "cell_type": "code",
   "execution_count": null,
   "metadata": {
    "collapsed": true
   },
   "outputs": [],
   "source": [
    "nse.force_load_data('symbol_meta')"
   ]
  }
 ],
 "metadata": {
  "anaconda-cloud": {},
  "kernelspec": {
   "display_name": "Python [conda root]",
   "language": "python",
   "name": "conda-root-py"
  },
  "language_info": {
   "codemirror_mode": {
    "name": "ipython",
    "version": 3
   },
   "file_extension": ".py",
   "mimetype": "text/x-python",
   "name": "python",
   "nbconvert_exporter": "python",
   "pygments_lexer": "ipython3",
   "version": "3.5.3"
  }
 },
 "nbformat": 4,
 "nbformat_minor": 2
}
