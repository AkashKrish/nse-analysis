{
 "cells": [
  {
   "cell_type": "code",
   "execution_count": 4,
   "metadata": {
    "collapsed": false
   },
   "outputs": [],
   "source": [
    "import pandas as pd\n",
    "import os\n",
    "from datetime import datetime\n",
    "from memory_profiler import memory_usage\n",
    "import pandas as pd\n",
    "import numpy as np\n",
    "from datetime import datetime\n",
    "import matplotlib.pyplot as plt\n",
    "from dateutil.relativedelta import relativedelta\n",
    "from symbol import Symbol\n",
    "from index import Index\n",
    "from portifolio import Portifolio\n",
    "import seaborn as sns\n",
    "from sklearn.preprocessing import scale\n",
    "from scipy import stats\n",
    "\n",
    "\n",
    "sns.set_style(\"dark\")\n",
    "\n",
    "%matplotlib inline"
   ]
  },
  {
   "cell_type": "code",
   "execution_count": 82,
   "metadata": {
    "collapsed": true
   },
   "outputs": [],
   "source": [
    "sym = Symbol()\n",
    "ind = Index()\n",
    "port = Portifolio()\n",
    "\n",
    "ret = sym.get_symbol_data()\n",
    "risk_free_rate = pd.read_hdf('constants.h5', 'risk_free_rate')\n",
    "risk_free_rate_d = risk_free_rate['D'].resample('D').mean()\n",
    "risk_free_rate_w = risk_free_rate['W'].resample('W').mean()\n",
    "risk_free_rate_m = risk_free_rate['M'].resample('M').mean()\n",
    "risk_free_rate_q = risk_free_rate['Q'].resample('Q').mean()\n",
    "risk_free_rate_a = risk_free_rate['A'].resample('A').mean()\n",
    "\n",
    "\n",
    "idata =sym.get_symbol_data('returns', 'infy', start='2016', end='2016-12-31').infy\n",
    "index = ind.get_index_returns('nifty_50', start='2016', end='2016-12-31').nifty_50\n",
    "RISK_FREE_RATE = np.log(1 + 0.075) / 250"
   ]
  },
  {
   "cell_type": "code",
   "execution_count": 18,
   "metadata": {
    "collapsed": false
   },
   "outputs": [],
   "source": [
    "def basic_regression(returns=idata, benchmark_returns=index,\n",
    "                     risk_free_rate=RISK_FREE_RATE):\n",
    "    symbol = returns.name\n",
    "    benchmark = benchmark_returns.name\n",
    "    returns = pd.DataFrame(returns)\n",
    "    returns = returns.join(benchmark_returns)\n",
    "    returns = returns.dropna(subset=[benchmark])\n",
    "    returns = returns - risk_free_rate\n",
    "    slope, intercept, r_value, _, _ = stats.linregress(\n",
    "        y=returns[symbol], x=returns[benchmark]\n",
    "    )\n",
    "    std_dev = returns[symbol].std()\n",
    "    regression_measures = pd.Series(\n",
    "        [symbol, benchmark, intercept, slope, std_dev, r_value**2],\n",
    "        index=['symbol', 'benchmark', 'alpha', 'beta', 'std_dev', 'r_square']\n",
    "    )\n",
    "    return regression_measures\n",
    "\n",
    "def basic_regressions(returns=idata, benchmark_returns=index,\n",
    "                      risk_free_rate=RISK_FREE_RATE):\n",
    "    if not (isinstance(returns, pd.Series) and isinstance(benchmark_returns, pd.Series) ):\n",
    "        raise KeyError\n",
    "    returns = returns.dropna()\n",
    "    benchmark_returns = benchmark_returns.dropna()\n",
    "    common_index = np.intersect1d(returns.index, benchmark_returns.index)\n",
    "    returns = returns[returns.index.isin(common_index)]\n",
    "    benchmark_returns = benchmark_returns[benchmark_returns.index.isin(common_index)]\n",
    "    returns = returns - risk_free_rate\n",
    "    benchmark_returns = benchmark_returns - risk_free_rate\n",
    "    slope, intercept, r_value, _, _ = stats.linregress(\n",
    "        y=returns, x=benchmark_returns\n",
    "    )\n",
    "    std_dev = returns.std()\n",
    "    regression_measures = pd.Series(\n",
    "        [returns.name, benchmark_returns.name, intercept, slope, std_dev, r_value**2],\n",
    "        index=['symbol', 'benchmark', 'alpha', 'beta', 'std_dev', 'r_square']\n",
    "    )\n",
    "    return regression_measures"
   ]
  },
  {
   "cell_type": "code",
   "execution_count": 83,
   "metadata": {
    "collapsed": true
   },
   "outputs": [],
   "source": [
    "def set_risk_free_rate(returns=idata, risk_free_rate=risk_free_rate):\n",
    "    if isinstance(returns, pd.Series):\n",
    "        returns = pd.DataFrame(returns)\n",
    "    else:\n",
    "        returns = returns.copy()\n",
    "    freq = str(returns.index.inferred_freq)[0]\n",
    "    if freq == 'N':\n",
    "        if (returns.index[1] - returns.index[0]).days < 10:\n",
    "            risk_free_rate = risk_free_rate_d\n",
    "        else:\n",
    "            risk_free_rate = risk_free_rate_a\n",
    "    elif freq == 'W':\n",
    "        risk_free_rate = risk_free_rate_w\n",
    "    elif freq == 'M':\n",
    "        risk_free_rate = risk_free_rate_m\n",
    "    elif freq == 'Q':\n",
    "        risk_free_rate = risk_free_rate_q\n",
    "    elif freq == 'A':\n",
    "        risk_free_rate = risk_free_rate_a\n",
    "#     risk_free_rate = risk_free_rate[freq].resample(freq).first()\n",
    "    for symbol in returns.columns:\n",
    "        returns[symbol] = risk_free_rate\n",
    "    return returns"
   ]
  },
  {
   "cell_type": "code",
   "execution_count": 90,
   "metadata": {
    "collapsed": false
   },
   "outputs": [
    {
     "name": "stdout",
     "output_type": "stream",
     "text": [
      "1000 loops, best of 3: 472 µs per loop\n"
     ]
    },
    {
     "data": {
      "text/html": [
       "<div>\n",
       "<table border=\"1\" class=\"dataframe\">\n",
       "  <thead>\n",
       "    <tr style=\"text-align: right;\">\n",
       "      <th></th>\n",
       "      <th>infy</th>\n",
       "    </tr>\n",
       "    <tr>\n",
       "      <th>date</th>\n",
       "      <th></th>\n",
       "    </tr>\n",
       "  </thead>\n",
       "  <tbody>\n",
       "    <tr>\n",
       "      <th>1996-12-31</th>\n",
       "      <td>0.058773</td>\n",
       "    </tr>\n",
       "    <tr>\n",
       "      <th>1997-12-31</th>\n",
       "      <td>0.058773</td>\n",
       "    </tr>\n",
       "    <tr>\n",
       "      <th>1998-12-31</th>\n",
       "      <td>0.058773</td>\n",
       "    </tr>\n",
       "    <tr>\n",
       "      <th>1999-12-31</th>\n",
       "      <td>0.058773</td>\n",
       "    </tr>\n",
       "    <tr>\n",
       "      <th>2000-12-31</th>\n",
       "      <td>0.058773</td>\n",
       "    </tr>\n",
       "    <tr>\n",
       "      <th>2001-12-31</th>\n",
       "      <td>0.058773</td>\n",
       "    </tr>\n",
       "    <tr>\n",
       "      <th>2002-12-31</th>\n",
       "      <td>0.058773</td>\n",
       "    </tr>\n",
       "    <tr>\n",
       "      <th>2003-12-31</th>\n",
       "      <td>0.048350</td>\n",
       "    </tr>\n",
       "    <tr>\n",
       "      <th>2004-12-31</th>\n",
       "      <td>0.046542</td>\n",
       "    </tr>\n",
       "    <tr>\n",
       "      <th>2005-12-31</th>\n",
       "      <td>0.053917</td>\n",
       "    </tr>\n",
       "    <tr>\n",
       "      <th>2006-12-31</th>\n",
       "      <td>0.063908</td>\n",
       "    </tr>\n",
       "    <tr>\n",
       "      <th>2007-12-31</th>\n",
       "      <td>0.072075</td>\n",
       "    </tr>\n",
       "    <tr>\n",
       "      <th>2008-12-31</th>\n",
       "      <td>0.076050</td>\n",
       "    </tr>\n",
       "    <tr>\n",
       "      <th>2009-12-31</th>\n",
       "      <td>0.036842</td>\n",
       "    </tr>\n",
       "    <tr>\n",
       "      <th>2010-12-31</th>\n",
       "      <td>0.054982</td>\n",
       "    </tr>\n",
       "    <tr>\n",
       "      <th>2011-12-31</th>\n",
       "      <td>0.081584</td>\n",
       "    </tr>\n",
       "    <tr>\n",
       "      <th>2012-12-31</th>\n",
       "      <td>0.084046</td>\n",
       "    </tr>\n",
       "    <tr>\n",
       "      <th>2013-12-31</th>\n",
       "      <td>0.085997</td>\n",
       "    </tr>\n",
       "    <tr>\n",
       "      <th>2014-12-31</th>\n",
       "      <td>0.086431</td>\n",
       "    </tr>\n",
       "    <tr>\n",
       "      <th>2015-12-31</th>\n",
       "      <td>0.076622</td>\n",
       "    </tr>\n",
       "    <tr>\n",
       "      <th>2016-12-31</th>\n",
       "      <td>0.076622</td>\n",
       "    </tr>\n",
       "    <tr>\n",
       "      <th>2017-12-31</th>\n",
       "      <td>0.076622</td>\n",
       "    </tr>\n",
       "  </tbody>\n",
       "</table>\n",
       "</div>"
      ],
      "text/plain": [
       "                infy\n",
       "date                \n",
       "1996-12-31  0.058773\n",
       "1997-12-31  0.058773\n",
       "1998-12-31  0.058773\n",
       "1999-12-31  0.058773\n",
       "2000-12-31  0.058773\n",
       "2001-12-31  0.058773\n",
       "2002-12-31  0.058773\n",
       "2003-12-31  0.048350\n",
       "2004-12-31  0.046542\n",
       "2005-12-31  0.053917\n",
       "2006-12-31  0.063908\n",
       "2007-12-31  0.072075\n",
       "2008-12-31  0.076050\n",
       "2009-12-31  0.036842\n",
       "2010-12-31  0.054982\n",
       "2011-12-31  0.081584\n",
       "2012-12-31  0.084046\n",
       "2013-12-31  0.085997\n",
       "2014-12-31  0.086431\n",
       "2015-12-31  0.076622\n",
       "2016-12-31  0.076622\n",
       "2017-12-31  0.076622"
      ]
     },
     "execution_count": 90,
     "metadata": {},
     "output_type": "execute_result"
    }
   ],
   "source": [
    "# idata =sym.get_symbol_data('returns', 'infy').infy\n",
    "# idata_a = idata.resample('A').sum()\n",
    "%timeit set_risk_free_rate(idata_a)\n",
    "set_risk_free_rate(idata_a)"
   ]
  },
  {
   "cell_type": "code",
   "execution_count": 28,
   "metadata": {
    "collapsed": false
   },
   "outputs": [],
   "source": [
    "memf = memory_usage(basic_regressions)\n",
    "memg = memory_usage(basic_regression)\n",
    "maxmemf = max(memf)\n",
    "meanf = np.mean(memf)\n",
    "maxmemg = max(memg)\n",
    "meang = np.mean(memg)\n"
   ]
  },
  {
   "cell_type": "code",
   "execution_count": 29,
   "metadata": {
    "collapsed": false
   },
   "outputs": [
    {
     "name": "stdout",
     "output_type": "stream",
     "text": [
      "144.1484375 144.1484375 144.1484375 144.1484375\n"
     ]
    }
   ],
   "source": [
    "print(maxmemf, meanf, maxmemg, meang)"
   ]
  },
  {
   "cell_type": "code",
   "execution_count": 30,
   "metadata": {
    "collapsed": true
   },
   "outputs": [],
   "source": []
  },
  {
   "cell_type": "code",
   "execution_count": null,
   "metadata": {
    "collapsed": true
   },
   "outputs": [],
   "source": []
  }
 ],
 "metadata": {
  "anaconda-cloud": {},
  "kernelspec": {
   "display_name": "Python [conda root]",
   "language": "python",
   "name": "conda-root-py"
  },
  "language_info": {
   "codemirror_mode": {
    "name": "ipython",
    "version": 3
   },
   "file_extension": ".py",
   "mimetype": "text/x-python",
   "name": "python",
   "nbconvert_exporter": "python",
   "pygments_lexer": "ipython3",
   "version": "3.5.2"
  }
 },
 "nbformat": 4,
 "nbformat_minor": 1
}
