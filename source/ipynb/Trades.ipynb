{
 "cells": [
  {
   "cell_type": "code",
   "execution_count": 1,
   "metadata": {
    "collapsed": false
   },
   "outputs": [],
   "source": [
    "# Temorarily add source code path\n",
    "import sys\n",
    "import os\n",
    "sys.path.insert(0, os.path.realpath('../'))"
   ]
  },
  {
   "cell_type": "code",
   "execution_count": 2,
   "metadata": {
    "collapsed": false
   },
   "outputs": [],
   "source": [
    "# Standard imports\n",
    "import pandas as pd\n",
    "import numpy as np\n",
    "import requests\n",
    "from helpers import *\n",
    "import matplotlib.pyplot as plt\n",
    "from bs4 import BeautifulSoup\n",
    "\n",
    "%matplotlib inline"
   ]
  },
  {
   "cell_type": "code",
   "execution_count": 3,
   "metadata": {
    "collapsed": false
   },
   "outputs": [],
   "source": [
    "# Create NSE Object\n",
    "from nse import NSE\n",
    "nse = NSE()"
   ]
  },
  {
   "cell_type": "code",
   "execution_count": 4,
   "metadata": {
    "collapsed": false
   },
   "outputs": [
    {
     "data": {
      "text/html": [
       "<div>\n",
       "<table border=\"1\" class=\"dataframe\">\n",
       "  <thead>\n",
       "    <tr style=\"text-align: right;\">\n",
       "      <th>symbol</th>\n",
       "      <th>20microns</th>\n",
       "      <th>3iinfotech</th>\n",
       "      <th>3mindia</th>\n",
       "      <th>63moons</th>\n",
       "      <th>8kmiles</th>\n",
       "      <th>a2zinfra</th>\n",
       "      <th>aartidrugs</th>\n",
       "      <th>aartiind</th>\n",
       "      <th>aarveeden</th>\n",
       "      <th>aban</th>\n",
       "      <th>...</th>\n",
       "      <th>zeemedia</th>\n",
       "      <th>zenithexpo</th>\n",
       "      <th>zensartech</th>\n",
       "      <th>zentec</th>\n",
       "      <th>zicom</th>\n",
       "      <th>zodiacloth</th>\n",
       "      <th>zodjrdmkj</th>\n",
       "      <th>zuari</th>\n",
       "      <th>zuariglob</th>\n",
       "      <th>zyduswell</th>\n",
       "    </tr>\n",
       "    <tr>\n",
       "      <th>date</th>\n",
       "      <th></th>\n",
       "      <th></th>\n",
       "      <th></th>\n",
       "      <th></th>\n",
       "      <th></th>\n",
       "      <th></th>\n",
       "      <th></th>\n",
       "      <th></th>\n",
       "      <th></th>\n",
       "      <th></th>\n",
       "      <th></th>\n",
       "      <th></th>\n",
       "      <th></th>\n",
       "      <th></th>\n",
       "      <th></th>\n",
       "      <th></th>\n",
       "      <th></th>\n",
       "      <th></th>\n",
       "      <th></th>\n",
       "      <th></th>\n",
       "      <th></th>\n",
       "    </tr>\n",
       "  </thead>\n",
       "  <tbody>\n",
       "    <tr>\n",
       "      <th>2017-02-01</th>\n",
       "      <td>0.024220</td>\n",
       "      <td>0.000000</td>\n",
       "      <td>-0.016327</td>\n",
       "      <td>0.009901</td>\n",
       "      <td>0.005314</td>\n",
       "      <td>0.013150</td>\n",
       "      <td>0.000726</td>\n",
       "      <td>0.018825</td>\n",
       "      <td>0.004066</td>\n",
       "      <td>0.010625</td>\n",
       "      <td>...</td>\n",
       "      <td>0.020094</td>\n",
       "      <td>NaN</td>\n",
       "      <td>-0.012909</td>\n",
       "      <td>0.015079</td>\n",
       "      <td>-0.001133</td>\n",
       "      <td>-0.022503</td>\n",
       "      <td>NaN</td>\n",
       "      <td>-0.011227</td>\n",
       "      <td>0.000880</td>\n",
       "      <td>0.003281</td>\n",
       "    </tr>\n",
       "    <tr>\n",
       "      <th>2017-02-02</th>\n",
       "      <td>0.016240</td>\n",
       "      <td>-0.018019</td>\n",
       "      <td>-0.007483</td>\n",
       "      <td>0.006751</td>\n",
       "      <td>0.024484</td>\n",
       "      <td>0.010632</td>\n",
       "      <td>-0.008017</td>\n",
       "      <td>0.007215</td>\n",
       "      <td>0.011528</td>\n",
       "      <td>0.028058</td>\n",
       "      <td>...</td>\n",
       "      <td>0.009241</td>\n",
       "      <td>NaN</td>\n",
       "      <td>0.009599</td>\n",
       "      <td>-0.004773</td>\n",
       "      <td>0.007905</td>\n",
       "      <td>0.012118</td>\n",
       "      <td>-0.050661</td>\n",
       "      <td>0.000903</td>\n",
       "      <td>0.004390</td>\n",
       "      <td>-0.011095</td>\n",
       "    </tr>\n",
       "    <tr>\n",
       "      <th>2017-02-03</th>\n",
       "      <td>0.003711</td>\n",
       "      <td>0.000000</td>\n",
       "      <td>-0.006401</td>\n",
       "      <td>0.012158</td>\n",
       "      <td>0.006898</td>\n",
       "      <td>-0.005893</td>\n",
       "      <td>0.002598</td>\n",
       "      <td>0.034855</td>\n",
       "      <td>0.048108</td>\n",
       "      <td>-0.029685</td>\n",
       "      <td>...</td>\n",
       "      <td>0.010458</td>\n",
       "      <td>NaN</td>\n",
       "      <td>-0.004054</td>\n",
       "      <td>0.004093</td>\n",
       "      <td>-0.001125</td>\n",
       "      <td>0.029018</td>\n",
       "      <td>-0.038659</td>\n",
       "      <td>-0.025592</td>\n",
       "      <td>0.009590</td>\n",
       "      <td>0.005967</td>\n",
       "    </tr>\n",
       "    <tr>\n",
       "      <th>2017-02-06</th>\n",
       "      <td>0.021979</td>\n",
       "      <td>0.000000</td>\n",
       "      <td>0.032559</td>\n",
       "      <td>0.018558</td>\n",
       "      <td>-0.003324</td>\n",
       "      <td>0.024520</td>\n",
       "      <td>0.026726</td>\n",
       "      <td>0.019780</td>\n",
       "      <td>0.018399</td>\n",
       "      <td>0.005077</td>\n",
       "      <td>...</td>\n",
       "      <td>-0.030365</td>\n",
       "      <td>0.008386</td>\n",
       "      <td>0.012783</td>\n",
       "      <td>0.105837</td>\n",
       "      <td>0.008969</td>\n",
       "      <td>-0.027948</td>\n",
       "      <td>-0.014706</td>\n",
       "      <td>0.009674</td>\n",
       "      <td>0.039554</td>\n",
       "      <td>0.000462</td>\n",
       "    </tr>\n",
       "    <tr>\n",
       "      <th>2017-02-07</th>\n",
       "      <td>-0.010929</td>\n",
       "      <td>0.018019</td>\n",
       "      <td>-0.007819</td>\n",
       "      <td>-0.013736</td>\n",
       "      <td>-0.013649</td>\n",
       "      <td>0.038466</td>\n",
       "      <td>-0.008166</td>\n",
       "      <td>0.007166</td>\n",
       "      <td>-0.020586</td>\n",
       "      <td>-0.010179</td>\n",
       "      <td>...</td>\n",
       "      <td>-0.017580</td>\n",
       "      <td>NaN</td>\n",
       "      <td>0.005057</td>\n",
       "      <td>-0.076986</td>\n",
       "      <td>0.000000</td>\n",
       "      <td>0.041634</td>\n",
       "      <td>0.013245</td>\n",
       "      <td>-0.008440</td>\n",
       "      <td>-0.028338</td>\n",
       "      <td>-0.007709</td>\n",
       "    </tr>\n",
       "  </tbody>\n",
       "</table>\n",
       "<p>5 rows × 1466 columns</p>\n",
       "</div>"
      ],
      "text/plain": [
       "symbol      20microns  3iinfotech   3mindia   63moons   8kmiles  a2zinfra  \\\n",
       "date                                                                        \n",
       "2017-02-01   0.024220    0.000000 -0.016327  0.009901  0.005314  0.013150   \n",
       "2017-02-02   0.016240   -0.018019 -0.007483  0.006751  0.024484  0.010632   \n",
       "2017-02-03   0.003711    0.000000 -0.006401  0.012158  0.006898 -0.005893   \n",
       "2017-02-06   0.021979    0.000000  0.032559  0.018558 -0.003324  0.024520   \n",
       "2017-02-07  -0.010929    0.018019 -0.007819 -0.013736 -0.013649  0.038466   \n",
       "\n",
       "symbol      aartidrugs  aartiind  aarveeden      aban    ...      zeemedia  \\\n",
       "date                                                     ...                 \n",
       "2017-02-01    0.000726  0.018825   0.004066  0.010625    ...      0.020094   \n",
       "2017-02-02   -0.008017  0.007215   0.011528  0.028058    ...      0.009241   \n",
       "2017-02-03    0.002598  0.034855   0.048108 -0.029685    ...      0.010458   \n",
       "2017-02-06    0.026726  0.019780   0.018399  0.005077    ...     -0.030365   \n",
       "2017-02-07   -0.008166  0.007166  -0.020586 -0.010179    ...     -0.017580   \n",
       "\n",
       "symbol      zenithexpo  zensartech    zentec     zicom  zodiacloth  zodjrdmkj  \\\n",
       "date                                                                            \n",
       "2017-02-01         NaN   -0.012909  0.015079 -0.001133   -0.022503        NaN   \n",
       "2017-02-02         NaN    0.009599 -0.004773  0.007905    0.012118  -0.050661   \n",
       "2017-02-03         NaN   -0.004054  0.004093 -0.001125    0.029018  -0.038659   \n",
       "2017-02-06    0.008386    0.012783  0.105837  0.008969   -0.027948  -0.014706   \n",
       "2017-02-07         NaN    0.005057 -0.076986  0.000000    0.041634   0.013245   \n",
       "\n",
       "symbol         zuari  zuariglob  zyduswell  \n",
       "date                                        \n",
       "2017-02-01 -0.011227   0.000880   0.003281  \n",
       "2017-02-02  0.000903   0.004390  -0.011095  \n",
       "2017-02-03 -0.025592   0.009590   0.005967  \n",
       "2017-02-06  0.009674   0.039554   0.000462  \n",
       "2017-02-07 -0.008440  -0.028338  -0.007709  \n",
       "\n",
       "[5 rows x 1466 columns]"
      ]
     },
     "execution_count": 4,
     "metadata": {},
     "output_type": "execute_result"
    }
   ],
   "source": [
    "returns = nse.get_symbol_eod_values()\n",
    "close = nse.get_symbol_eod_values(data='close')\n",
    "returns['2017-2'].head()"
   ]
  },
  {
   "cell_type": "code",
   "execution_count": null,
   "metadata": {
    "collapsed": false
   },
   "outputs": [],
   "source": [
    "symbols = ['hindalco', 'rblbank', 'mmtc', 'infy']\n",
    "close = close[symbols]['2016':]\n",
    "returns = returns[symbols]['2016':]"
   ]
  },
  {
   "cell_type": "code",
   "execution_count": 5,
   "metadata": {
    "collapsed": false
   },
   "outputs": [
    {
     "name": "stderr",
     "output_type": "stream",
     "text": [
      "D:\\dev\\projects\\python\\stock_analysis\\source\\trades.py:260: RuntimeWarning: divide by zero encountered in log\n",
      "  holdings.loc[date:, symbol] / holdings.loc[date:, symbol].shift(1)\n"
     ]
    }
   ],
   "source": [
    "from trades import Zerodha\n",
    "z = Zerodha()\n",
    "z.force_load_trades_data()"
   ]
  },
  {
   "cell_type": "code",
   "execution_count": 18,
   "metadata": {
    "collapsed": false
   },
   "outputs": [
    {
     "data": {
      "text/plain": [
       "<matplotlib.axes._subplots.AxesSubplot at 0x1d691d774a8>"
      ]
     },
     "execution_count": 18,
     "metadata": {},
     "output_type": "execute_result"
    },
    {
     "data": {
      "image/png": "[encoded data removed]",
      "text/plain": [
       "<matplotlib.figure.Figure at 0x1d691d77828>"
      ]
     },
     "metadata": {},
     "output_type": "display_data"
    }
   ],
   "source": [
    "# trades = z.get_trades(trades_type='all')\n",
    "my = z.get_profits().sum(axis=1) / z.get_holdings().sum(axis=1)\n",
    "n50 = nse.get_index_eod_values('simple_returns', index_list='nifty_50')['2017']\n",
    "# trades.date.min()\n",
    "n50.join(my.rename('portfolio')).plot()"
   ]
  },
  {
   "cell_type": "code",
   "execution_count": null,
   "metadata": {
    "collapsed": false
   },
   "outputs": [],
   "source": [
    "profits_per_day = pd.DataFrame(\n",
    "    0, index=z.get_traded_dates(start=trades.date.min()).index,\n",
    "    columns=trades.symbol.unique()\n",
    ")\n",
    "profits = z.get_profits(trades=trades)\n",
    "\n",
    "for trade in trades.itertuples():\n",
    "    symbol = trade.symbol\n",
    "    date = trade.date\n",
    "    profits_per_day.loc[date:, symbol] = (\n",
    "        profits.loc[date:, symbol] - profits.loc[date:, symbol].shift(1)\n",
    "    )\n",
    "    profits_per_day.loc[date, symbol] = profits.loc[date, symbol]\n",
    "profits_per_day"
   ]
  },
  {
   "cell_type": "code",
   "execution_count": null,
   "metadata": {
    "collapsed": false
   },
   "outputs": [],
   "source": [
    "trades= z.read_trades()\n",
    "fig = plt.figure(figsize=(10,5))\n",
    "ax = fig.add_subplot(111)\n",
    "# Holdings Plot\n",
    "# trades[4].replace(0, np.nan).plot(ax=ax)\n",
    "\n",
    "# Returns cumsum plot\n",
    "# returns = trades[6].replace(0, np.nan).cumsum()\n",
    "# returns = 100 * np.exp(returns)\n",
    "# returns.plot(ax=ax)\n",
    "\n",
    "# Profits plot\n",
    "(trades[2]/trades[1]).plot(ax=ax)\n",
    "ax.legend(loc=\"upper left\", bbox_to_anchor=(1,1))"
   ]
  },
  {
   "cell_type": "code",
   "execution_count": null,
   "metadata": {
    "collapsed": false
   },
   "outputs": [],
   "source": [
    "classified_trasactions = pd.DataFrame(columns=transactions.columns)\n",
    "# categorize transactions into intraday or open positions or closed positions\n",
    "open_ = transactions.symbol.value_counts()\n",
    "open_ = open_[open_ == 1].index\n",
    "cond = transactions.symbol.isin(open_)\n",
    "transactions.loc[cond, ['open_con']] = True\n",
    "# open_trans = transactions.loc[cond, :]\n",
    "\n",
    "# classified_trasactions = classified_trasactions.append(open_trans, ignore_index=True)\n",
    "# transactions = transactions.drop(open_trans.index).reset_index(drop=True)\n",
    "\n",
    "intra = transactions.groupby(['date', 'symbol']).quantity.sum().reset_index()\n",
    "intra = intra.query('quantity == 0')\n",
    "cond = (transactions.date.isin(intra.date)) & (transactions.symbol.isin(intra.symbol))\n",
    "transactions.loc[cond, ['intra']] = True\n",
    "# intra_trans = transactions.loc[cond, :]\n",
    "\n",
    "# classified_trasactions = classified_trasactions.append(intra_trans, ignore_index=True)\n",
    "# transactions = transactions.drop(intra_trans.index).reset_index(drop=True)\n",
    "\n",
    "symbol_group = transactions.groupby(['symbol']).quantity.sum().reset_index()\n",
    "closed = symbol_group.query('quantity == 0')\n",
    "cond = transactions.symbol.isin(closed.symbol)\n",
    "transactions.loc[cond, 'closed'] = True\n",
    "\n",
    "open_ = symbol_group.query('quantity != 0')\n",
    "cond = transactions.symbol.isin(open_.symbol)\n",
    "transactions.loc[cond, 'open'] = True\n",
    "# closed_trans = transactions.loc[cond, :]\n",
    "\n",
    "# classified_trasactions = classified_trasactions.append(closed_trans, ignore_index=True)\n",
    "# transactions = transactions.drop(closed_trans.index).reset_index(drop=True)\n",
    "transactions\n",
    "# closed_trans"
   ]
  },
  {
   "cell_type": "code",
   "execution_count": null,
   "metadata": {
    "collapsed": false
   },
   "outputs": [],
   "source": [
    "trades[4][['tatamotors']].join(trades[1]['tatamotors'].rename('inv')).join(trades[5]['tatamotors'].rename('qty')).join(trades[2]['tatamotors'].rename('profits')).join(trades[3]['tatamotors'].rename('ppd'))"
   ]
  },
  {
   "cell_type": "code",
   "execution_count": null,
   "metadata": {
    "collapsed": false
   },
   "outputs": [],
   "source": [
    "trades[2].sum(axis=1)"
   ]
  },
  {
   "cell_type": "code",
   "execution_count": null,
   "metadata": {
    "collapsed": false
   },
   "outputs": [],
   "source": [
    "trades[0].set_index('date')['2017-02-15':]"
   ]
  },
  {
   "cell_type": "code",
   "execution_count": null,
   "metadata": {
    "collapsed": false
   },
   "outputs": [],
   "source": [
    "get_adjacent_dates(trades[4].index, '2017-02-03')"
   ]
  },
  {
   "cell_type": "code",
   "execution_count": null,
   "metadata": {
    "collapsed": false
   },
   "outputs": [],
   "source": [
    "ledger = pd.read_excel('..\\\\data\\\\ledger.xlsx', skiprows=13, parse_cols='B:J').dropna(subset=['Date'])\n",
    "rename_columns(ledger)\n",
    "ledger['date'] = pd.to_datetime(ledger['date'], format='%d/%m/%Y')\n",
    "cash = ledger.loc[ledger.particulars.str[:5] == 'Being', ['date', 'debit', 'credit']]\n",
    "# cash.set_index('date', inplace=True)\n",
    "cash['debit'] = -1 * cash['debit']\n",
    "cash['cash'] = cash.sum(axis=1)\n",
    "cash = cash.groupby('date').cash.sum().cumsum()"
   ]
  },
  {
   "cell_type": "code",
   "execution_count": null,
   "metadata": {
    "collapsed": false
   },
   "outputs": [],
   "source": [
    "portfolio_value = pd.DataFrame(0, index=nse.get_traded_dates(start=trades.date.min()).index, columns=trades.symbol.unique())\n",
    "returns_portfolio = portfolio_value.copy().replace(0, np.nan)\n",
    "weights = portfolio_value.copy()\n",
    "portfolio_value['cash']= portfolio_value.join(cash, how='outer').cash.ffill()\n",
    "portfolio_value['cash_balance']= portfolio_value['cash'].copy()\n",
    "debug_df = pd.DataFrame(\n",
    "    columns=['rate', 'qty', 'existing_worth', 'existing_qty', 'new_worth', 'new_qty', ]\n",
    ")\n",
    "i=0\n",
    "for trade in trades.itertuples():\n",
    "    date = trade.date\n",
    "    time = trade.time\n",
    "    symbol = trade.symbol\n",
    "    ttype = trade.type\n",
    "    rate = trade.rate\n",
    "    qty = trade.qty\n",
    "    \n",
    "    if symbol not in close.columns:\n",
    "        continue\n",
    "    \n",
    "    price = trade.price\n",
    "    portfolio_value.loc[date:, 'cash_balance'] = portfolio_value.loc[date:, 'cash_balance'] - price\n",
    "    \n",
    "    # Find existing quantity and worth(EOD close) from portfolio_value\n",
    "    existing_worth = portfolio_value.loc[date, symbol]\n",
    "    existing_qty = existing_worth /  close[symbol][date]\n",
    "    \n",
    "    # Find Quantity after transaction\n",
    "    new_qty = existing_qty + qty\n",
    "    new_worth = ((existing_worth) + (rate * qty))\n",
    "    \n",
    "    if symbol == 'tatamotors':\n",
    "        debug_df.loc[i] = (rate, qty, existing_worth, existing_qty, new_worth, new_qty, )\n",
    "        i = i+1\n",
    "    if  new_qty != 0:\n",
    "        # Normal buy transaction\n",
    "        rate = new_worth / new_qty\n",
    "       \n",
    "        returns_portfolio.loc[date:, symbol] = returns[symbol][date:]\n",
    "        returns_portfolio.loc[date, symbol] = np.log(close[symbol][date] / rate)\n",
    "    elif new_qty == 0:\n",
    "        # Short Sell => Cover transaction\n",
    "        rate = rate # rate will be the rate of transaction\n",
    "        prev_close = close[symbol].shift(1)[date]\n",
    "\n",
    "        returns_portfolio.loc[date:, symbol] = np.nan # No furter quantity so returns become 0\n",
    "        returns_portfolio.loc[date, symbol] = np.log(rate / prev_close)\n",
    "\n",
    "    portfolio_value.loc[date:, symbol] = new_qty * close[symbol][date:]\n",
    "    weights.loc[date:, symbol] = new_qty\n",
    "#     if ttype == 1:\n",
    "#         # Buy transaction\n",
    "        \n",
    "        \n",
    "#     elif ttype == -1:\n",
    "#         if ttype == 1:\n",
    "#             new_qty = existing_qty + qty\n",
    "#             new_worth = existing_worth + price\n",
    "#         else:\n",
    "#             new_qty = existing_qty + qty\n",
    "#             new_worth = existing_worth - price\n",
    "#             if new_qty != 0:\n",
    "#                 pass\n",
    "# #                 print(trade)\n",
    "#         portfolio_value.loc[date:, symbol] = new_qty * close[symbol][date:]\n",
    "#         print(new_qty, new_worth)\n",
    "#         print(portfolio_value.replace(0, np.nan).dropna(how='all'))\n",
    "something = portfolio_value.drop(['cash'], axis=1).sum(axis=1)\n",
    "# something = (something / np.abs(something.ix[0])).rename('port')\n",
    "\n",
    "# portfolio_value[['cash']].join(something.rename('sdf'))['2017-01-25':].plot()\n",
    "# profit = np.log(something.rename('sdf') / portfolio_value['cash'])['2017-01-25':]\n",
    "# (100 * np.exp(profit.cumsum())).plot()\n",
    "# profit\n",
    "# something = something.rename('sdf')['2017-01-25':]\n",
    "# ret = np.log(something / something.shift(1))\n",
    "# # (100 * np.exp(ret.cumsum())).plot()\n",
    "# fig = plt.figure(figsize=(10,5))\n",
    "# ax = fig.add_subplot(111)\n",
    "# (100 * np.exp(returns_portfolio.cumsum())).plot(ax=ax)\n",
    "# ax.legend(loc=\"upper left\", bbox_to_anchor=(1,1))\n",
    "# returns_portfolio.sum()\n",
    "# returns_portfolio['tatamotors']\n",
    "# returns[['tatamotors']]\n",
    "debug_df"
   ]
  },
  {
   "cell_type": "code",
   "execution_count": null,
   "metadata": {
    "collapsed": false
   },
   "outputs": [],
   "source": [
    "n50_ret = nse.get_index_eod_values(data='returns', index_list='nifty_50', start='2017')\n",
    "# 1*np.exp(n50_ret.cumsum()) \n",
    "n50_ret = n50_ret.join(ret)\n",
    "ret = n50_ret.dropna()\n",
    "(np.exp(ret.cumsum())).plot()"
   ]
  },
  {
   "cell_type": "code",
   "execution_count": null,
   "metadata": {
    "collapsed": false
   },
   "outputs": [],
   "source": [
    "(21700 - 21000)/ 20000"
   ]
  },
  {
   "cell_type": "code",
   "execution_count": null,
   "metadata": {
    "collapsed": false
   },
   "outputs": [],
   "source": [
    "(8900 - 8150) / 8150"
   ]
  },
  {
   "cell_type": "code",
   "execution_count": null,
   "metadata": {
    "collapsed": true
   },
   "outputs": [],
   "source": []
  }
 ],
 "metadata": {
  "kernelspec": {
   "display_name": "Python 3",
   "language": "python",
   "name": "python3"
  },
  "language_info": {
   "codemirror_mode": {
    "name": "ipython",
    "version": 3
   },
   "file_extension": ".py",
   "mimetype": "text/x-python",
   "name": "python",
   "nbconvert_exporter": "python",
   "pygments_lexer": "ipython3",
   "version": "3.6.0"
  }
 },
 "nbformat": 4,
 "nbformat_minor": 2
}
