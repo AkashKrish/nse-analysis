{
 "cells": [
  {
   "cell_type": "code",
   "execution_count": null,
   "metadata": {
    "collapsed": true
   },
   "outputs": [],
   "source": [
    "import pandas as pd\n",
    "import numpy as np\n",
    "from datetime import datetime\n",
    "import matplotlib.pyplot as plt\n",
    "from dateutil.relativedelta import relativedelta\n",
    "from symbol import Symbol\n",
    "from index import Index\n",
    "from portifolio import Portifolio\n",
    "import seaborn as sns\n",
    "from sklearn.preprocessing import scale\n",
    "from scipy import stats\n",
    "\n",
    "\n",
    "sns.set_style(\"dark\")\n",
    "\n",
    "%matplotlib inline"
   ]
  },
  {
   "cell_type": "code",
   "execution_count": null,
   "metadata": {
    "collapsed": true
   },
   "outputs": [],
   "source": [
    "sym = Symbol()\n",
    "ind = Index()\n",
    "port = Portifolio()\n",
    "ret = sym.get_symbol_data('returns')"
   ]
  },
  {
   "cell_type": "code",
   "execution_count": null,
   "metadata": {
    "collapsed": true
   },
   "outputs": [],
   "source": [
    "def refd(returns, risk_free_rate=0.075):\n",
    "    rf = pd.DataFrame(index=pd.date_range(start=ret.index[0],end=ret.index[-1]), columns=['daily', 'weekly', 'monthly', 'quarterly', 'annual'])\n",
    "    rf['annual'] = risk_free_rate\n",
    "    years = returns.index.year\n",
    "    dai = returns.resample('A').count()\n",
    "    rf['daily'] = risk_free_rate/dai\n",
    "    dai = returns.resample('W').count().resample('A').count()\n",
    "    rf['weekly'] = risk_free_rate/dai\n",
    "    dai = returns.resample('M').count().resample('A').count()\n",
    "    rf['monthly'] = risk_free_rate/dai\n",
    "    dai = returns.resample('Q').count().resample('A').count()\n",
    "    rf['quarterly'] = risk_free_rate/dai\n",
    "    ind = rf.index.intersection(returns.index)\n",
    "    rf = rf.bfill().ffill()\n",
    "    rf = rf[rf.index.isin(ind)]\n",
    "    return rf.dropna()\n",
    "risk_free_rate = refd(ret)\n",
    "# (ret.infy.resample('W').sum() - risk_free_rate.weekly).sum()\n"
   ]
  },
  {
   "cell_type": "code",
   "execution_count": null,
   "metadata": {
    "collapsed": true
   },
   "outputs": [],
   "source": [
    "from helpers import rename_columns\n",
    "rff = pd.read_excel('rf.xlsx')\n",
    "rename_columns(rff)\n",
    "rff = rff.set_index('date')/100\n",
    "rf = pd.DataFrame(index=pd.date_range(start=ret.index[0],end='2017-12-31'), columns=['daily', 'weekly', 'monthly', 'quarterly', 'annual'])\n",
    "returns = ret.copy()\n",
    "# dai = returns.resample('M').count().max(axis=1)\n",
    "rf['monthly'] = rff.price.resample('M').mean()\n",
    "dai = returns.resample('A').count().max(axis=1)\n",
    "rf['annual'] = rf.resample('A').monthly.mean()\n",
    "dai = returns.resample('Q').count().max(axis=1)\n",
    "rf['quarterly'] = rf.resample('Q').monthly.mean()\n",
    "# dai = returns.resample('W').count().max(axis=1)\n",
    "rf['weekly'] = rf.resample('W').monthly.mean()\n",
    "dai = returns.resample('D').count().max(axis=1).resample('A').sum()\n",
    "rf['daily'] = rf.resample('D').monthly.mean()/dai\n",
    "rf['monthly'] = (rf['monthly']/12)\n",
    "rf['weekly'] = (rf['weekly']/52)\n",
    "rf['quarterly'] = (rf['quarterly']/4)\n",
    "\n",
    "rf = rf.bfill().ffill()\n",
    "# ind = rf.index.intersection(ret.index)\n",
    "# rf = rf.bfill().ffill()\n",
    "rf = rf[rf.index.isin(ind)]\n",
    "rf['2016']\n"
   ]
  },
  {
   "cell_type": "code",
   "execution_count": null,
   "metadata": {
    "collapsed": true
   },
   "outputs": [],
   "source": [
    "from helpers import rename_columns\n",
    "rff = pd.read_excel('rfda.xlsx')\n",
    "rename_columns(rff)\n",
    "rff.date = pd.to_datetime(rff.date)\n",
    "rff = rff.set_index('date')/100\n",
    "rfda = pd.DataFrame(index=pd.date_range(start=rff.index[-1],end=rff.index[0]), columns=['daily', 'weekly', 'monthly', 'quarterly', 'annual'])\n",
    "rfda['daily'] = rff\n",
    "rfda = rfda.bfill().ffill()\n",
    "rfda['annual'] = rfda.resample('A').daily.mean()\n",
    "rfda['quarterly'] = rfda.resample('Q').daily.mean()\n",
    "rfda['weekly'] = rfda.resample('W').daily.mean()\n",
    "rfda['monthly'] = rfda.resample('D').daily.mean()\n",
    "dai = returns.resample('D').count().max(axis=1).resample('A').sum()\n",
    "rfda['monthly'] = (rfda['monthly']/12)\n",
    "rfda['weekly'] = (rfda['weekly']/52)\n",
    "rfda['quarterly'] = (rfda['quarterly']/4)\n",
    "rfda['daily'] = rfda.resample('D').daily.mean()/dai.resample('D').mean().bfill()[:'2016']\n",
    "rfda.daily = rfda['daily'].fillna(rff['2017'].resample('D').mean().price/252)\n",
    "\n",
    "rfda = rfda[rfda.index.isin(rf.index)]\n",
    "rfda = rfda.bfill().ffill()\n",
    "rf[rf.index.isin(rfda.index)] = rfda\n",
    "rf.columns = ['D', 'W', 'M', 'Q', 'A']\n",
    "rf.plot()\n",
    "rf.to_hdf('constants.h5', 'risk_free_rate')"
   ]
  }
 ],
 "metadata": {
  "kernelspec": {
   "display_name": "Python [conda root]",
   "language": "python",
   "name": "conda-root-py"
  },
  "language_info": {
   "codemirror_mode": {
    "name": "ipython",
    "version": 3
   },
   "file_extension": ".py",
   "mimetype": "text/x-python",
   "name": "python",
   "nbconvert_exporter": "python",
   "pygments_lexer": "ipython3",
   "version": "3.5.2"
  }
 },
 "nbformat": 4,
 "nbformat_minor": 2
}
