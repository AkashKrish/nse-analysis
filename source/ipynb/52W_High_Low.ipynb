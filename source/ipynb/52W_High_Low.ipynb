{
 "cells": [
  {
   "cell_type": "code",
   "execution_count": 1,
   "metadata": {
    "collapsed": true
   },
   "outputs": [],
   "source": [
    "import pandas as pd\n",
    "import numpy as np\n",
    "from symbol import Symbol\n",
    "from index import Index\n",
    "from portifolio import Portifolio\n",
    "from datetime import datetime\n",
    "import os\n",
    "import matplotlib.pyplot as plt\n",
    "from bqplot import pyplot as bplt\n",
    "import seaborn as sns\n",
    "from dateutil.relativedelta import relativedelta\n",
    "\n",
    "sns.set(context='notebook', style=\"dark\", palette=\"muted\", color_codes=True)\n",
    "\n",
    "%matplotlib inline"
   ]
  },
  {
   "cell_type": "code",
   "execution_count": 2,
   "metadata": {
    "collapsed": true
   },
   "outputs": [],
   "source": [
    "def plot_close(hist_data, symbol_list):\n",
    "    grouped_data = hist_data.groupby('symbol')\n",
    "    try:\n",
    "        bplt.close(1)\n",
    "    except:\n",
    "        pass\n",
    "    bplt.figure(1, title='Line Chart')\n",
    "    bplt.clear()\n",
    "    for symbol in symbol_list:\n",
    "        adjclose = grouped_data.get_group(symbol).set_index('date').adj_close\n",
    "        bplt.plot(x=adjclose.index, y=adjclose, marker_str=symbol)\n",
    "        bplt.legend()\n",
    "    \n",
    "    bplt.show()\n",
    "\n",
    "def plot_returns(returns_data, symbol_list):\n",
    "    try:\n",
    "        bplt.close(1)\n",
    "    except:\n",
    "        pass\n",
    "    bplt.figure(1, title='Line Chart')\n",
    "    bplt.clear()\n",
    "    for symbol in symbol_list:\n",
    "        bplt.plot(x=returns_data.index, y=returns_data[[symbol]])\n",
    "        bplt.legend()\n",
    "    \n",
    "    bplt.show()"
   ]
  },
  {
   "cell_type": "code",
   "execution_count": 3,
   "metadata": {
    "collapsed": false
   },
   "outputs": [],
   "source": [
    "s= Symbol()\n",
    "i = Index()\n",
    "p = Portifolio(start=2016)"
   ]
  },
  {
   "cell_type": "code",
   "execution_count": 5,
   "metadata": {
    "collapsed": false
   },
   "outputs": [
    {
     "data": {
      "text/plain": [
       "(5240, 40, 5240)"
      ]
     },
     "execution_count": 5,
     "metadata": {},
     "output_type": "execute_result"
    }
   ],
   "source": [
    "ret = s.get_symbol_data(null_count=5)\n",
    "ret = ret.fillna(0, limit=5)\n",
    "close = s.get_symbol_data(data='close', null_count=5)\n",
    "iret = i.get_index_returns()\n",
    "iret = iret.fillna(0, limit=5)\n",
    "common_index = np.intersect1d(ret.index, iret.index)\n",
    "ret = ret.loc[common_index]\n",
    "iret = iret.loc[common_index]\n",
    "close= close.loc[common_index]\n",
    "infy_ret = ret.infy\n",
    "indret = iret.nifty_50\n",
    "adj_close = ret.apply(p.prices)\n",
    "len(ret), len(ret.columns), len(iret)"
   ]
  },
  {
   "cell_type": "code",
   "execution_count": 8,
   "metadata": {
    "collapsed": false,
    "scrolled": true
   },
   "outputs": [
    {
     "data": {
      "text/plain": [
       "5891.3500000000004"
      ]
     },
     "execution_count": 8,
     "metadata": {},
     "output_type": "execute_result"
    }
   ],
   "source": [
    "# def min_52w(returns):\n",
    "#     if isinstance(returns, pd.Series):\n",
    "#         returns = pd.DataFrame(returns)\n",
    "#     else:\n",
    "#         min_52w = returns.apply(min_52w)\n",
    "#         return min_52w\n",
    "#     returns['max'] = np.nan\n",
    "#     returns['min'] = np.nan\n",
    "#     for index in returns.index:\n",
    "#         returns.loc[index, 'max'] = returns.loc[index - relativedelta(years=1):index, index.columns[0]].max()\n",
    "#         returns.loc[indi, 'min'] = returns.loc[index - relativedelta(years=1):index, index.columns[0]].min()\n",
    "#     inf = inf[req]\n",
    "#     return inf\n",
    "# adj_close[['infy', 'wipro']].apply(min_max_52w, req='max')\n",
    "from pandas.tseries.offsets import *\n",
    "close.rolling(248).min().infy.max()"
   ]
  },
  {
   "cell_type": "code",
   "execution_count": null,
   "metadata": {
    "collapsed": false
   },
   "outputs": [],
   "source": [
    "conditions = [\n",
    "    'holding_period_return > 0',\n",
    "    'excess_returns_rf > 0',\n",
    "    'excess_returns_bench > 0',\n",
    "    'num_returns > 500',\n",
    "    'upside_potential_ratio > 1',\n",
    "    'pos_pctile > 0.50',\n",
    "# #     'min_returns > -0.15',\n",
    "#     'std_dev < 0.03',\n",
    "#     'sortino_ratio > 1'\n",
    "]\n",
    "str_cond = ' & '.join(conditions)\n",
    "if str_cond == '':\n",
    "    ind = desc_ret.index\n",
    "else:\n",
    "    ind = desc_ret.query(str_cond).index\n",
    "desc_ret.loc[ind].sort_values('excess_returns_bench', ascending=False)\n",
    "# desc_ret.loc['infy']\n",
    "(desc_ret.excess_returns_bench/desc_ret.num_returns).sort_values(ascending=False)\n",
    "pq = desc_ret.query('num_returns > 1000 & excess_returns_bench > 0').eval('excess_returns_bench/num_returns').sort_values(ascending=False)\n",
    "(pq/desc_ret.std_dev).dropna().sort_values(ascending=False)"
   ]
  },
  {
   "cell_type": "code",
   "execution_count": null,
   "metadata": {
    "collapsed": false
   },
   "outputs": [],
   "source": [
    "conditions = [\n",
    "    'holding_period_return > 0.1',\n",
    "    'upside_potential_ratio > 1',\n",
    "    'pos_pctile > 0.5',\n",
    "    'min_returns > -0.15',\n",
    "    'std_dev < 0.03',\n",
    "    'sortino_ratio > 1'\n",
    "]\n",
    "str_cond = ' & '.join(conditions)\n",
    "ind = desc_ret16.query(str_cond).index\n",
    "desc_ret16.loc[ind]"
   ]
  },
  {
   "cell_type": "code",
   "execution_count": null,
   "metadata": {
    "collapsed": false
   },
   "outputs": [],
   "source": [
    "desc_ret16.loc[ind]"
   ]
  },
  {
   "cell_type": "code",
   "execution_count": null,
   "metadata": {
    "collapsed": false
   },
   "outputs": [],
   "source": [
    "conditions = [\n",
    "    'holding_period_return > 5 * 0.1',\n",
    "    'upside_potential_ratio > 1',\n",
    "    'pos_pctile > 0.5',\n",
    "    'min_returns > -0.15',\n",
    "    'std_dev < 0.03',\n",
    "    'sortino_ratio > 1',\n",
    "    'beta > 0.8'\n",
    "]\n",
    "str_cond = ' & '.join(conditions)\n",
    "ind = desc_ret15.query(str_cond).index\n",
    "desc_ret15.loc[ind]"
   ]
  },
  {
   "cell_type": "code",
   "execution_count": null,
   "metadata": {
    "collapsed": false,
    "scrolled": false
   },
   "outputs": [],
   "source": [
    "desc_ret16[desc_ret16.index.isin(ind)]"
   ]
  },
  {
   "cell_type": "code",
   "execution_count": null,
   "metadata": {
    "collapsed": false
   },
   "outputs": [],
   "source": [
    "vol = s.get_symbol_data(data='volatility', start='2015',null_count=5, volume=1000)\n",
    "vol.mean().sort_values().head()"
   ]
  },
  {
   "cell_type": "code",
   "execution_count": null,
   "metadata": {
    "collapsed": false
   },
   "outputs": [],
   "source": [
    "np.sqrt(np.floor_divide(len(returns), interval)+1)"
   ]
  },
  {
   "cell_type": "code",
   "execution_count": null,
   "metadata": {
    "collapsed": false
   },
   "outputs": [],
   "source": [
    "iport = s.returns[['INFY', 'BPCL']]['2000':].fillna(0)/100\n",
    "start_value = 10000\n",
    "weights = np.ones(len(iport.columns))/len(iport.columns)\n",
    "myport = pd.DataFrame(0, index=iport.index.copy(), columns = iport.columns.copy())\n",
    "myport.ix[0, :] = start_value/(len(iport.columns))\n",
    "myport = myport.ix[0] * np.exp(iport.cumsum())\n",
    "myport['value'] = myport.sum(axis=1)\n",
    "myport.tail()\n",
    "# # myport = myport/myport.ix[0]"
   ]
  },
  {
   "cell_type": "code",
   "execution_count": null,
   "metadata": {
    "collapsed": false
   },
   "outputs": [],
   "source": [
    "def calc_portfolio_var(returns, weights=None):\n",
    "    if weights is None: \n",
    "        weights = np.ones(returns.columns.size) / \\\n",
    "        returns.columns.size\n",
    "    sigma = np.cov(returns.T,ddof=0)\n",
    "    var = (weights * sigma * weights.T).sum()\n",
    "    return var"
   ]
  },
  {
   "cell_type": "code",
   "execution_count": null,
   "metadata": {
    "collapsed": false
   },
   "outputs": [],
   "source": [
    "def sharpe_ratio(returns, weights = None, risk_free_rate = 0.045):\n",
    "    n = returns.columns.size\n",
    "    if weights is None: weights = np.ones(n)/n\n",
    "    # get the portfolio variance\n",
    "    var = calc_portfolio_var(returns, weights)\n",
    "    # and the means of the stocks in the portfolio\n",
    "    means = returns.mean()\n",
    "    # and return the sharpe ratio\n",
    "    risk_free_rate = np.log(1+risk_free_rate)/365\n",
    "    return (means.dot(weights) - risk_free_rate)/np.sqrt(var)\n",
    "sharpe_ratio(iport)\n",
    "# iport.mean()"
   ]
  },
  {
   "cell_type": "code",
   "execution_count": null,
   "metadata": {
    "collapsed": false
   },
   "outputs": [],
   "source": [
    "def y_f(x): return 2+x**2\n",
    "\n",
    "import scipy as sp\n",
    "import scipy.optimize as scopt\n",
    "import scipy.stats as spstats\n",
    "scopt.fmin(y_f, 1000)"
   ]
  },
  {
   "cell_type": "code",
   "execution_count": null,
   "metadata": {
    "collapsed": false
   },
   "outputs": [],
   "source": [
    "def negative_sharpe_ratio_n_minus_1_stock(weights, \n",
    "                                          returns, \n",
    "                                          risk_free_rate):\n",
    "    \"\"\"\n",
    "    Given n-1 weights, return a negative sharpe ratio\n",
    "    \"\"\"\n",
    "    weights2 = sp.append(weights, 1-np.sum(weights))\n",
    "    return -sharpe_ratio(returns, weights2, risk_free_rate)\n",
    "def optimize_portfolio(returns, risk_free_rate):\n",
    "    \"\"\" \n",
    "    Performs the optimization\n",
    "    \"\"\"\n",
    "    # start with equal weights\n",
    "    w0 = np.ones(returns.columns.size-1, \n",
    "                 dtype=float) * 1.0 / returns.columns.size\n",
    "    # minimize the negative sharpe value\n",
    "    w1 = scopt.fmin(negative_sharpe_ratio_n_minus_1_stock, \n",
    "                    w0, args=(returns, risk_free_rate))\n",
    "    # build final set of weights\n",
    "    final_w = sp.append(w1, 1 - np.sum(w1))\n",
    "    # and calculate the final, optimized, sharpe ratio\n",
    "    final_sharpe = sharpe_ratio(returns, final_w, risk_free_rate)\n",
    "    return (final_w, final_sharpe)\n",
    "optimize_portfolio(iport, 0.045)"
   ]
  },
  {
   "cell_type": "code",
   "execution_count": null,
   "metadata": {
    "collapsed": false
   },
   "outputs": [],
   "source": [
    "def objfun(W, R, target_ret):\n",
    "    stock_mean = np.mean(R,axis=0)\n",
    "    port_mean = np.dot(W,stock_mean) # portfolio mean\n",
    "    cov=np.cov(R.T) # var-cov matrix\n",
    "    port_var = np.dot(np.dot(W,cov),W.T) # portfolio variance\n",
    "    penalty = 2000*abs(port_mean-target_ret)# penalty 4 deviation\n",
    "    return np.sqrt(port_var) + penalty # objective function\n",
    "def calc_efficient_frontier(returns):\n",
    "    result_means = []\n",
    "    result_stds = []\n",
    "    result_weights = []\n",
    "    \n",
    "    means = returns.mean()\n",
    "    min_mean, max_mean = means.min(), means.max()\n",
    "    \n",
    "    nstocks = returns.columns.size\n",
    "    \n",
    "    for r in np.linspace(min_mean, max_mean, 100):\n",
    "        weights = np.ones(nstocks)/nstocks\n",
    "        bounds = [(0,1) for i in np.arange(nstocks)]\n",
    "        constraints = ({'type': 'eq', \n",
    "                        'fun': lambda W: np.sum(W) - 1})\n",
    "        results = scopt.minimize(objfun, weights, (returns, r), \n",
    "                                 method='SLSQP', \n",
    "                                 constraints = constraints,\n",
    "                                 bounds = bounds)\n",
    "        if not results.success: # handle error\n",
    "            raise Exception(result.message)\n",
    "        result_means.append(np.round(r,4)) # 4 decimal places\n",
    "        std_=np.round(np.std(np.sum(returns*results.x,axis=1)),6)\n",
    "        result_stds.append(std_)\n",
    "        \n",
    "        result_weights.append(np.round(results.x, 5))\n",
    "    return {'Means': result_means, \n",
    "            'Stds': result_stds, \n",
    "            'Weights': result_weights}\n",
    "frontier_data = calc_efficient_frontier(iport)\n",
    "# first five risk levels\n",
    "frontier_data['Stds'][:5]\n",
    "# first five mean returns\n",
    "frontier_data['Means'][:5]\n",
    "# first five sets of optimal weights\n",
    "frontier_data['Weights'][:5]"
   ]
  },
  {
   "cell_type": "code",
   "execution_count": null,
   "metadata": {
    "collapsed": false
   },
   "outputs": [],
   "source": [
    "def plot_efficient_frontier(frontier_data):\n",
    "    plt.figure(figsize=(12,8))\n",
    "    plt.title('Efficient Frontier')\n",
    "    plt.xlabel('Standard Deviation of the porfolio (Risk))')\n",
    "    plt.ylabel('Return of the portfolio')\n",
    "    plt.plot(frontier_data['Stds'], frontier_data['Means'], '--'); \n",
    "    \n",
    "plot_efficient_frontier(frontier_data)"
   ]
  },
  {
   "cell_type": "code",
   "execution_count": null,
   "metadata": {
    "collapsed": false
   },
   "outputs": [],
   "source": [
    "z = spstats.norm.ppf(0.95)\n",
    "VaR = 10000 * (z * iport.INFY.std())\n",
    "VaR"
   ]
  },
  {
   "cell_type": "code",
   "execution_count": null,
   "metadata": {
    "collapsed": false
   },
   "outputs": [],
   "source": [
    "import matplotlib.mlab as mlab\n",
    "# draw a 99% one-tail confidence interval\n",
    "x = np.linspace(-4,4,101)\n",
    "y = np.exp(-x**2/2) / np.sqrt(2*np.pi)\n",
    "x2 = np.linspace(-4,-2.33,101)\n",
    "y2 = np.exp(-x2**2/2) / np.sqrt(2*np.pi)\n",
    "f = plt.figure(figsize=(12,8))\n",
    "plt.plot(x,y*100, linewidth=2)\n",
    "xf, yf = mlab.poly_between(x2, 0*x2, y2*100)\n",
    "plt.fill(xf, yf, facecolor='g', alpha=0.5)\n",
    "plt.gca().set_xlabel('z-score')\n",
    "plt.gca().set_ylabel('Frequency %')\n",
    "plt.title(\"VaR based on the standard normal distribution\")\n",
    "bbox_props = dict(boxstyle=\"rarrow,pad=0.3\", fc=\"w\", ec=\"b\", lw=2)\n",
    "t = f.text(0.25, 0.35, \"99% VaR confidence level\", ha=\"center\", va=\"center\", \n",
    "           rotation=270,\n",
    "            size=15,\n",
    "            bbox=bbox_props)\n",
    "plt.savefig('5104OS_09_21.png', bbox_inches='tight', dpi=300)"
   ]
  },
  {
   "cell_type": "code",
   "execution_count": null,
   "metadata": {
    "collapsed": false
   },
   "outputs": [],
   "source": [
    "ret[['GALLISPAT', 'INFY']].plot()"
   ]
  },
  {
   "cell_type": "code",
   "execution_count": null,
   "metadata": {
    "collapsed": false
   },
   "outputs": [],
   "source": [
    "get_hist_data(hist_data, 'INFY')['2001-04']"
   ]
  },
  {
   "cell_type": "code",
   "execution_count": null,
   "metadata": {
    "collapsed": false
   },
   "outputs": [],
   "source": [
    "def rand_weights(n):\n",
    "    ''' Produces n random weights that sum to 1 '''\n",
    "    k = np.random.rand(n)\n",
    "    return k / sum(k)\n",
    "\n",
    "def random_portfolio(returns):\n",
    "    ''' \n",
    "    Returns the mean and standard deviation of returns for a random portfolio\n",
    "    '''\n",
    "\n",
    "    p = np.asmatrix(np.mean(returns, axis=1))\n",
    "    w = np.asmatrix(rand_weights(returns.shape[0]))\n",
    "    C = np.asmatrix(np.cov(returns))\n",
    "    \n",
    "    mu = w * p.T\n",
    "    sigma = np.sqrt(w * C * w.T)\n",
    "    \n",
    "    # This recursion reduces outliers to keep plots pretty\n",
    "    if sigma > 2:\n",
    "        return random_portfolio(returns)\n",
    "    return mu, sigma"
   ]
  },
  {
   "cell_type": "code",
   "execution_count": null,
   "metadata": {
    "collapsed": false
   },
   "outputs": [],
   "source": [
    "ret.dropna(axis=1)"
   ]
  },
  {
   "cell_type": "code",
   "execution_count": null,
   "metadata": {
    "collapsed": false
   },
   "outputs": [],
   "source": [
    "symbol_list['INFY']"
   ]
  },
  {
   "cell_type": "code",
   "execution_count": null,
   "metadata": {
    "collapsed": true
   },
   "outputs": [],
   "source": []
  }
 ],
 "metadata": {
  "anaconda-cloud": {},
  "kernelspec": {
   "display_name": "Python [conda root]",
   "language": "python",
   "name": "conda-root-py"
  },
  "language_info": {
   "codemirror_mode": {
    "name": "ipython",
    "version": 3
   },
   "file_extension": ".py",
   "mimetype": "text/x-python",
   "name": "python",
   "nbconvert_exporter": "python",
   "pygments_lexer": "ipython3",
   "version": "3.5.2"
  }
 },
 "nbformat": 4,
 "nbformat_minor": 1
}
