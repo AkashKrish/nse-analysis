{
 "cells": [
  {
   "cell_type": "code",
   "execution_count": null,
   "metadata": {
    "collapsed": true
   },
   "outputs": [],
   "source": [
    "def pairwise(iterable):\n",
    "    \"s -> (s0, s1), (s2, s3), (s4, s5), ...\"\n",
    "    a = iter(iterable)\n",
    "    return zip(a, a)\n",
    "def consecutive_nulls(series):\n",
    "    null_series = pd.Series(0, index=series.index)\n",
    "    for i in series.iteritems():\n",
    "        if np.isnan(i[1]):\n",
    "            current_index = series.index.get_loc(i[0])\n",
    "            try:\n",
    "                next_index = series.index.get_loc(idata.adj_close.ix[i[0]:].first_valid_index())\n",
    "                counts = next_index - current_index\n",
    "                if idata.null_count[i[0]] != 0:\n",
    "                    continue\n",
    "                null_series.ix[current_index:next_index] = counts\n",
    "            except KeyError as e:\n",
    "                null_series.ix[current_index] = 1\n",
    "    return null_series"
   ]
  },
  {
   "cell_type": "code",
   "execution_count": null,
   "metadata": {
    "collapsed": true
   },
   "outputs": [],
   "source": [
    "dlist = []\n",
    "plist = []\n",
    "nlist = []\n",
    "adj_idata = idata.copy()\n",
    "adj_idata = adj_idata.reset_index()\n",
    "for i in adj_idata.itertuples():\n",
    "    if round(i.rat, 4) > 0:\n",
    "        if i.simple_returns > 100:\n",
    "            plist.append(i[0])\n",
    "        if i.simple_returns < -50:\n",
    "            nlist.append(i[0])\n",
    "# print(dlist)\n",
    "print(plist, nlist)\n",
    "for i in range(0, len(plist)):\n",
    "    if abs(plist[i] - nlist[i]) == 2:\n",
    "        adj_idata.ix[plist[i]:nlist[i]-1, 'adj_close'] = adj_idata.ix[plist[i]:nlist[i]-1, 'close']*adj_idata.rat[plist[i]-1]\n",
    "        print(adj_idata.ix[plist[i]-1:nlist[i]+1])"
   ]
  },
  {
   "cell_type": "code",
   "execution_count": null,
   "metadata": {
    "collapsed": true
   },
   "outputs": [],
   "source": [
    "dlist = []\n",
    "plist = []\n",
    "nlist = []\n",
    "for i in idata.itertuples():\n",
    "    if round(i.rat, 4) > 0:\n",
    "        if i.simple_returns > 100:\n",
    "            plist.append(i[0])\n",
    "        if i.simple_returns < -50:\n",
    "            nlist.append(i[0])\n",
    "# print(dlist)\n",
    "print(plist, nlist)\n",
    "# for p,q in zip(dlist[::2], dlist[1::2]):\n",
    "#     date_diff = (q-p).days\n",
    "#     print(date_diff)\n",
    "#     if date_diff > 1 and date_diff < 20:\n",
    "#         psp = idata.index.get_loc(p)\n",
    "#         psp2 = idata.index.get_loc(q)\n",
    "# #         print(idata.ix[psp-2:psp2+2,  ['adj_close', 'close', 'rat']])\n",
    "#         idata.ix[psp:psp2, 'adj_close'] = idata.ix[psp:psp2, 'close'] * idata.ix[psp-1, 'rat']\n",
    "#         idata['rat'] = idata.adj_close/idata.close\n",
    "# #         print(idata.ix[psp-2:psp2+2,  ['adj_close', 'close', 'rat']])\n",
    "\n",
    "#     elif date_diff == 1:\n",
    "#         psp = idata.index.get_loc(p)\n",
    "#         psp2 = idata.index.get_loc(q)\n",
    "# #         print(idata.ix[psp-1:psp2+1, ['adj_close', 'close', 'rat', 'rat2']] )\n",
    "#         idata.ix[psp, 'adj_close'] = idata.ix[psp, 'close'] * idata.ix[psp-1, 'rat']\n",
    "# #         print(idata.ix[psp2-1:psp2+2, ['adj_close', 'close', 'rat', 'rat2']] )\n",
    "\n",
    "# #     elif date_diff > 60:\n",
    "# #         psp = idata.index.get_loc(p)\n",
    "# #         psp2 = idata.index.get_loc(q)\n",
    "# #         print(idata.ix[psp-2:psp2+2,  ['adj_close', 'close', 'rat','rat2', 'adj_simple_returns']] )\n",
    "# #         idata.ix[psp:psp2, 'adj_close'] = idata.ix[psp:psp2, 'close'] * idata.ix[psp-1, 'rat']\n",
    "# #         print(idata.ix[psp-1:psp2+2,  ['adj_close', 'close', 'rat','rat2', 'adj_simple_returns']] )\n",
    "\n",
    "\n",
    "# # idata = idata.sort_index(ascending=True)\n",
    "# idata['adj_simple_returns'] = ((idata.adj_close - idata.adj_close.shift(1)) /\n",
    "#                                   idata.adj_close.shift(1)) * 100\n",
    "# idata['adj_log_returns'] = np.log(idata.adj_close /\n",
    "#                                      idata.adj_close.shift(1)) * 100\n",
    "# idata['rat'] = idata.adj_close/idata.close\n",
    "# # idata = idata.sort_index(ascending=False)\n",
    "# idata.adj_close['2014-11-20':'2014-12-05']"
   ]
  },
  {
   "cell_type": "code",
   "execution_count": null,
   "metadata": {
    "collapsed": true
   },
   "outputs": [],
   "source": [
    "import urllib\n",
    "symbol = 'INFY.NS'\n",
    "from_date = symbol_meta[symbol_meta.symbol == 'INFY'].date_of_listing.values[0]\n",
    "to_date = datetime.today().date()\n",
    "enco = urllib.parse.urlencode\n",
    "base = enco((('a', from_date.month), ('b', from_date.day), ('c', from_date.year),\n",
    "             ('d', to_date.month), ('e', to_date.day), ('f', to_date.year),\n",
    "             ('g', 'd'), ('ignore', '.csv')\n",
    "            ))\n",
    "symbol_data = pd.DataFrame(index=pd.date_range(start=from_date, end=to_date))\n",
    "url = 'http://real-chart.finance.yahoo.com/table.csv?'+'s='+symbol+'&'+ base\n",
    "url\n",
    "data = pd.read_csv(url, parse_dates=['Date'], index_col='Date', usecols=['Date','Adj Close'])\n",
    "rename_columns(data)\n",
    "data = data.sort_index()\n",
    "\n",
    "type(data.head())\n"
   ]
  }
 ],
 "metadata": {
  "anaconda-cloud": {},
  "kernelspec": {
   "display_name": "Python [conda root]",
   "language": "python",
   "name": "conda-root-py"
  },
  "language_info": {
   "codemirror_mode": {
    "name": "ipython",
    "version": 3
   },
   "file_extension": ".py",
   "mimetype": "text/x-python",
   "name": "python",
   "nbconvert_exporter": "python",
   "pygments_lexer": "ipython3",
   "version": "3.5.2"
  }
 },
 "nbformat": 4,
 "nbformat_minor": 1
}
