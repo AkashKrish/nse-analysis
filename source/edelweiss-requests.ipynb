{
 "cells": [
  {
   "cell_type": "code",
   "execution_count": 1,
   "metadata": {
    "collapsed": false
   },
   "outputs": [],
   "source": [
    "import pandas as pd\n",
    "import numpy as np\n",
    "\n",
    "from selenium import webdriver\n",
    "from selenium.webdriver.support.ui import WebDriverWait\n",
    "from selenium.webdriver.support import expected_conditions as EC\n",
    "from selenium.webdriver.common.by import By\n",
    "from selenium.common.exceptions import TimeoutException\n",
    "from selenium.webdriver.common.keys import Keys\n",
    "\n",
    "from bs4 import BeautifulSoup\n",
    "import time\n",
    "\n",
    "from symbol import Symbol\n",
    "from helpers import rename_columns, SafeHDFStore, clean_file\n",
    "\n",
    "import warnings\n",
    "warnings.filterwarnings('ignore')"
   ]
  },
  {
   "cell_type": "code",
   "execution_count": null,
   "metadata": {
    "collapsed": true
   },
   "outputs": [],
   "source": []
  },
  {
   "cell_type": "code",
   "execution_count": 69,
   "metadata": {
    "collapsed": false
   },
   "outputs": [],
   "source": [
    "\n",
    "jss = json.loads(open('edel.har', 'r').read())"
   ]
  },
  {
   "cell_type": "code",
   "execution_count": 1,
   "metadata": {
    "collapsed": false
   },
   "outputs": [
    {
     "ename": "NameError",
     "evalue": "name 'requests' is not defined",
     "output_type": "error",
     "traceback": [
      "\u001b[0;31m---------------------------------------------------------------------------\u001b[0m",
      "\u001b[0;31mNameError\u001b[0m                                 Traceback (most recent call last)",
      "\u001b[0;32m<ipython-input-1-68a82e99eab5>\u001b[0m in \u001b[0;36m<module>\u001b[0;34m()\u001b[0m\n\u001b[1;32m     16\u001b[0m \u001b[1;31m# Adding empty header as parameters are being sent in payload\u001b[0m\u001b[1;33m\u001b[0m\u001b[1;33m\u001b[0m\u001b[0m\n\u001b[1;32m     17\u001b[0m \u001b[0mpayload\u001b[0m \u001b[1;33m=\u001b[0m \u001b[1;33m{\u001b[0m\u001b[1;34m\"syLst\"\u001b[0m\u001b[1;33m:\u001b[0m\u001b[1;33m[\u001b[0m\u001b[1;34m\"ANDCEM\"\u001b[0m\u001b[1;33m]\u001b[0m\u001b[1;33m}\u001b[0m\u001b[1;33m\u001b[0m\u001b[0m\n\u001b[0;32m---> 18\u001b[0;31m \u001b[0mr\u001b[0m \u001b[1;33m=\u001b[0m \u001b[0mrequests\u001b[0m\u001b[1;33m.\u001b[0m\u001b[0mpost\u001b[0m\u001b[1;33m(\u001b[0m\u001b[0murl\u001b[0m\u001b[1;33m,\u001b[0m \u001b[0mdata\u001b[0m\u001b[1;33m=\u001b[0m\u001b[0mjson\u001b[0m\u001b[1;33m.\u001b[0m\u001b[0mdumps\u001b[0m\u001b[1;33m(\u001b[0m\u001b[0mpayload\u001b[0m\u001b[1;33m)\u001b[0m\u001b[1;33m,\u001b[0m \u001b[0mheaders\u001b[0m\u001b[1;33m=\u001b[0m\u001b[0mheaders\u001b[0m\u001b[1;33m,\u001b[0m \u001b[0mverify\u001b[0m\u001b[1;33m=\u001b[0m\u001b[1;32mFalse\u001b[0m\u001b[1;33m)\u001b[0m\u001b[1;33m\u001b[0m\u001b[0m\n\u001b[0m\u001b[1;32m     19\u001b[0m \u001b[0mrx\u001b[0m \u001b[1;33m=\u001b[0m \u001b[0mrequests\u001b[0m\u001b[1;33m.\u001b[0m\u001b[0mget\u001b[0m\u001b[1;33m(\u001b[0m\u001b[1;34m'https://z.webengage.co/gz.js'\u001b[0m\u001b[1;33m)\u001b[0m\u001b[1;33m\u001b[0m\u001b[0m\n\u001b[1;32m     20\u001b[0m \u001b[0mpx\u001b[0m \u001b[1;33m=\u001b[0m \u001b[0mrequests\u001b[0m\u001b[1;33m.\u001b[0m\u001b[0mget\u001b[0m\u001b[1;33m(\u001b[0m\u001b[1;34m'https://c.webengage.com/upf.js?&lp=https://www.edelweiss.in/quotes/equity/Infosys-Ltd-2806?q=infy&type=relevance&rf=&geo=y&jsonp=_we_jsonp_global_cb_1485005650151'\u001b[0m\u001b[1;33m)\u001b[0m\u001b[1;33m\u001b[0m\u001b[0m\n",
      "\u001b[0;31mNameError\u001b[0m: name 'requests' is not defined"
     ]
    }
   ],
   "source": [
    "url =  'https://ewmw.edelweiss.in/api/Market/Process/GetEquitiesSymbolDetails'\n",
    "headers = {\n",
    "    'Host': 'ewmw.edelweiss.in',\n",
    "    'Connection': 'keep-alive',\n",
    "    'Origin': 'https://www.edelweiss.in',\n",
    "    'User-Agent': 'Mozilla/5.0 (Windows NT 10.0; Win64; x64) AppleWebKit/537.36 (KHTML, like Gecko) Chrome/55.0.2883.87 Safari/537.36',\n",
    "    'Access-Control-Request-Headers': 'content-type',\n",
    "    'Accept': '*/*',\n",
    "    'Referer': 'https://www.edelweiss.in/quotes/equity/Andhra-Cements-Ltd-19?q=andhra%20cements%20ltd',\n",
    "    'Accept-Encoding': 'gzip, deflate, sdch, br',\n",
    "    'Accept-Language': 'en-IN,en;q=0.8',    \n",
    "    \"Accept\" : \"application/json, text/plain, */*\",\n",
    "    \"Content-Type\" : \"application/json; charset=UTF-8\",\n",
    "    \"Content-Length\" : \"20\"\n",
    "}\n",
    "# Adding empty header as parameters are being sent in payload\n",
    "payload = {\"syLst\":[\"ANDCEM\"]}\n",
    "r = requests.post(url, data=json.dumps(payload), headers=headers, verify=False)\n",
    "rx = requests.get('https://z.webengage.co/gz.js')\n",
    "px = requests.get('https://c.webengage.com/upf.js?&lp=https://www.edelweiss.in/quotes/equity/Infosys-Ltd-2806?q=infy&type=relevance&rf=&geo=y&jsonp=_we_jsonp_global_cb_1485005650151')"
   ]
  },
  {
   "cell_type": "code",
   "execution_count": 188,
   "metadata": {
    "collapsed": false
   },
   "outputs": [
    {
     "data": {
      "text/plain": [
       "'_we_jsonp_global_cb_1485005650151({\"geo\":{\"clientIp\":\"112.133.208.178\",\"serverTimeStamp\":1485006016450,\"country\":\"India\",\"region\":null,\"city\":null,\"geoplugin_countryName\":\"India\",\"geoplugin_region\":null,\"geoplugin_city\":null},\"acquisitionData\":{\"referrer_type\":\"direct\",\"landing_page\":\"https://www.edelweiss.in/quotes/equity/Infosys-Ltd-2806?q=infy\"},\"ua\":{\"browser\":{},\"os\":{},\"device\":\"desktop\"},\"ts\":1485006016451})'"
      ]
     },
     "execution_count": 188,
     "metadata": {},
     "output_type": "execute_result"
    }
   ],
   "source": [
    "(json.loads(str(r.text)))\n",
    "r.url\n",
    "rx\n",
    "px.text"
   ]
  },
  {
   "cell_type": "code",
   "execution_count": 104,
   "metadata": {
    "collapsed": false
   },
   "outputs": [
    {
     "data": {
      "text/plain": [
       "{'bodySize': 0,\n",
       " 'cookies': [],\n",
       " 'headers': [{'name': 'Accept', 'value': 'application/json, text/plain, */*'},\n",
       "  {'name': 'Referer',\n",
       "   'value': 'https://www.edelweiss.in/quotes/equity/Andhra-Cements-Ltd-19?q=andhra%20cements%20ltd'},\n",
       "  {'name': 'Origin', 'value': 'https://www.edelweiss.in'},\n",
       "  {'name': 'User-Agent',\n",
       "   'value': 'Mozilla/5.0 (X11; Linux x86_64) AppleWebKit/538.1 (KHTML, like Gecko) splash Safari/538.1'},\n",
       "  {'name': 'Content-Type', 'value': 'application/json;charset=UTF-8'},\n",
       "  {'name': 'Content-Length', 'value': '20'}],\n",
       " 'headersSize': 342,\n",
       " 'httpVersion': 'HTTP/1.1',\n",
       " 'method': 'POST',\n",
       " 'queryString': [],\n",
       " 'url': 'https://ewmw.edelweiss.in/api/Market/Process/GetEquitiesSymbolDetails'}"
      ]
     },
     "execution_count": 104,
     "metadata": {},
     "output_type": "execute_result"
    }
   ],
   "source": [
    "liss = jss['log']['entries']\n",
    "for ls in liss:\n",
    "    if ls['request']['url'] == 'https://ewmw.edelweiss.in/api/Market/Process/GetEquitiesSymbolDetails':\n",
    "        mys = ls['request']\n",
    "mys"
   ]
  },
  {
   "cell_type": "code",
   "execution_count": 111,
   "metadata": {
    "collapsed": false
   },
   "outputs": [
    {
     "name": "stdout",
     "output_type": "stream",
     "text": [
      "('{\"Accept\" : \"application/json, text/plain, */*\", \"Referer\" : '\n",
      " '\"https://www.edelweiss.in/quotes/equity/Andhra-Cements-Ltd-19?q=andhra%20cements%20ltd\", '\n",
      " '\"Origin\" : \"https://www.edelweiss.in\", \"User-Agent\" : \"Mozilla/5.0 (X11; '\n",
      " 'Linux x86_64) AppleWebKit/538.1 (KHTML, like Gecko) splash Safari/538.1\", '\n",
      " '\"Content-Type\" : \"application/json;charset=UTF-8\", \"Content-Length\" : \"20\"}')\n"
     ]
    }
   ],
   "source": [
    "listss= []\n",
    "for head in mys['headers']:\n",
    "     listss.append('\"{0}\" : \"{1}\"'.format(head.get('name'), head.get('value')))\n",
    "import pprint\n",
    "pprint.pprint('{'+', '.join(listss)+'}')"
   ]
  },
  {
   "cell_type": "code",
   "execution_count": 106,
   "metadata": {
    "collapsed": false
   },
   "outputs": [
    {
     "data": {
      "text/plain": [
       "'\"{\\\\\"Accept\\\\\" : \\\\\"application/json, text/plain, */*\\\\\", \\\\\"Referer\\\\\" : \\\\\"https://www.edelweiss.in/quotes/equity/Andhra-Cements-Ltd-19?q=andhra%20cements%20ltd\\\\\", \\\\\"Origin\\\\\" : \\\\\"https://www.edelweiss.in\\\\\", \\\\\"User-Agent\\\\\" : \\\\\"Mozilla/5.0 (X11; Linux x86_64) AppleWebKit/538.1 (KHTML, like Gecko) splash Safari/538.1\\\\\", \\\\\"Content-Type\\\\\" : \\\\\"application/json;charset=UTF-8\\\\\", \\\\\"Content-Length\\\\\" : \\\\\"20\\\\\"}\"'"
      ]
     },
     "execution_count": 106,
     "metadata": {},
     "output_type": "execute_result"
    }
   ],
   "source": [
    "json.dumps('{'+', '.join(listss)+'}')"
   ]
  },
  {
   "cell_type": "code",
   "execution_count": 190,
   "metadata": {
    "collapsed": false,
    "scrolled": false
   },
   "outputs": [],
   "source": [
    "psd = requests.get('https://ewstream.edelweiss.in/signalr/start?transport=webSockets&clientProtocol=1.5&connectionToken=AQAAANCMnd8BFdERjHoAwE%2FCl%2BsBAAAAkehhiqPHgE6YOI6ZrMjuFAAAAAACAAAAAAAQZgAAAAEAACAAAAChZ39t6cbr7goyVqlnKxuAuP6tw%2BrH7pX%2BTK8TleDxVQAAAAAOgAAAAAIAACAAAADLyZF%2BQo0KHhoMFw6LIAm3YXivnGROiUHDS6010iFo9zAAAABW7PzYR1BhaQPzbMpSWH535F%2BremEjXjWiMgFs6AsuM3cIMtxUEr5ZlSoDH4zu%2BHlAAAAA8FKuyICT5OJahRdPQz3FsH2rgZ38%2F3sMFaUc7eLkDJqrb220ptDUH%2FK3pwOYkUIC4EYsvNXkhAkicS8DLt8pnQ%3D%3D&connectionData=%5B%7B%22name%22%3A%22stockfeedhub%22%7D%5D&_=1485003929994')"
   ]
  },
  {
   "cell_type": "code",
   "execution_count": 192,
   "metadata": {
    "collapsed": false
   },
   "outputs": [
    {
     "data": {
      "text/plain": [
       "'{ \"Response\": \"started\" }'"
      ]
     },
     "execution_count": 192,
     "metadata": {},
     "output_type": "execute_result"
    }
   ],
   "source": [
    "psd.text"
   ]
  },
  {
   "cell_type": "code",
   "execution_count": null,
   "metadata": {
    "collapsed": true
   },
   "outputs": [],
   "source": []
  }
 ],
 "metadata": {
  "anaconda-cloud": {},
  "kernelspec": {
   "display_name": "Python [conda root]",
   "language": "python",
   "name": "conda-root-py"
  },
  "language_info": {
   "codemirror_mode": {
    "name": "ipython",
    "version": 3
   },
   "file_extension": ".py",
   "mimetype": "text/x-python",
   "name": "python",
   "nbconvert_exporter": "python",
   "pygments_lexer": "ipython3",
   "version": "3.5.2"
  }
 },
 "nbformat": 4,
 "nbformat_minor": 2
}
