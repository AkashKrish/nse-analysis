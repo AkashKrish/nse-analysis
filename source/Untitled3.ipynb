{
 "cells": [
  {
   "cell_type": "code",
   "execution_count": null,
   "metadata": {
    "collapsed": true
   },
   "outputs": [],
   "source": [
    "import requests\n",
    "from bs4 import BeautifulSoup\n",
    "import time\n",
    "import json\n",
    "import pandas as pd\n",
    "from io import StringIO\n",
    "from market import Market\n",
    "from market import INDEX_META, INDEX_URL\n",
    "from helpers import rename_columns\n",
    "from symbol import Symbol\n",
    "import os\n",
    "import warnings\n",
    "from datetime import datetime\n",
    "from market import Market\n",
    "\n",
    "import pandas as pd\n",
    "from dateutil.relativedelta import relativedelta\n",
    "from helpers import clean_file, SafeHDFStore\n",
    "import concurrent.futures\n",
    "import warnings\n",
    "from datetime import datetime\n",
    "from io import StringIO\n",
    "\n",
    "import numpy as np\n",
    "import pandas as pd\n",
    "import requests\n",
    "from nsepy import get_history\n",
    "\n",
    "import concurrent.futures\n",
    "from helpers import rename_columns\n",
    "\n",
    "# URLs for getting data\n",
    "INDEX_URL = 'https://www.nseindia.com/content/indices/{0}.csv'\n",
    "SYMBOL_LIST_URL = 'https://www.nseindia.com/content/equities/EQUITY_L.csv'\n",
    "YAHOO_URL = 'http://real-chart.finance.yahoo.com/table.csv?'\n",
    "TECHPAISA_URL = 'http://techpaisa.com/sector/'"
   ]
  },
  {
   "cell_type": "code",
   "execution_count": null,
   "metadata": {
    "collapsed": false
   },
   "outputs": [],
   "source": [
    "s = Symbol()\n",
    "symbol_meta = s.symbol_meta"
   ]
  },
  {
   "cell_type": "code",
   "execution_count": null,
   "metadata": {
    "collapsed": false
   },
   "outputs": [],
   "source": [
    "s.force_load_data('symbol_hist')"
   ]
  },
  {
   "cell_type": "code",
   "execution_count": null,
   "metadata": {
    "collapsed": true
   },
   "outputs": [],
   "source": []
  }
 ],
 "metadata": {
  "anaconda-cloud": {},
  "kernelspec": {
   "display_name": "Python [conda root]",
   "language": "python",
   "name": "conda-root-py"
  },
  "language_info": {
   "codemirror_mode": {
    "name": "ipython",
    "version": 3
   },
   "file_extension": ".py",
   "mimetype": "text/x-python",
   "name": "python",
   "nbconvert_exporter": "python",
   "pygments_lexer": "ipython3",
   "version": "3.5.2"
  }
 },
 "nbformat": 4,
 "nbformat_minor": 2
}
