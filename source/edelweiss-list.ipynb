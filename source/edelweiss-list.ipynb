{
 "cells": [
  {
   "cell_type": "code",
   "execution_count": 1,
   "metadata": {
    "collapsed": false
   },
   "outputs": [],
   "source": [
    "import pandas as pd\n",
    "import numpy as np\n",
    "\n",
    "from selenium import webdriver\n",
    "from selenium.webdriver.support.ui import WebDriverWait\n",
    "from selenium.webdriver.support import expected_conditions as EC\n",
    "from selenium.webdriver.common.by import By\n",
    "from selenium.common.exceptions import TimeoutException\n",
    "from selenium.webdriver.common.keys import Keys\n",
    "\n",
    "from bs4 import BeautifulSoup\n",
    "import time\n",
    "\n",
    "from symbol import Symbol\n",
    "from helpers import rename_columns, SafeHDFStore, clean_file\n",
    "from edelweiss import *\n",
    "import warnings\n",
    "warnings.filterwarnings('ignore')"
   ]
  },
  {
   "cell_type": "code",
   "execution_count": null,
   "metadata": {
    "collapsed": false
   },
   "outputs": [],
   "source": [
    "s = Symbol()\n",
    "symbol_list = s.symbol_list\n",
    "\n",
    "edelweiss_list = load_initial_data('list')\n",
    "ratio_data = load_initial_data('ratios')\n",
    "pnl_annual = load_initial_data('pnl_annual')\n",
    "balancesheet = load_initial_data('balancesheet')\n",
    "cashflow = load_initial_data('cashflow')\n",
    "peers = load_initial_data('peers')\n",
    "\n",
    "# edelweiss_list = edelweiss_list.append(pd.DataFrame(index=symbol_list.index))\n",
    "# edelweiss_list = edelweiss_list.reset_index().drop_duplicates(['symbol']).set_index('symbol')\n",
    "# load_list = edelweiss_list.index[edelweiss_list.edelweiss_url.isnull()]\n",
    "# print(load_list)\n",
    "# len(symbol_list)\n"
   ]
  },
  {
   "cell_type": "code",
   "execution_count": 2,
   "metadata": {
    "collapsed": false
   },
   "outputs": [],
   "source": [
    "edelweiss_list = load_initial_data('list')"
   ]
  },
  {
   "cell_type": "code",
   "execution_count": 41,
   "metadata": {
    "collapsed": false
   },
   "outputs": [],
   "source": [
    "regex = edelweiss_list.edelweiss_url.str.extractall('(\\d+)')\n",
    "regex = regex.reset_index().groupby('symbol').last().drop(['match'], axis=1)\n",
    "regex.columns = ['code']"
   ]
  },
  {
   "cell_type": "code",
   "execution_count": 7,
   "metadata": {
    "collapsed": false
   },
   "outputs": [
    {
     "data": {
      "text/plain": [
       "['42', '32', '30']"
      ]
     },
     "execution_count": 7,
     "metadata": {},
     "output_type": "execute_result"
    }
   ],
   "source": [
    "import re\n",
    "re.findall(r'\\d+', 'hello 42 I\\'m a 32 string 30')"
   ]
  },
  {
   "cell_type": "code",
   "execution_count": 43,
   "metadata": {
    "collapsed": false
   },
   "outputs": [],
   "source": [
    "regex.to_hdf('edelweiss.h5', 'codes')"
   ]
  },
  {
   "cell_type": "code",
   "execution_count": null,
   "metadata": {
    "collapsed": true
   },
   "outputs": [],
   "source": []
  }
 ],
 "metadata": {
  "anaconda-cloud": {},
  "kernelspec": {
   "display_name": "Python [conda root]",
   "language": "python",
   "name": "conda-root-py"
  },
  "language_info": {
   "codemirror_mode": {
    "name": "ipython",
    "version": 3
   },
   "file_extension": ".py",
   "mimetype": "text/x-python",
   "name": "python",
   "nbconvert_exporter": "python",
   "pygments_lexer": "ipython3",
   "version": "3.5.2"
  }
 },
 "nbformat": 4,
 "nbformat_minor": 2
}
