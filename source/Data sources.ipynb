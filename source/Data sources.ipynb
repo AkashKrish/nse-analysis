{
 "cells": [
  {
   "cell_type": "code",
   "execution_count": 55,
   "metadata": {
    "collapsed": true
   },
   "outputs": [],
   "source": [
    "def fetch_index_meta(req_index):\n",
    "    index = req_index.Index\n",
    "    url = req_index.url\n",
    "    r = requests.get(INDEX_URL.format(url))\n",
    "    try:\n",
    "        index_data = pd.read_csv(StringIO(r.text), index_col='Symbol')\n",
    "        if index_data.empty:\n",
    "            warnings.warn('No data recieved for {0} index'.format(index))\n",
    "            return pd.Datafame()\n",
    "        else:\n",
    "            print('Data loaded for {0} index'.format(index))\n",
    "    except Exception as e:\n",
    "        warnings.warn(\n",
    "            'Unable to get index meta for {0} index'.format(index)\n",
    "        )\n",
    "        return pd.Datafame()\n",
    "    rename_columns(index_data)\n",
    "    index_data[index] = True\n",
    "    return index_data[index]"
   ]
  },
  {
   "cell_type": "code",
   "execution_count": 56,
   "metadata": {
    "collapsed": false
   },
   "outputs": [],
   "source": [
    "INDEX_META = pd.read_hdf('constants.h5', 'index_meta')\n",
    "INDEX_LIST = pd.read_hdf('constants.h5', 'index_list')\n",
    "INDUSTRY_DICT = pd.read_hdf('constants.h5', 'industry_list')"
   ]
  },
  {
   "cell_type": "code",
   "execution_count": 57,
   "metadata": {
    "collapsed": false
   },
   "outputs": [
    {
     "ename": "NameError",
     "evalue": "name 'requests' is not defined",
     "output_type": "error",
     "traceback": [
      "\u001b[0;31m---------------------------------------------------------------------------\u001b[0m",
      "\u001b[0;31mNameError\u001b[0m                                 Traceback (most recent call last)",
      "\u001b[0;32m<ipython-input-57-5641f05e6d45>\u001b[0m in \u001b[0;36m<module>\u001b[0;34m()\u001b[0m\n\u001b[1;32m      1\u001b[0m \u001b[1;32mfor\u001b[0m \u001b[0mi\u001b[0m \u001b[1;32min\u001b[0m \u001b[0mINDEX_META\u001b[0m\u001b[1;33m.\u001b[0m\u001b[0mitertuples\u001b[0m\u001b[1;33m(\u001b[0m\u001b[1;33m)\u001b[0m\u001b[1;33m:\u001b[0m\u001b[1;33m\u001b[0m\u001b[0m\n\u001b[0;32m----> 2\u001b[0;31m     \u001b[0mfetch_index_meta\u001b[0m\u001b[1;33m(\u001b[0m\u001b[0mi\u001b[0m\u001b[1;33m)\u001b[0m\u001b[1;33m\u001b[0m\u001b[0m\n\u001b[0m",
      "\u001b[0;32m<ipython-input-55-3165819f68a5>\u001b[0m in \u001b[0;36mfetch_index_meta\u001b[0;34m(req_index)\u001b[0m\n\u001b[1;32m      2\u001b[0m     \u001b[0mindex\u001b[0m \u001b[1;33m=\u001b[0m \u001b[0mreq_index\u001b[0m\u001b[1;33m.\u001b[0m\u001b[0mIndex\u001b[0m\u001b[1;33m\u001b[0m\u001b[0m\n\u001b[1;32m      3\u001b[0m     \u001b[0murl\u001b[0m \u001b[1;33m=\u001b[0m \u001b[0mreq_index\u001b[0m\u001b[1;33m.\u001b[0m\u001b[0murl\u001b[0m\u001b[1;33m\u001b[0m\u001b[0m\n\u001b[0;32m----> 4\u001b[0;31m     \u001b[0mr\u001b[0m \u001b[1;33m=\u001b[0m \u001b[0mrequests\u001b[0m\u001b[1;33m.\u001b[0m\u001b[0mget\u001b[0m\u001b[1;33m(\u001b[0m\u001b[0mINDEX_URL\u001b[0m\u001b[1;33m.\u001b[0m\u001b[0mformat\u001b[0m\u001b[1;33m(\u001b[0m\u001b[0mind\u001b[0m\u001b[1;33m)\u001b[0m\u001b[1;33m)\u001b[0m\u001b[1;33m\u001b[0m\u001b[0m\n\u001b[0m\u001b[1;32m      5\u001b[0m     \u001b[1;32mtry\u001b[0m\u001b[1;33m:\u001b[0m\u001b[1;33m\u001b[0m\u001b[0m\n\u001b[1;32m      6\u001b[0m         \u001b[0mindex_data\u001b[0m \u001b[1;33m=\u001b[0m \u001b[0mpd\u001b[0m\u001b[1;33m.\u001b[0m\u001b[0mread_csv\u001b[0m\u001b[1;33m(\u001b[0m\u001b[0mStringIO\u001b[0m\u001b[1;33m(\u001b[0m\u001b[0mr\u001b[0m\u001b[1;33m.\u001b[0m\u001b[0mtext\u001b[0m\u001b[1;33m)\u001b[0m\u001b[1;33m,\u001b[0m \u001b[0mindex_col\u001b[0m\u001b[1;33m=\u001b[0m\u001b[1;34m'Symbol'\u001b[0m\u001b[1;33m)\u001b[0m\u001b[1;33m\u001b[0m\u001b[0m\n",
      "\u001b[0;31mNameError\u001b[0m: name 'requests' is not defined"
     ]
    }
   ],
   "source": [
    "for i in INDEX_META.itertuples():\n",
    "    fetch_index_meta(i)"
   ]
  },
  {
   "cell_type": "code",
   "execution_count": 58,
   "metadata": {
    "collapsed": true
   },
   "outputs": [],
   "source": [
    "import requests\n",
    "from bs4 import BeautifulSoup\n",
    "r = requests.get('http://techpaisa.com/sector/')\n",
    "soup = BeautifulSoup(r.text, 'lxml')"
   ]
  },
  {
   "cell_type": "code",
   "execution_count": 103,
   "metadata": {
    "collapsed": false
   },
   "outputs": [],
   "source": [
    "sector_link_list = []\n",
    "for links in soup.find_all('a'):\n",
    "    link = links.get('href')\n",
    "    if link is not None and link.startswith('/sector/'):\n",
    "        sector_link_list.append('http://techpaisa.com/sector/'+link[8:-1])\n",
    "sector_link_list = list(set(sector_link_list))"
   ]
  },
  {
   "cell_type": "code",
   "execution_count": 108,
   "metadata": {
    "collapsed": false
   },
   "outputs": [
    {
     "data": {
      "text/plain": [
       "'http://techpaisa.com/sector/pharma-and-healthcare'"
      ]
     },
     "execution_count": 108,
     "metadata": {},
     "output_type": "execute_result"
    }
   ],
   "source": [
    "sector_link_list[0]"
   ]
  },
  {
   "cell_type": "code",
   "execution_count": 1,
   "metadata": {
    "collapsed": false
   },
   "outputs": [],
   "source": [
    "import wbdata"
   ]
  },
  {
   "cell_type": "code",
   "execution_count": 15,
   "metadata": {
    "collapsed": false
   },
   "outputs": [
    {
     "name": "stdout",
     "output_type": "stream",
     "text": [
      "11\tAfrica Development Indicators\n",
      "36\tStatistical Capacity Indicators\n",
      "31\tCountry Policy and Institutional Assessment (CPIA) \n",
      "41\tCountry Partnership Strategy for India \n",
      "26\tCorporate Scorecard\n",
      "1 \tDoing Business\n",
      "30\tExporter Dynamics Database: Country-Year\n",
      "12\tEducation Statistics\n",
      "13\tEnterprise Surveys\n",
      "28\tGlobal Findex ( Global Financial Inclusion database)\n",
      "33\tG20 Basic Set of Financial Inclusion Indicators\n",
      "14\tGender Statistics\n",
      "15\tGlobal Economic Monitor\n",
      "27\tGEP Economic Prospects\n",
      "32\tGlobal Financial Development\n",
      "21\tGlobal Economic Monitor (GEM) Commodities\n",
      "34\tGlobal Partnership for Education\n",
      "29\tGlobal Social Protection\n",
      "16\tHealth Nutrition and Population Statistics\n",
      "39\tHealth Nutrition and Population Statistics by Wealth Quintile\n",
      "40\tHealth Nutrition and Population Statistics: Population estimates and projections\n",
      "18\tInternational Development Association - Results Measurement System\n",
      "45\tINDO-DAPOER\n",
      "6 \tInternational Debt Statistics\n",
      "54\t(JEDH) Joint External Debt Hub\n",
      "25\tJobs for Knowledge Platform\n",
      "37\tLAC Equity Lab\n",
      "19\tMillennium Development Goals\n",
      "24\tPovstats\n",
      "20\tQuarterly Public Sector Debt\n",
      "23\tQuarterly External Debt Statistics/GDDS (New)\n",
      "22\tQuarterly External Debt Statistics/SDDS (New)\n",
      "44\tReadiness for Investment in Sustainable Energy (RISE)\n",
      "46\tSustainable Development Goals \n",
      "35\tSustainable Energy for All\n",
      "5 \tSubnational Malnutrition Database\n",
      "38\tSubnational Poverty\n",
      "50\tSubnational Population\n",
      "43\tWealth accounting\n",
      "2 \tWorld Development Indicators\n",
      "3 \tWorldwide Governance Indicators\n",
      "IC.TAX.METG        \tNumber of visits or required meetings with tax officials\n",
      "IC.FRM.WRKF.WK9    \tPercent of firms identifying labor regulations as a major constraint\n",
      "IC.FRM.WRKF.WK8    \tYears of the top manager's experience working in the firm's sector\n",
      "IC.FRM.WRKF.WK7    \tNumber of permanent non-production workers\n",
      "IC.FRM.WRKF.WK6    \tNumber of permanent production workers\n",
      "IC.FRM.WRKF.WK4    \tNumber of permanent unskilled production workers\n",
      "IC.FRM.WRKF.WK3    \tNumber of permanent skilled production workers\n",
      "IC.FRM.WRKF.WK2    \tProportion of workers offered formal training (%)\n",
      "IC.FRM.WRKF.WK13   \tProportion of unskilled workers (out of all production workers) (%)\n",
      "IC.FRM.WRKF.WK12   \tNumber of permanent full-time workers\n",
      "IC.FRM.WRKF.WK11   \tNumber of temporary workers\n",
      "IC.FRM.WRKF.WK10   \tPercent of firms identifying an inadequately educated workforce as a major constraint\n",
      "IC.FRM.WRKF.WK1    \tPercent of firms offering formal training\n",
      "IC.FRM.TRD.TR9     \tPercent of firms identifying customs and trade regulations as a major constraint\n",
      "IC.FRM.TRD.TR8     \tProportion of total inputs that are of foreign origin (%)\n",
      "IC.FRM.TRD.TR7     \tProportion of total inputs that are of domestic origin (%)\n",
      "IC.FRM.TRD.TR6     \tProportion of total sales that are exported indirectly (%)\n",
      "IC.FRM.TRD.TR5     \tProportion of total sales that are exported directly (%)\n",
      "IC.FRM.TRD.TR4     \tProportion of total sales that are domestic sales (%)\n",
      "IC.FRM.TRD.TR2     \tDays to clear imports from customs\n",
      "IC.FRM.TRD.TR15    \tPercent of firms exporting directly (at least 1% of sales)\n",
      "IC.FRM.TRD.TR14    \tDays of inventory of main input\n",
      "IC.FRM.TRD.TR11    \tPercent of firms using material inputs and/or supplies of foreign origin\n",
      "IC.FRM.TRD.TR10    \tPercent of firms exporting directly or indirectly (at least 1% of sales)\n",
      "IC.FRM.TRD.TR1     \tDays to clear direct exports through customs\n",
      "IC.FRM.REG.REG5    \tPercent of firms identifying tax administration as a major constraint\n",
      "IC.FRM.REG.REG4    \tPercent of firms identifying tax rates as a major constraint\n",
      "IC.FRM.REG.REG2_C  \tIf there were visits, average number of visits or required meetings with tax officials\n",
      "IC.FRM.REG.REG2    \tNumber of visits or required meetings with tax officials\n",
      "IC.FRM.REG.REG1    \tSenior management time spent dealing with the requirements of government regulation (%)\n",
      "IC.FRM.REG.BUS5    \tPercent of firms identifying business licensing and permits as a major constraint\n",
      "IC.FRM.REG.BUS3    \tDays to obtain a construction-related permit\n",
      "IC.FRM.REG.BUS2    \tDays to obtain an operating license\n",
      "IC.FRM.REG.BUS1    \tDays to obtain an import license\n",
      "IC.FRM.OUTG.ZS     \tValue lost due to electrical outages (% of sales)\n",
      "IC.FRM.OBS.OBST9   \tPercent of firms choosing inadequately educated workforce as their biggest obstacle\n",
      "IC.FRM.OBS.OBST8   \tPercent of firms choosing electricity as their biggest obstacle\n",
      "IC.FRM.OBS.OBST7   \tPercent of firms choosing customs and trade regulations as their biggest obstacle\n",
      "IC.FRM.OBS.OBST6   \tPercent of firms choosing crime, theft and disorder as their biggest obstacle\n",
      "IC.FRM.OBS.OBST5   \tPercent of firms choosing courts as their biggest obstacle\n",
      "IC.FRM.OBS.OBST4   \tPercent of firms choosing corruption as their biggest obstacle\n",
      "IC.FRM.OBS.OBST3   \tPercent of firms choosing business licensing and permits as their biggest obstacle\n",
      "IC.FRM.OBS.OBST2   \tPercent of firms choosing access to land as their biggest obstacle\n",
      "IC.FRM.OBS.OBST15  \tPercent of firms choosing transportation as their biggest obstacle\n",
      "IC.FRM.OBS.OBST14  \tPercent of firms choosing tax rates as their biggest obstacle\n",
      "IC.FRM.OBS.OBST13  \tPercent of firms choosing tax administration as their biggest obstacle\n",
      "IC.FRM.OBS.OBST12  \tPercent of firms choosing practices of the informal sector as their biggest obstacle\n",
      "IC.FRM.OBS.OBST11  \tPercent of firms choosing political instability as their biggest obstacle\n",
      "IC.FRM.OBS.OBST10  \tPercent of firms choosing labor regulations as their biggest obstacle\n",
      "IC.FRM.OBS.OBST1   \tPercent of firms choosing access to finance as their biggest obstacle\n",
      "IC.FRM.ISOC.ZS     \tInternationally-recognized quality certification (% of firms)\n",
      "IC.FRM.INNOV.T6    \tPercent of firms using e-mail to interact with clients/suppliers\n",
      "IC.FRM.INNOV.T5    \tPercent of firms having their own Web site\n",
      "IC.FRM.INNOV.T4    \tPercent of firms using technology licensed from foreign companies\n",
      "IC.FRM.INNOV.T3    \tCapacity utilization (%)\n",
      "IC.FRM.INNOV.T2    \tPercent of firms with an annual financial statement reviewed by external auditors \n",
      "IC.FRM.INNOV.T1    \tPercent of firms with an internationally-recognized quality certification\n",
      "IC.FRM.INFRA.IN9   \tPercent of firms owning or sharing  a generator\n",
      "IC.FRM.INFRA.IN6   \tNumber of water insufficiencies in a typical month\n",
      "IC.FRM.INFRA.IN4   \tLosses due to electrical outages (% of annual sales)\n",
      "IC.FRM.INFRA.IN3_C \tIf there were outages, average duration of a typical electrical outage (hours)\n",
      "IC.FRM.INFRA.IN3   \tDuration of a typical electrical outage (hours)\n",
      "IC.FRM.INFRA.IN2   \tNumber of electrical outages in a typical month\n",
      "IC.FRM.INFRA.IN14  \tProportion of products lost to breakage or spoilage during shipping to domestic markets (%)\n",
      "IC.FRM.INFRA.IN12  \tPercent of firms identifying electricity as a major constraint\n",
      "IC.FRM.INFRA.IN11  \tPercent of firms identifying transportation as a major constraint\n",
      "IC.FRM.INFRA.IN10_C\tIf a generator is used, average proportion of electricity from a generator (%)\n",
      "IC.FRM.INFRA.IN10  \tProportion of electricity from a generator (%)\n",
      "IC.FRM.INFRA.IN1   \tDays to obtain an electrical connection (upon application)\n",
      "IC.FRM.INFOR.INFOR5\tNumber of years firm operated without formal registration\n",
      "IC.FRM.INFOR.INFOR4\tPercent of firms formally registered when they started operations in the country\n",
      "IC.FRM.INFOR.INFOR2\tPercent of firms identifying practices of competitors in the informal sector as a major constraint  \n",
      "IC.FRM.INFOR.INFOR1\tPercent of firms competing against unregistered or informal firms\n",
      "IC.FRM.GEN.GEND4   \tPercent of firms with a female top manager\n",
      "IC.FRM.GEN.GEND3   \tProportion of permanent full-time non-production workers that are female (%)\n",
      "IC.FRM.GEN.GEND2   \tProportion of permanent full-time workers that are female (%)\n",
      "IC.FRM.GEN.GEND1   \tPercent of firms with female participation in ownership\n",
      "IC.FRM.FIN.FIN9    \tProportion of working capital financed by other financing (%)\n",
      "IC.FRM.FIN.FIN8    \tProportion of working capital financed  by supplier credit (%)\n",
      "IC.FRM.FIN.FIN7    \tProportion of working capital financed by banks (%)\n",
      "IC.FRM.FIN.FIN5    \tProportion of investment financed by other financing (%)\n",
      "IC.FRM.FIN.FIN4    \tProportion of investment financed by equity or stock sales (%)\n",
      "IC.FRM.FIN.FIN3    \tProportion of investment financed by supplier credit (%)\n",
      "IC.FRM.FIN.FIN21   \tPercent of firms whose recent loan application was rejected\n",
      "IC.FRM.FIN.FIN20   \tPercent of firms not needing a loan\n",
      "IC.FRM.FIN.FIN2    \tProportion of investment financed by banks (%)\n",
      "IC.FRM.FIN.FIN18   \tProportion of sales sold on credit (%)\n",
      "IC.FRM.FIN.FIN16   \tPercent of firms identifying access to finance as a major constraint\n",
      "IC.FRM.FIN.FIN15   \tPercent of firms with a checking or savings account\n",
      "IC.FRM.FIN.FIN14   \tPercent of firms with a bank loan/line of credit\n",
      "IC.FRM.FIN.FIN13   \tPercent of firms using banks to finance working capital\n",
      "IC.FRM.FIN.FIN12   \tPercent of firms using banks to finance investments\n",
      "IC.FRM.FIN.FIN11   \tProportion of loans requiring collateral (%)\n",
      "IC.FRM.FIN.FIN10   \tValue of collateral needed for a loan (% of the loan amount)\n",
      "IC.FRM.FIN.FIN1    \tProportion of investment financed internally (%)\n",
      "IC.FRM.FCHAR.LFORM5\tPercent of firms with legal status of Limited Partnership\n",
      "IC.FRM.FCHAR.LFORM4\tPercent of firms with legal status of Partnership\n",
      "IC.FRM.FCHAR.LFORM3\tPercent of firms with legal status of Sole Proprietorship\n",
      "IC.FRM.FCHAR.LFORM2\tPercent of firms with legal status of privately held Limited Liability Company \n",
      "IC.FRM.FCHAR.LFORM1\tPercent of firms with legal status of publicly listed company\n",
      "IC.FRM.FCHAR.CAR6  \tProportion of a firm held by the largest owner(s) (%)\n",
      "IC.FRM.FCHAR.CAR4  \tProportion of government/state ownership in a firm (%)\n",
      "IC.FRM.FCHAR.CAR3  \tProportion of private foreign ownership in a firm (%)\n",
      "IC.FRM.FCHAR.CAR2  \tProportion of private domestic ownership in a firm (%)\n",
      "IC.FRM.FCHAR.CAR1  \tAge of the establishment (years)\n",
      "IC.FRM.CRM.CRIME8  \tPercent of firms identifying crime, theft and disorder as a major constraint              \n",
      "IC.FRM.CRM.CRIME5  \tProducts shipped to supply domestic markets that were lost due to theft (% of product value)\n",
      "IC.FRM.CRM.CRIME3_C\tIf there were losses, average losses due to theft and vandalism (% of annual sales)\n",
      "IC.FRM.CRM.CRIME3  \tLosses due to theft and vandalism against the firm (% of annual sales)\n",
      "IC.FRM.CRM.CRIME2_C\tIf the establishment pays for security, average security costs (% of annual sales)\n",
      "IC.FRM.CRM.CRIME2  \tSecurity costs (% of annual sales)\n",
      "IC.FRM.CRM.CRIME1  \tPercent of firms paying for security\n",
      "IC.FRM.CORR.ZS     \tInformal payments to public officials (% of firms)\n",
      "IC.FRM.CORR.GRAFT2 \tBribery index (% of gift or informal payment requests during public transactions)\n",
      "IC.FRM.CORR.CRIME9 \tPercent of firms identifying the courts system as a major constraint                         \n",
      "IC.FRM.CORR.CORR9  \tPercent of firms expected to give gifts to get an import license \n",
      "IC.FRM.CORR.CORR8  \tPercent of firms expected to give gifts to get a construction permit\n",
      "IC.FRM.CORR.CORR7  \tPercent of firms expected to give gifts to get a water connection\n",
      "IC.FRM.CORR.CORR6  \tPercent of firms expected to give gifts to get an electrical connection\n",
      "IC.FRM.CORR.CORR4  \tPercent of firms expected to give gifts to public officials \"to get things done\" \n",
      "IC.FRM.CORR.CORR3  \tValue of gift expected to secure a government contract (% of contract value)\n",
      "IC.FRM.CORR.CORR2  \tPercent of firms expected to give gifts to secure government contract\n",
      "IC.FRM.CORR.CORR11 \tPercent of firms identifying corruption as a major constraint\n",
      "IC.FRM.CORR.CORR10 \tPercent of firms expected to give gifts to get an operating license\n",
      "IC.FRM.CORR.CORR1  \tPercent of firms expected to give gifts in meetings with tax officials\n",
      "IC.FRM.BNKS.ZS     \tFirms using banks to finance investment (% of firms)\n"
     ]
    }
   ],
   "source": [
    "wbdata.get_source()\n",
    "wbdata.get_indicator(source=13)"
   ]
  },
  {
   "cell_type": "code",
   "execution_count": 21,
   "metadata": {
    "collapsed": false
   },
   "outputs": [
    {
     "name": "stdout",
     "output_type": "stream",
     "text": [
      "HIC\tHigh income\n",
      "INX\tNot classified\n",
      "LIC\tLow income\n",
      "LMC\tLower middle income\n",
      "LMY\tLow & middle income\n",
      "MIC\tMiddle income\n",
      "UMC\tUpper middle income\n"
     ]
    }
   ],
   "source": [
    "# wbdata.get_data('SP.POP.TOTL', country='IND')\n",
    "# wbdata.get_dataframe(indicators, country=, convert_date=True)\n",
    "wbdata.get_incomelevel()"
   ]
  },
  {
   "cell_type": "code",
   "execution_count": null,
   "metadata": {
    "collapsed": true
   },
   "outputs": [],
   "source": []
  }
 ],
 "metadata": {
  "anaconda-cloud": {},
  "kernelspec": {
   "display_name": "Python [conda root]",
   "language": "python",
   "name": "conda-root-py"
  },
  "language_info": {
   "codemirror_mode": {
    "name": "ipython",
    "version": 3
   },
   "file_extension": ".py",
   "mimetype": "text/x-python",
   "name": "python",
   "nbconvert_exporter": "python",
   "pygments_lexer": "ipython3",
   "version": "3.5.2"
  }
 },
 "nbformat": 4,
 "nbformat_minor": 1
}
