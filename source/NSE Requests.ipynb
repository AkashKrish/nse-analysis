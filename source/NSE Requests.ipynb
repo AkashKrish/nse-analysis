{
 "cells": [
  {
   "cell_type": "code",
   "execution_count": 3,
   "metadata": {
    "collapsed": true
   },
   "outputs": [],
   "source": [
    "import requests\n",
    "from bs4 import BeautifulSoup"
   ]
  },
  {
   "cell_type": "code",
   "execution_count": 4,
   "metadata": {
    "collapsed": true
   },
   "outputs": [],
   "source": [
    "session = requests.session()\n",
    "response = session.get('https://www.nseindia.com/products/content/equities/indices/strategic_indices.htm')"
   ]
  },
  {
   "cell_type": "code",
   "execution_count": 6,
   "metadata": {
    "collapsed": false
   },
   "outputs": [],
   "source": [
    "soup = BeautifulSoup(response.text, 'html.parser')"
   ]
  },
  {
   "cell_type": "code",
   "execution_count": 16,
   "metadata": {
    "collapsed": false
   },
   "outputs": [
    {
     "name": "stdout",
     "output_type": "stream",
     "text": [
      "Download List of NIFTY100 Equal Weight Index Stocks (.csv) , https://www.nseindia.com/content/indices/ind_nifty100list.csv\n",
      "Download List of NIFTY100 Low Volatility 30 Index Stocks (.csv), https://www.nseindia.com/content/indices/ind_Nifty100LowVolatility30list.csv\n",
      "Download List of NIFTY Alpha 50 Index Stocks (.csv) , https://www.nseindia.com/content/indices/ind_nifty_Alpha_Index.csv\n",
      "Download List of NIFTY Dividend Opportunities 50 Index Stocks (.csv), https://www.nseindia.com/content/indices/ind_niftydivopp50list.csv\n",
      "Download List of\r\n",
      "                                NIFTY High Beta 50 Index Stocks (.csv) , https://www.nseindia.com/content/indices/nifty_High_Beta50_Index.csv\n",
      "Download List of NIFTY Low Volatility 50 Index Stocks (.csv) , https://www.nseindia.com/content/indices/nifty_Low_Volatility50_Index.csv\n",
      "List of NIFTY Quality 30 Index Stocks (.csv), https://www.nseindia.com/content/indices/ind_niftyQuality30list.csv\n",
      "Download List of NIFTY50 Value 20 Index (.csv), https://www.nseindia.com/content/indices/ind_Nifty50_Value20.csv\n",
      "Download List of NIFTY Growth Sectors 15 Index (.csv), https://www.nseindia.com/content/indices/ind_NiftyGrowth_Sectors15_Index.csv\n"
     ]
    }
   ],
   "source": [
    "links_list = soup.find_all('a', {'class': 'download'})\n",
    "for link in links_list:\n",
    "    if link['href'].endswith('csv'):\n",
    "        print('{0}, {1}'.format(link.text, 'https://www.nseindia.com' + link['href']))"
   ]
  },
  {
   "cell_type": "code",
   "execution_count": 19,
   "metadata": {
    "collapsed": false
   },
   "outputs": [
    {
     "data": {
      "text/plain": [
       "['Download', 'Methodology', '(.pdf)']"
      ]
     },
     "execution_count": 19,
     "metadata": {},
     "output_type": "execute_result"
    }
   ],
   "source": [
    "link.text.split()"
   ]
  },
  {
   "cell_type": "code",
   "execution_count": 20,
   "metadata": {
    "collapsed": true
   },
   "outputs": [],
   "source": [
    "div = soup.find('div', {'class': 'products_accordion accordian'})"
   ]
  },
  {
   "cell_type": "code",
   "execution_count": 21,
   "metadata": {
    "collapsed": false
   },
   "outputs": [
    {
     "data": {
      "text/plain": [
       "[<h3><span>NIFTY100 Equal Weight Index</span></h3>,\n",
       " <h3><span>NIFTY100 Low Volatility 30 Index</span></h3>,\n",
       " <h3><span>NIFTY Alpha 50 Index</span></h3>,\n",
       " <h3><span>NIFTY 50 Arbitrage Index</span></h3>,\n",
       " <h3><span>NIFTY 50 Futures Index</span></h3>,\n",
       " <h3><span>NIFTY50 USD Index</span></h3>,\n",
       " <h3><span>NIFTY Dividend Opportunities 50 Index</span> </h3>,\n",
       " <h3><span>NIFTY High Beta 50 Index</span></h3>,\n",
       " <h3><span>NIFTY Low Volatility 50 Index</span></h3>,\n",
       " <h3><span>NIFTY50 Dividend Points Index</span></h3>,\n",
       " <h3><span>NIFTY Quality 30 Index</span></h3>,\n",
       " <h3><span>NIFTY50 Value 20 Index</span></h3>,\n",
       " <h3><span>NIFTY Growth Sectors 15 Index</span></h3>,\n",
       " <h3><span>NIFTY50 PR 1x Inverse Index</span></h3>,\n",
       " <h3><span>NIFTY50 TR 1x Inverse Index</span></h3>,\n",
       " <h3><span>NIFTY50 PR 2x Leverage Index</span></h3>,\n",
       " <h3><span>NIFTY50 TR 2x Leverage Index</span></h3>]"
      ]
     },
     "execution_count": 21,
     "metadata": {},
     "output_type": "execute_result"
    }
   ],
   "source": [
    "d-iv.find_all('h3')"
   ]
  },
  {
   "cell_type": "code",
   "execution_count": null,
   "metadata": {
    "collapsed": true
   },
   "outputs": [],
   "source": []
  }
 ],
 "metadata": {
  "anaconda-cloud": {},
  "kernelspec": {
   "display_name": "Python [conda root]",
   "language": "python",
   "name": "conda-root-py"
  },
  "language_info": {
   "codemirror_mode": {
    "name": "ipython",
    "version": 3
   },
   "file_extension": ".py",
   "mimetype": "text/x-python",
   "name": "python",
   "nbconvert_exporter": "python",
   "pygments_lexer": "ipython3",
   "version": "3.5.2"
  }
 },
 "nbformat": 4,
 "nbformat_minor": 2
}
