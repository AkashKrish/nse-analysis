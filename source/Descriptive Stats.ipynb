{
 "cells": [
  {
   "cell_type": "code",
   "execution_count": null,
   "metadata": {
    "collapsed": true
   },
   "outputs": [],
   "source": [
    "from symbol import Symbol\n",
    "from portifolio import Portifolio\n",
    "import pandas as pd\n",
    "import numpy as np"
   ]
  },
  {
   "cell_type": "code",
   "execution_count": 136,
   "metadata": {
    "collapsed": false
   },
   "outputs": [],
   "source": [
    "symbol = Symbol(['willamagor', 'windmachin', 'hindalco'], start=1996)\n",
    "port = Portifolio(symbol_list='infy', benchmark='nifty_50')\n",
    "traded_dates = pd.read_hdf('constants.h5', 'traded_dates')"
   ]
  },
  {
   "cell_type": "code",
   "execution_count": 137,
   "metadata": {
    "collapsed": true
   },
   "outputs": [],
   "source": [
    "data = symbol.get_symbol_hist()"
   ]
  },
  {
   "cell_type": "code",
   "execution_count": 138,
   "metadata": {
    "collapsed": true
   },
   "outputs": [],
   "source": [
    "data = data[[\n",
    "    'symbol', 'date', 'prev_close', 'open', 'high',\n",
    "    'low', 'last', 'close', 'vwap',\n",
    "    'trades', 'volume', 'turnover', 'pct_deliverble'\n",
    "]]"
   ]
  },
  {
   "cell_type": "code",
   "execution_count": 142,
   "metadata": {
    "collapsed": false
   },
   "outputs": [],
   "source": [
    "def descriptive_statistics(data):\n",
    "    data = data.set_index('date')\n",
    "    descriptive_stats = pd.Series()\n",
    "    descriptive_stats['from_date'] = data.index.min()\n",
    "    descriptive_stats['to_date'] = data.index.max()\n",
    "    descriptive_stats['count'] = len(data.index)\n",
    "    stock_sprecific_traded_dates = traded_dates[descriptive_stats['from_date']:]\n",
    "    total_trades = stock_sprecific_traded_dates.join(data).drop(['days_count'], axis=1)\n",
    "    missing_dates = total_trades.index.difference(data.index)\n",
    "    missing_count = len(missing_dates)\n",
    "    descriptive_stats['missing_count'] = missing_count\n",
    "\n",
    "    if missing_count > 0:\n",
    "        non_null_close = total_trades[['prev_close', 'close']].dropna()\n",
    "        if len(non_null_close[non_null_close.close.shift(1) != non_null_close.prev_close]) <= 1:\n",
    "            total_trades[['symbol', 'close',]] = total_trades[['symbol', 'close',]].ffill()\n",
    "            total_trades.prev_close = total_trades.prev_close.fillna(total_trades.close)\n",
    "            total_trades.open = total_trades.open.fillna(total_trades.close)\n",
    "            total_trades.high = total_trades.high.fillna(total_trades.close)\n",
    "            total_trades.low = total_trades.low.fillna(total_trades.close)\n",
    "            total_trades['last'] = total_trades['last'].fillna(total_trades.close)\n",
    "            total_trades.vwap = total_trades.vwap.fillna(total_trades.close)\n",
    "            total_trades.volume = total_trades.volume.fillna(0)\n",
    "            total_trades.turnover = total_trades.turnover.fillna(0)\n",
    "            descriptive_stats['missing_count'] = 0\n",
    "        else:\n",
    "            print(non_null_close[non_null_close.close.shift(1) != non_null_close.prev_close])\n",
    "    return descriptive_stats"
   ]
  },
  {
   "cell_type": "code",
   "execution_count": 143,
   "metadata": {
    "collapsed": false,
    "scrolled": false
   },
   "outputs": [
    {
     "name": "stdout",
     "output_type": "stream",
     "text": [
      "            prev_close    close\n",
      "date                           \n",
      "1996-01-01      923.10   919.00\n",
      "1996-07-08        0.00  1191.00\n",
      "1996-07-22     1146.60  1138.25\n",
      "1997-03-01      744.90   853.90\n",
      "1998-08-25      523.45   474.15\n",
      "1998-08-31      440.90   429.15\n",
      "1999-01-11      568.00   567.50\n",
      "1999-05-20      580.00   586.00\n",
      "2006-03-10       83.55    84.50\n",
      "2006-03-13      160.00   159.50\n",
      "2006-07-24      157.45   155.35\n",
      "2006-11-30      176.10   173.15\n",
      "2007-04-10      135.95   136.40\n",
      "2007-08-20      140.05   141.85\n",
      "            prev_close    close\n",
      "date                           \n",
      "1996-01-01      923.10   919.00\n",
      "1996-07-08        0.00  1191.00\n",
      "1996-07-22     1146.60  1138.25\n",
      "1997-03-01      744.90   853.90\n",
      "1998-08-25      523.45   474.15\n",
      "1998-08-31      440.90   429.15\n",
      "1999-01-11      568.00   567.50\n",
      "1999-05-20      580.00   586.00\n",
      "2006-03-10       83.55    84.50\n",
      "2006-03-13      160.00   159.50\n",
      "2006-07-24      157.45   155.35\n",
      "2006-11-30      176.10   173.15\n",
      "2007-04-10      135.95   136.40\n",
      "2007-08-20      140.05   141.85\n",
      "            prev_close  close\n",
      "date                         \n",
      "1997-02-24      110.00  110.9\n",
      "2001-07-11       28.00   12.6\n",
      "2001-11-20       11.25   12.6\n",
      "2001-12-31       12.90    6.5\n"
     ]
    }
   ],
   "source": [
    "des = data.groupby('symbol').apply(descriptive_statistics)"
   ]
  },
  {
   "cell_type": "code",
   "execution_count": 141,
   "metadata": {
    "collapsed": false
   },
   "outputs": [
    {
     "data": {
      "text/html": [
       "<div>\n",
       "<table border=\"1\" class=\"dataframe\">\n",
       "  <thead>\n",
       "    <tr style=\"text-align: right;\">\n",
       "      <th></th>\n",
       "      <th>from_date</th>\n",
       "      <th>to_date</th>\n",
       "      <th>count</th>\n",
       "      <th>missing_count</th>\n",
       "    </tr>\n",
       "    <tr>\n",
       "      <th>symbol</th>\n",
       "      <th></th>\n",
       "      <th></th>\n",
       "      <th></th>\n",
       "      <th></th>\n",
       "    </tr>\n",
       "  </thead>\n",
       "  <tbody>\n",
       "    <tr>\n",
       "      <th>hindalco</th>\n",
       "      <td>1996-01-01 00:00:00</td>\n",
       "      <td>2017-01-30 00:00:00</td>\n",
       "      <td>5044</td>\n",
       "      <td>222</td>\n",
       "    </tr>\n",
       "    <tr>\n",
       "      <th>willamagor</th>\n",
       "      <td>1997-02-24 00:00:00</td>\n",
       "      <td>2017-01-30 00:00:00</td>\n",
       "      <td>3691</td>\n",
       "      <td>1286</td>\n",
       "    </tr>\n",
       "    <tr>\n",
       "      <th>windmachin</th>\n",
       "      <td>2011-08-17 00:00:00</td>\n",
       "      <td>2017-01-30 00:00:00</td>\n",
       "      <td>1306</td>\n",
       "      <td>0</td>\n",
       "    </tr>\n",
       "  </tbody>\n",
       "</table>\n",
       "</div>"
      ],
      "text/plain": [
       "                      from_date              to_date  count  missing_count\n",
       "symbol                                                                    \n",
       "hindalco    1996-01-01 00:00:00  2017-01-30 00:00:00   5044            222\n",
       "willamagor  1997-02-24 00:00:00  2017-01-30 00:00:00   3691           1286\n",
       "windmachin  2011-08-17 00:00:00  2017-01-30 00:00:00   1306              0"
      ]
     },
     "execution_count": 141,
     "metadata": {},
     "output_type": "execute_result"
    }
   ],
   "source": [
    "['1996-04-01', '1996-04-05', '1996-07-17', '1996-10-30',\n",
    "'1997-03-28', '1997-07-18', '1997-10-03', '1997-10-06',\n",
    "'1997-10-07', '1997-10-08', '1997-11-14', '1998-02-16',\n",
    "'1998-04-08', '1998-11-25', '2000-01-01']\n",
    "des"
   ]
  },
  {
   "cell_type": "code",
   "execution_count": 28,
   "metadata": {
    "collapsed": false
   },
   "outputs": [
    {
     "data": {
      "text/html": [
       "<div>\n",
       "<table border=\"1\" class=\"dataframe\">\n",
       "  <thead>\n",
       "    <tr style=\"text-align: right;\">\n",
       "      <th></th>\n",
       "      <th>symbol</th>\n",
       "      <th>date</th>\n",
       "      <th>prev_close</th>\n",
       "      <th>open</th>\n",
       "      <th>high</th>\n",
       "      <th>low</th>\n",
       "      <th>last</th>\n",
       "      <th>close</th>\n",
       "      <th>vwap</th>\n",
       "      <th>simple_returns</th>\n",
       "      <th>log_returns</th>\n",
       "      <th>daily_volatility</th>\n",
       "      <th>trades</th>\n",
       "      <th>volume</th>\n",
       "      <th>turnover</th>\n",
       "      <th>pct_deliverble</th>\n",
       "    </tr>\n",
       "  </thead>\n",
       "  <tbody>\n",
       "    <tr>\n",
       "      <th>1518681</th>\n",
       "      <td>hindalco</td>\n",
       "      <td>2013-07-12</td>\n",
       "      <td>102.8</td>\n",
       "      <td>103.1</td>\n",
       "      <td>103.5</td>\n",
       "      <td>100.7</td>\n",
       "      <td>101.8</td>\n",
       "      <td>101.8</td>\n",
       "      <td>101.73</td>\n",
       "      <td>-0.009728</td>\n",
       "      <td>-0.009775</td>\n",
       "      <td>0.002394</td>\n",
       "      <td>25961.0</td>\n",
       "      <td>4027737.0</td>\n",
       "      <td>409730000.0</td>\n",
       "      <td>31.11</td>\n",
       "    </tr>\n",
       "  </tbody>\n",
       "</table>\n",
       "</div>"
      ],
      "text/plain": [
       "           symbol       date  prev_close   open   high    low   last  close  \\\n",
       "1518681  hindalco 2013-07-12       102.8  103.1  103.5  100.7  101.8  101.8   \n",
       "\n",
       "           vwap  simple_returns  log_returns  daily_volatility   trades  \\\n",
       "1518681  101.73       -0.009728    -0.009775          0.002394  25961.0   \n",
       "\n",
       "            volume     turnover  pct_deliverble  \n",
       "1518681  4027737.0  409730000.0           31.11  "
      ]
     },
     "execution_count": 28,
     "metadata": {},
     "output_type": "execute_result"
    }
   ],
   "source": [
    "data[data.date == '2013-07-12']"
   ]
  },
  {
   "cell_type": "code",
   "execution_count": null,
   "metadata": {
    "collapsed": false
   },
   "outputs": [],
   "source": [
    "iret = port.get_index_returns()\n",
    "sret = symbol.get_symbol_data()\n",
    "index = iret.index.union(sret.index)\n",
    "date_range = pd.date_range(start=index[0], end=index[-1])\n",
    "business_range = pd.date_range(start=index[0], end=index[-1], freq='B')"
   ]
  },
  {
   "cell_type": "code",
   "execution_count": null,
   "metadata": {
    "collapsed": false
   },
   "outputs": [],
   "source": [
    "date_range.difference(index)\n",
    "business_range.difference(index)\n",
    "index.difference(business_range)"
   ]
  },
  {
   "cell_type": "code",
   "execution_count": null,
   "metadata": {
    "collapsed": false
   },
   "outputs": [],
   "source": [
    "traded_dates = pd.DataFrame(np.arange(len(index))+1, index=index.copy(), columns=['days_count'])\n",
    "traded_dates = traded_dates.ix[0:-1]\n",
    "traded_dates.head()"
   ]
  },
  {
   "cell_type": "code",
   "execution_count": null,
   "metadata": {
    "collapsed": false
   },
   "outputs": [],
   "source": [
    "traded_dates.to_hdf('constants.h5', 'traded_dates')"
   ]
  },
  {
   "cell_type": "code",
   "execution_count": 144,
   "metadata": {
    "collapsed": false
   },
   "outputs": [],
   "source": [
    "idata = data[data.symbol == 'willamagor'].set_index('date')"
   ]
  },
  {
   "cell_type": "code",
   "execution_count": 146,
   "metadata": {
    "collapsed": false
   },
   "outputs": [
    {
     "data": {
      "text/html": [
       "<div>\n",
       "<table border=\"1\" class=\"dataframe\">\n",
       "  <thead>\n",
       "    <tr style=\"text-align: right;\">\n",
       "      <th></th>\n",
       "      <th>symbol</th>\n",
       "      <th>prev_close</th>\n",
       "      <th>open</th>\n",
       "      <th>high</th>\n",
       "      <th>low</th>\n",
       "      <th>last</th>\n",
       "      <th>close</th>\n",
       "      <th>vwap</th>\n",
       "      <th>trades</th>\n",
       "      <th>volume</th>\n",
       "      <th>turnover</th>\n",
       "      <th>pct_deliverble</th>\n",
       "    </tr>\n",
       "    <tr>\n",
       "      <th>date</th>\n",
       "      <th></th>\n",
       "      <th></th>\n",
       "      <th></th>\n",
       "      <th></th>\n",
       "      <th></th>\n",
       "      <th></th>\n",
       "      <th></th>\n",
       "      <th></th>\n",
       "      <th></th>\n",
       "      <th></th>\n",
       "      <th></th>\n",
       "      <th></th>\n",
       "    </tr>\n",
       "  </thead>\n",
       "  <tbody>\n",
       "    <tr>\n",
       "      <th>2001-11-12</th>\n",
       "      <td>willamagor</td>\n",
       "      <td>12.90</td>\n",
       "      <td>12.9</td>\n",
       "      <td>12.9</td>\n",
       "      <td>12.9</td>\n",
       "      <td>12.9</td>\n",
       "      <td>12.9</td>\n",
       "      <td>12.90</td>\n",
       "      <td>NaN</td>\n",
       "      <td>300.0</td>\n",
       "      <td>4000.0</td>\n",
       "      <td>NaN</td>\n",
       "    </tr>\n",
       "    <tr>\n",
       "      <th>2001-11-20</th>\n",
       "      <td>willamagor</td>\n",
       "      <td>11.25</td>\n",
       "      <td>12.6</td>\n",
       "      <td>12.6</td>\n",
       "      <td>12.6</td>\n",
       "      <td>12.6</td>\n",
       "      <td>12.6</td>\n",
       "      <td>12.60</td>\n",
       "      <td>NaN</td>\n",
       "      <td>100.0</td>\n",
       "      <td>1000.0</td>\n",
       "      <td>NaN</td>\n",
       "    </tr>\n",
       "    <tr>\n",
       "      <th>2001-12-18</th>\n",
       "      <td>willamagor</td>\n",
       "      <td>12.60</td>\n",
       "      <td>10.0</td>\n",
       "      <td>10.0</td>\n",
       "      <td>10.0</td>\n",
       "      <td>10.0</td>\n",
       "      <td>10.0</td>\n",
       "      <td>10.00</td>\n",
       "      <td>NaN</td>\n",
       "      <td>15.0</td>\n",
       "      <td>0.0</td>\n",
       "      <td>NaN</td>\n",
       "    </tr>\n",
       "    <tr>\n",
       "      <th>2001-12-21</th>\n",
       "      <td>willamagor</td>\n",
       "      <td>10.00</td>\n",
       "      <td>9.0</td>\n",
       "      <td>9.0</td>\n",
       "      <td>8.0</td>\n",
       "      <td>8.0</td>\n",
       "      <td>8.0</td>\n",
       "      <td>8.67</td>\n",
       "      <td>NaN</td>\n",
       "      <td>30.0</td>\n",
       "      <td>0.0</td>\n",
       "      <td>NaN</td>\n",
       "    </tr>\n",
       "    <tr>\n",
       "      <th>2001-12-31</th>\n",
       "      <td>willamagor</td>\n",
       "      <td>12.90</td>\n",
       "      <td>6.5</td>\n",
       "      <td>6.5</td>\n",
       "      <td>6.5</td>\n",
       "      <td>6.5</td>\n",
       "      <td>6.5</td>\n",
       "      <td>6.50</td>\n",
       "      <td>NaN</td>\n",
       "      <td>200.0</td>\n",
       "      <td>1000.0</td>\n",
       "      <td>NaN</td>\n",
       "    </tr>\n",
       "  </tbody>\n",
       "</table>\n",
       "</div>"
      ],
      "text/plain": [
       "                symbol  prev_close  open  high   low  last  close   vwap  \\\n",
       "date                                                                       \n",
       "2001-11-12  willamagor       12.90  12.9  12.9  12.9  12.9   12.9  12.90   \n",
       "2001-11-20  willamagor       11.25  12.6  12.6  12.6  12.6   12.6  12.60   \n",
       "2001-12-18  willamagor       12.60  10.0  10.0  10.0  10.0   10.0  10.00   \n",
       "2001-12-21  willamagor       10.00   9.0   9.0   8.0   8.0    8.0   8.67   \n",
       "2001-12-31  willamagor       12.90   6.5   6.5   6.5   6.5    6.5   6.50   \n",
       "\n",
       "            trades  volume  turnover  pct_deliverble  \n",
       "date                                                  \n",
       "2001-11-12     NaN   300.0    4000.0             NaN  \n",
       "2001-11-20     NaN   100.0    1000.0             NaN  \n",
       "2001-12-18     NaN    15.0       0.0             NaN  \n",
       "2001-12-21     NaN    30.0       0.0             NaN  \n",
       "2001-12-31     NaN   200.0    1000.0             NaN  "
      ]
     },
     "execution_count": 146,
     "metadata": {},
     "output_type": "execute_result"
    }
   ],
   "source": [
    "idata['2001-11':'2001-12']"
   ]
  },
  {
   "cell_type": "code",
   "execution_count": null,
   "metadata": {
    "collapsed": false
   },
   "outputs": [],
   "source": [
    "data"
   ]
  },
  {
   "cell_type": "code",
   "execution_count": null,
   "metadata": {
    "collapsed": true
   },
   "outputs": [],
   "source": [
    "store = pd.HDFStore('symbol_data.h5')"
   ]
  },
  {
   "cell_type": "code",
   "execution_count": null,
   "metadata": {
    "collapsed": false
   },
   "outputs": [],
   "source": [
    "del store['symbol_hist_data']"
   ]
  },
  {
   "cell_type": "code",
   "execution_count": null,
   "metadata": {
    "collapsed": false
   },
   "outputs": [],
   "source": [
    "fetc"
   ]
  },
  {
   "cell_type": "code",
   "execution_count": null,
   "metadata": {
    "collapsed": true
   },
   "outputs": [],
   "source": []
  }
 ],
 "metadata": {
  "anaconda-cloud": {},
  "kernelspec": {
   "display_name": "Python [conda root]",
   "language": "python",
   "name": "conda-root-py"
  },
  "language_info": {
   "codemirror_mode": {
    "name": "ipython",
    "version": 3
   },
   "file_extension": ".py",
   "mimetype": "text/x-python",
   "name": "python",
   "nbconvert_exporter": "python",
   "pygments_lexer": "ipython3",
   "version": "3.5.2"
  }
 },
 "nbformat": 4,
 "nbformat_minor": 2
}
